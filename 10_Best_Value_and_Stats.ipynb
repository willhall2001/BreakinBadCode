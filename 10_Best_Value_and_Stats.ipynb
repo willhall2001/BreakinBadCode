{
 "cells": [
  {
   "cell_type": "markdown",
   "metadata": {},
   "source": [
    "# Visualising Best Value Wines and Country Statistics\n",
    "This code calculates the price-to-rating ratio, visualizes it using a box plot to compare different countries, and generates a Plotly graph to present general statistics for each country."
   ]
  },
  {
   "cell_type": "code",
   "execution_count": 85,
   "metadata": {},
   "outputs": [],
   "source": [
    "import numpy as np\n",
    "import pandas as pd\n",
    "import seaborn as sns\n",
    "import pandas as pd\n",
    "import geopandas as gpd\n",
    "import plotly.express as px\n",
    "import matplotlib.pyplot as plt\n",
    "import pandas as pd\n",
    "import sqlite3\n",
    "import seaborn as sns\n",
    "import plotly.express as px\n",
    "import pandas as pd"
   ]
  },
  {
   "cell_type": "markdown",
   "metadata": {},
   "source": [
    "## Price to Rating Ratio\n",
    "The data in red_wines_final was filtered to identify the best wines at the best prices. A price-to-rating ratio was calculated for each wine to generate a list of the best value options. Additionally, a box plot was created to compare the price-to-rating ratios across countries, highlighting the countries with the best and least value buys."
   ]
  },
  {
   "cell_type": "code",
   "execution_count": 86,
   "metadata": {},
   "outputs": [],
   "source": [
    "# Load the red_wines_final database as a dataframe and drop nan values\n",
    "conn = sqlite3.connect(r'Wine_Raw_Data\\red_wines_final.db')\n",
    "c = conn.cursor()\n",
    "wine_df = pd.read_sql_query(\"SELECT * FROM red_wines\", conn)\n",
    "wine_df = wine_df.dropna()"
   ]
  },
  {
   "cell_type": "code",
   "execution_count": 87,
   "metadata": {},
   "outputs": [],
   "source": [
    "# Remove irrelevant columns\n",
    "wine_df = wine_df.drop(columns = ['id','url_idx'])"
   ]
  },
  {
   "cell_type": "markdown",
   "metadata": {},
   "source": [
    "## Filter by Top Countries\n",
    "The top countries were identified to run our analysis on."
   ]
  },
  {
   "cell_type": "code",
   "execution_count": 88,
   "metadata": {},
   "outputs": [],
   "source": [
    "# Get total bottle counts by country\n",
    "total_bottles = wine_df['Country'].value_counts()\n",
    "\n",
    "# Calculate the 75th percentile threshold\n",
    "percentile_threshold = total_bottles.quantile(0.75)\n",
    "\n",
    "# Filter out countries with bottle counts more than the 75th percentile\n",
    "top_countries = total_bottles[total_bottles > percentile_threshold]\n",
    "\n",
    "# add the top countries to a list\n",
    "countries = top_countries.index.tolist()\n",
    "\n",
    "# Create a filtered dataframe with data from top countries\n",
    "filtered_wine_df = wine_df[wine_df['Country'].isin(countries)]"
   ]
  },
  {
   "cell_type": "markdown",
   "metadata": {},
   "source": [
    "## Filter by Rating\n",
    "The lowest-rated wines were excluded, and the top 25th percentile based on ratings was selected to focus on higher-quality wines for our analysis."
   ]
  },
  {
   "cell_type": "code",
   "execution_count": 89,
   "metadata": {},
   "outputs": [],
   "source": [
    "# calculate the mean and standard deviation from all wines \n",
    "mean_rating = wine_df['Rating'].mean()\n",
    "std_rating = wine_df['Rating'].std()\n",
    "\n",
    "# Define low ratings as those more than 1 standard deviation below the mean\n",
    "low_rating_threshold = mean_rating - std_rating\n",
    "\n",
    "# Filter by low_rating_threshold\n",
    "filtered_wine_df = filtered_wine_df[filtered_wine_df['Rating'] > low_rating_threshold].sort_values(by = 'Rating', ascending = False)\n",
    "\n",
    "# Calculate the 25th percentile threshold\n",
    "low_ratings_threshold = filtered_wine_df['Num_Ratings'].quantile(0.25)\n",
    "\n",
    "# Filter out wines with number of ratings greater than the 25th percentile\n",
    "filtered_wine_df = filtered_wine_df[filtered_wine_df['Num_Ratings']>= low_ratings_threshold]"
   ]
  },
  {
   "cell_type": "markdown",
   "metadata": {},
   "source": [
    "## Create the Price to Ratings Ratio\n",
    "Normalize the ratings and divide by price to find price-to-ratings ratio and create a list of best values wines"
   ]
  },
  {
   "cell_type": "code",
   "execution_count": 90,
   "metadata": {},
   "outputs": [
    {
     "data": {
      "text/html": [
       "<div>\n",
       "<style scoped>\n",
       "    .dataframe tbody tr th:only-of-type {\n",
       "        vertical-align: middle;\n",
       "    }\n",
       "\n",
       "    .dataframe tbody tr th {\n",
       "        vertical-align: top;\n",
       "    }\n",
       "\n",
       "    .dataframe thead th {\n",
       "        text-align: right;\n",
       "    }\n",
       "</style>\n",
       "<table border=\"1\" class=\"dataframe\">\n",
       "  <thead>\n",
       "    <tr style=\"text-align: right;\">\n",
       "      <th></th>\n",
       "      <th>Producer</th>\n",
       "      <th>WineType</th>\n",
       "      <th>Year</th>\n",
       "      <th>Region</th>\n",
       "      <th>Country</th>\n",
       "      <th>URL</th>\n",
       "      <th>Rating</th>\n",
       "      <th>Num_Ratings</th>\n",
       "      <th>Price</th>\n",
       "      <th>Normalized_Rating</th>\n",
       "      <th>ratings_to_price_ratio</th>\n",
       "    </tr>\n",
       "  </thead>\n",
       "  <tbody>\n",
       "    <tr>\n",
       "      <th>0</th>\n",
       "      <td>Lavradores de Feitoria</td>\n",
       "      <td>Douro Tinto</td>\n",
       "      <td>2021.0</td>\n",
       "      <td>Douro</td>\n",
       "      <td>Portugal</td>\n",
       "      <td>https://www.vivino.com/lavradores-de-feitoria-...</td>\n",
       "      <td>4.2</td>\n",
       "      <td>295</td>\n",
       "      <td>15.75</td>\n",
       "      <td>0.333333</td>\n",
       "      <td>0.021164</td>\n",
       "    </tr>\n",
       "    <tr>\n",
       "      <th>1</th>\n",
       "      <td>Cassini</td>\n",
       "      <td>Godfather Red</td>\n",
       "      <td>2021.0</td>\n",
       "      <td>Okanagan Valley</td>\n",
       "      <td>Canada</td>\n",
       "      <td>https://www.vivino.com/cassini-okanagan-valley...</td>\n",
       "      <td>4.4</td>\n",
       "      <td>160</td>\n",
       "      <td>26.59</td>\n",
       "      <td>0.555556</td>\n",
       "      <td>0.020893</td>\n",
       "    </tr>\n",
       "    <tr>\n",
       "      <th>2</th>\n",
       "      <td>Alma Negra</td>\n",
       "      <td>M Blend</td>\n",
       "      <td>2017.0</td>\n",
       "      <td>Mendoza</td>\n",
       "      <td>Argentina</td>\n",
       "      <td>https://www.vivino.com/alma-negra-m-blend/w/11...</td>\n",
       "      <td>4.4</td>\n",
       "      <td>4746</td>\n",
       "      <td>28.39</td>\n",
       "      <td>0.555556</td>\n",
       "      <td>0.019569</td>\n",
       "    </tr>\n",
       "    <tr>\n",
       "      <th>3</th>\n",
       "      <td>Road 31 Wine Co.</td>\n",
       "      <td>Pinot Noir</td>\n",
       "      <td>2023.0</td>\n",
       "      <td>Napa Valley</td>\n",
       "      <td>United States</td>\n",
       "      <td>https://www.vivino.com/road-31-wine-co-pinot-n...</td>\n",
       "      <td>4.4</td>\n",
       "      <td>569</td>\n",
       "      <td>29.80</td>\n",
       "      <td>0.555556</td>\n",
       "      <td>0.018643</td>\n",
       "    </tr>\n",
       "    <tr>\n",
       "      <th>4</th>\n",
       "      <td>Seven Stones</td>\n",
       "      <td>Cabernet Sauvignon</td>\n",
       "      <td>2019.0</td>\n",
       "      <td>Napa Valley</td>\n",
       "      <td>United States</td>\n",
       "      <td>https://www.vivino.com/seven-stones-us-caberne...</td>\n",
       "      <td>4.6</td>\n",
       "      <td>553</td>\n",
       "      <td>43.39</td>\n",
       "      <td>0.777778</td>\n",
       "      <td>0.017925</td>\n",
       "    </tr>\n",
       "  </tbody>\n",
       "</table>\n",
       "</div>"
      ],
      "text/plain": [
       "                 Producer            WineType    Year           Region   \n",
       "0  Lavradores de Feitoria         Douro Tinto  2021.0            Douro  \\\n",
       "1                 Cassini       Godfather Red  2021.0  Okanagan Valley   \n",
       "2              Alma Negra             M Blend  2017.0          Mendoza   \n",
       "3        Road 31 Wine Co.          Pinot Noir  2023.0      Napa Valley   \n",
       "4            Seven Stones  Cabernet Sauvignon  2019.0      Napa Valley   \n",
       "\n",
       "         Country                                                URL  Rating   \n",
       "0       Portugal  https://www.vivino.com/lavradores-de-feitoria-...     4.2  \\\n",
       "1         Canada  https://www.vivino.com/cassini-okanagan-valley...     4.4   \n",
       "2      Argentina  https://www.vivino.com/alma-negra-m-blend/w/11...     4.4   \n",
       "3  United States  https://www.vivino.com/road-31-wine-co-pinot-n...     4.4   \n",
       "4  United States  https://www.vivino.com/seven-stones-us-caberne...     4.6   \n",
       "\n",
       "   Num_Ratings  Price  Normalized_Rating  ratings_to_price_ratio  \n",
       "0          295  15.75           0.333333                0.021164  \n",
       "1          160  26.59           0.555556                0.020893  \n",
       "2         4746  28.39           0.555556                0.019569  \n",
       "3          569  29.80           0.555556                0.018643  \n",
       "4          553  43.39           0.777778                0.017925  "
      ]
     },
     "execution_count": 90,
     "metadata": {},
     "output_type": "execute_result"
    }
   ],
   "source": [
    "# calculate min and max ratings\n",
    "min_rating = filtered_wine_df['Rating'].min()\n",
    "max_rating = filtered_wine_df['Rating'].max()\n",
    "\n",
    "# Create a column for normalized ratings and calculate the rating-to-price ratio\n",
    "filtered_wine_df['Normalized_Rating'] = (filtered_wine_df['Rating'] - min_rating) / (max_rating - min_rating)\n",
    "filtered_wine_df['ratings_to_price_ratio'] = filtered_wine_df['Normalized_Rating'] / filtered_wine_df['Price']\n",
    "\n",
    "# Sort by 'ratings_to_price__ratio' and get the top 10\n",
    "filtered_wine_df = filtered_wine_df.sort_values(by = 'ratings_to_price_ratio', ascending = False)\n",
    "filtered_wine_df = filtered_wine_df.reset_index(drop = True)\n",
    "\n",
    "# Display list of best valued wines\n",
    "filtered_wine_df.head()"
   ]
  },
  {
   "cell_type": "markdown",
   "metadata": {},
   "source": [
    "## Visualise Best Vlue Wines\n",
    "A box plot was created to find the countries with the best and least value wines."
   ]
  },
  {
   "cell_type": "code",
   "execution_count": 91,
   "metadata": {},
   "outputs": [
    {
     "data": {
      "image/png": "[encoded data removed]",
      "text/plain": [
       "<Figure size 2000x1000 with 1 Axes>"
      ]
     },
     "metadata": {},
     "output_type": "display_data"
    }
   ],
   "source": [
    "plt.figure(figsize=(20, 10))\n",
    "sns.boxplot(x='Country', y='ratings_to_price_ratio', data=filtered_wine_df)\n",
    "plt.xlabel(\"Country\", fontsize = 14)\n",
    "plt.ylabel(\"Ratings to Price Ratio\", fontsize = 14)\n",
    "plt.title(\"Ratings to Price Ratio by Country\", fontsize = 20)\n",
    "plt.xticks(rotation=90)\n",
    "plt.ylim(bottom=0)\n",
    "\n",
    "plt.show()"
   ]
  },
  {
   "cell_type": "markdown",
   "metadata": {},
   "source": [
    "# Statsistics Map\n",
    "In addition to best valued wines a Plotly map was created to display general statsistics for each of our popular countries."
   ]
  },
  {
   "cell_type": "code",
   "execution_count": 92,
   "metadata": {},
   "outputs": [],
   "source": [
    "# import Wine_districts_lat_lon.csv to pull a list of countries that were used in our analyses\n",
    "dist_df = pd.read_csv('Final_DataFrames\\Wine_districts_lat_lon.csv')\n",
    "countries = dist_df['Country'].unique().tolist()"
   ]
  },
  {
   "cell_type": "code",
   "execution_count": 93,
   "metadata": {},
   "outputs": [],
   "source": [
    "# create a dataframe from all_filtered_winebottle_v1 run our analysis on all vintage bottle data\n",
    "all_wines_df = pd.read_csv(r'Final_Wines_Of_Interest\\all_filtered_winebottle_v1.csv')"
   ]
  },
  {
   "cell_type": "markdown",
   "metadata": {},
   "source": [
    "## Country Statistics\n",
    "General statistics were collected for the top countries in our dataset. "
   ]
  },
  {
   "cell_type": "code",
   "execution_count": 94,
   "metadata": {},
   "outputs": [],
   "source": [
    "# Filter the DataFrame to include only the specified countries and group the data by country\n",
    "country_statistics = all_wines_df[all_wines_df['Country'].isin(countries)].groupby('Country').agg(\n",
    "    Wine_Count=('Country', 'value_counts'),\n",
    "    Tannin_Mean=('Tannin', 'mean'),\n",
    "    Acidity_Mean=('Acidity', 'mean'),\n",
    "    Intensity_Mean=('Intensity', 'mean'),\n",
    "    Sweetness_Mean=('Sweetness', 'mean'),\n",
    "    Price = ('amount', 'mean'),\n",
    "    Rating = ('ratings_average', 'mean')    \n",
    "    )\n",
    "\n",
    "country_statistics = country_statistics.round(2)\n",
    "country_statistics = country_statistics.reset_index(drop = False)"
   ]
  },
  {
   "cell_type": "code",
   "execution_count": 95,
   "metadata": {},
   "outputs": [],
   "source": [
    "# Find the price to ratio average for each country\n",
    "price_country_statistics = filtered_wine_df[filtered_wine_df['Country'].isin(countries)].groupby('Country').agg(\n",
    "    Price_to_rating = ('ratings_to_price_ratio', 'mean')\n",
    "    )\n",
    "price_country_statistics = price_country_statistics.sort_values(by = 'Price_to_rating')"
   ]
  },
  {
   "cell_type": "code",
   "execution_count": 96,
   "metadata": {},
   "outputs": [],
   "source": [
    "# Merge the dataframes to create a final statistics dataframe\n",
    "merged_statistics_df = pd.merge(price_country_statistics, country_statistics, on = 'Country')\n",
    "merged_statistics_df = merged_statistics_df.sort_values(by = 'Country')\n",
    "merged_statistics_df = merged_statistics_df.reset_index(drop = True)"
   ]
  },
  {
   "cell_type": "markdown",
   "metadata": {},
   "source": [
    "## Identifying Min and Max Satistics\n",
    "The countries with the lowest and highest statistic were organized and sorted in a dataframe. "
   ]
  },
  {
   "cell_type": "code",
   "execution_count": 97,
   "metadata": {},
   "outputs": [
    {
     "name": "stdout",
     "output_type": "stream",
     "text": [
      "          Country            Statistic\n",
      "1       Argentina  Price_to_rating Max\n",
      "11      Argentina   Sweetness_Mean Max\n",
      "2          Canada       Wine_Count Min\n",
      "8          Canada   Intensity_Mean Min\n",
      "10         Canada   Sweetness_Mean Min\n",
      "12         Canada            Price Min\n",
      "4           Chile      Tannin_Mean Min\n",
      "6           Chile     Acidity_Mean Min\n",
      "14          Chile           Rating Min\n",
      "0          France  Price_to_rating Min\n",
      "7          France     Acidity_Mean Max\n",
      "13         France            Price Max\n",
      "3           Italy       Wine_Count Max\n",
      "9        Portugal   Intensity_Mean Max\n",
      "5           Spain      Tannin_Mean Max\n",
      "15  United States           Rating Max\n"
     ]
    }
   ],
   "source": [
    "columns = merged_statistics_df.columns[1:]  # Exclude the 'Country' column\n",
    "\n",
    "# Initialize an empty list to store the results\n",
    "result = []\n",
    "\n",
    "# Loop through each column to identify the countries with min and max values\n",
    "for col in columns:\n",
    "    result.append([merged_statistics_df.loc[merged_statistics_df[col].idxmin(), 'Country'], f\"{col} Min\"])\n",
    "    result.append([merged_statistics_df.loc[merged_statistics_df[col].idxmax(), 'Country'], f\"{col} Max\"])\n",
    "\n",
    "# Convert the result into a DataFrame\n",
    "result_df = pd.DataFrame(result, columns=[\"Country\", \"Statistic\"])\n",
    "result_df = result_df.sort_values(by = 'Country' )\n",
    "print(result_df)"
   ]
  },
  {
   "cell_type": "code",
   "execution_count": 98,
   "metadata": {},
   "outputs": [],
   "source": [
    "# Create a statistics column with data for each country\n",
    "merged_statistics_df['Statistics'] = ['Best Value <br>Most Sweet', \n",
    "                           \"Down Unda\", \n",
    "                           'Least Intense <br>Least Sweet', \n",
    "                           'Least Tannic, <br>Least Acidic', \n",
    "                           'Worst Value! <br>Most Acidic', \n",
    "                           'Most Popular', \n",
    "                           'Highest Intensity', \n",
    "                           'Most Tannic', \n",
    "                           'Highest Rated']"
   ]
  },
  {
   "cell_type": "markdown",
   "metadata": {},
   "source": [
    "## "
   ]
  },
  {
   "cell_type": "markdown",
   "metadata": {},
   "source": [
    "## Country Map and Statistics\n",
    "A final map was created to show the top countries and display their general statistics through a hover feature. "
   ]
  },
  {
   "cell_type": "code",
   "execution_count": 100,
   "metadata": {},
   "outputs": [
    {
     "data": {
      "application/vnd.plotly.v1+json": {
       "config": {
        "plotlyServerURL": "https://plot.ly"
       },
       "data": [
        {
         "coloraxis": "coloraxis",
         "customdata": [
          [
           "Argentina",
           "Best Value <br>Most Sweet"
          ],
          [
           "Australia",
           "Down Unda"
          ],
          [
           "Canada",
           "Least Intense <br>Least Sweet"
          ],
          [
           "Chile",
           "Least Tannic, <br>Least Acidic"
          ],
          [
           "France",
           "Worst Value! <br>Most Acidic"
          ],
          [
           "Italy",
           "Most Popular"
          ],
          [
           "Portugal",
           "Highest Intensity"
          ],
          [
           "Spain",
           "Most Tannic"
          ],
          [
           "United States",
           "Highest Rated"
          ]
         ],
         "geo": "geo",
         "hovertemplate": "Country=%{customdata[0]}<br>Statistics=%{customdata[1]}<br>Color=%{z}<extra></extra>",
         "locationmode": "country names",
         "locations": [
          "Argentina",
          "Australia",
          "Canada",
          "Chile",
          "France",
          "Italy",
          "Portugal",
          "Spain",
          "United States"
         ],
         "name": "",
         "type": "choropleth",
         "z": [
          1,
          1,
          1,
          1,
          1,
          1,
          1,
          1,
          1
         ]
        }
       ],
       "layout": {
        "coloraxis": {
         "cmax": 1.5,
         "cmin": 0.5,
         "colorbar": {
          "title": {
           "text": "Color"
          }
         },
         "colorscale": [
          [
           0,
           "rgb(255,245,240)"
          ],
          [
           0.125,
           "rgb(254,224,210)"
          ],
          [
           0.25,
           "rgb(252,187,161)"
          ],
          [
           0.375,
           "rgb(252,146,114)"
          ],
          [
           0.5,
           "rgb(251,106,74)"
          ],
          [
           0.625,
           "rgb(239,59,44)"
          ],
          [
           0.75,
           "rgb(203,24,29)"
          ],
          [
           0.875,
           "rgb(165,15,21)"
          ],
          [
           1,
           "rgb(103,0,13)"
          ]
         ],
         "showscale": false
        },
        "geo": {
         "center": {},
         "domain": {
          "x": [
           0,
           1
          ],
          "y": [
           0,
           1
          ]
         },
         "landcolor": "lightgray",
         "oceancolor": "lightblue",
         "showcoastlines": true,
         "showcountries": true,
         "showland": true,
         "showocean": true
        },
        "hoverlabel": {
         "bgcolor": "Dark Grey",
         "bordercolor": "white",
         "font": {
          "color": "white",
          "family": "Arial",
          "size": 16,
          "weight": "bold"
         }
        },
        "legend": {
         "tracegroupgap": 0
        },
        "margin": {
         "b": 0,
         "l": 0,
         "r": 0,
         "t": 0
        },
        "template": {
         "data": {
          "bar": [
           {
            "error_x": {
             "color": "#2a3f5f"
            },
            "error_y": {
             "color": "#2a3f5f"
            },
            "marker": {
             "line": {
              "color": "#E5ECF6",
              "width": 0.5
             },
             "pattern": {
              "fillmode": "overlay",
              "size": 10,
              "solidity": 0.2
             }
            },
            "type": "bar"
           }
          ],
          "barpolar": [
           {
            "marker": {
             "line": {
              "color": "#E5ECF6",
              "width": 0.5
             },
             "pattern": {
              "fillmode": "overlay",
              "size": 10,
              "solidity": 0.2
             }
            },
            "type": "barpolar"
           }
          ],
          "carpet": [
           {
            "aaxis": {
             "endlinecolor": "#2a3f5f",
             "gridcolor": "white",
             "linecolor": "white",
             "minorgridcolor": "white",
             "startlinecolor": "#2a3f5f"
            },
            "baxis": {
             "endlinecolor": "#2a3f5f",
             "gridcolor": "white",
             "linecolor": "white",
             "minorgridcolor": "white",
             "startlinecolor": "#2a3f5f"
            },
            "type": "carpet"
           }
          ],
          "choropleth": [
           {
            "colorbar": {
             "outlinewidth": 0,
             "ticks": ""
            },
            "type": "choropleth"
           }
          ],
          "contour": [
           {
            "colorbar": {
             "outlinewidth": 0,
             "ticks": ""
            },
            "colorscale": [
             [
              0,
              "#0d0887"
             ],
             [
              0.1111111111111111,
              "#46039f"
             ],
             [
              0.2222222222222222,
              "#7201a8"
             ],
             [
              0.3333333333333333,
              "#9c179e"
             ],
             [
              0.4444444444444444,
              "#bd3786"
             ],
             [
              0.5555555555555556,
              "#d8576b"
             ],
             [
              0.6666666666666666,
              "#ed7953"
             ],
             [
              0.7777777777777778,
              "#fb9f3a"
             ],
             [
              0.8888888888888888,
              "#fdca26"
             ],
             [
              1,
              "#f0f921"
             ]
            ],
            "type": "contour"
           }
          ],
          "contourcarpet": [
           {
            "colorbar": {
             "outlinewidth": 0,
             "ticks": ""
            },
            "type": "contourcarpet"
           }
          ],
          "heatmap": [
           {
            "colorbar": {
             "outlinewidth": 0,
             "ticks": ""
            },
            "colorscale": [
             [
              0,
              "#0d0887"
             ],
             [
              0.1111111111111111,
              "#46039f"
             ],
             [
              0.2222222222222222,
              "#7201a8"
             ],
             [
              0.3333333333333333,
              "#9c179e"
             ],
             [
              0.4444444444444444,
              "#bd3786"
             ],
             [
              0.5555555555555556,
              "#d8576b"
             ],
             [
              0.6666666666666666,
              "#ed7953"
             ],
             [
              0.7777777777777778,
              "#fb9f3a"
             ],
             [
              0.8888888888888888,
              "#fdca26"
             ],
             [
              1,
              "#f0f921"
             ]
            ],
            "type": "heatmap"
           }
          ],
          "heatmapgl": [
           {
            "colorbar": {
             "outlinewidth": 0,
             "ticks": ""
            },
            "colorscale": [
             [
              0,
              "#0d0887"
             ],
             [
              0.1111111111111111,
              "#46039f"
             ],
             [
              0.2222222222222222,
              "#7201a8"
             ],
             [
              0.3333333333333333,
              "#9c179e"
             ],
             [
              0.4444444444444444,
              "#bd3786"
             ],
             [
              0.5555555555555556,
              "#d8576b"
             ],
             [
              0.6666666666666666,
              "#ed7953"
             ],
             [
              0.7777777777777778,
              "#fb9f3a"
             ],
             [
              0.8888888888888888,
              "#fdca26"
             ],
             [
              1,
              "#f0f921"
             ]
            ],
            "type": "heatmapgl"
           }
          ],
          "histogram": [
           {
            "marker": {
             "pattern": {
              "fillmode": "overlay",
              "size": 10,
              "solidity": 0.2
             }
            },
            "type": "histogram"
           }
          ],
          "histogram2d": [
           {
            "colorbar": {
             "outlinewidth": 0,
             "ticks": ""
            },
            "colorscale": [
             [
              0,
              "#0d0887"
             ],
             [
              0.1111111111111111,
              "#46039f"
             ],
             [
              0.2222222222222222,
              "#7201a8"
             ],
             [
              0.3333333333333333,
              "#9c179e"
             ],
             [
              0.4444444444444444,
              "#bd3786"
             ],
             [
              0.5555555555555556,
              "#d8576b"
             ],
             [
              0.6666666666666666,
              "#ed7953"
             ],
             [
              0.7777777777777778,
              "#fb9f3a"
             ],
             [
              0.8888888888888888,
              "#fdca26"
             ],
             [
              1,
              "#f0f921"
             ]
            ],
            "type": "histogram2d"
           }
          ],
          "histogram2dcontour": [
           {
            "colorbar": {
             "outlinewidth": 0,
             "ticks": ""
            },
            "colorscale": [
             [
              0,
              "#0d0887"
             ],
             [
              0.1111111111111111,
              "#46039f"
             ],
             [
              0.2222222222222222,
              "#7201a8"
             ],
             [
              0.3333333333333333,
              "#9c179e"
             ],
             [
              0.4444444444444444,
              "#bd3786"
             ],
             [
              0.5555555555555556,
              "#d8576b"
             ],
             [
              0.6666666666666666,
              "#ed7953"
             ],
             [
              0.7777777777777778,
              "#fb9f3a"
             ],
             [
              0.8888888888888888,
              "#fdca26"
             ],
             [
              1,
              "#f0f921"
             ]
            ],
            "type": "histogram2dcontour"
           }
          ],
          "mesh3d": [
           {
            "colorbar": {
             "outlinewidth": 0,
             "ticks": ""
            },
            "type": "mesh3d"
           }
          ],
          "parcoords": [
           {
            "line": {
             "colorbar": {
              "outlinewidth": 0,
              "ticks": ""
             }
            },
            "type": "parcoords"
           }
          ],
          "pie": [
           {
            "automargin": true,
            "type": "pie"
           }
          ],
          "scatter": [
           {
            "fillpattern": {
             "fillmode": "overlay",
             "size": 10,
             "solidity": 0.2
            },
            "type": "scatter"
           }
          ],
          "scatter3d": [
           {
            "line": {
             "colorbar": {
              "outlinewidth": 0,
              "ticks": ""
             }
            },
            "marker": {
             "colorbar": {
              "outlinewidth": 0,
              "ticks": ""
             }
            },
            "type": "scatter3d"
           }
          ],
          "scattercarpet": [
           {
            "marker": {
             "colorbar": {
              "outlinewidth": 0,
              "ticks": ""
             }
            },
            "type": "scattercarpet"
           }
          ],
          "scattergeo": [
           {
            "marker": {
             "colorbar": {
              "outlinewidth": 0,
              "ticks": ""
             }
            },
            "type": "scattergeo"
           }
          ],
          "scattergl": [
           {
            "marker": {
             "colorbar": {
              "outlinewidth": 0,
              "ticks": ""
             }
            },
            "type": "scattergl"
           }
          ],
          "scattermapbox": [
           {
            "marker": {
             "colorbar": {
              "outlinewidth": 0,
              "ticks": ""
             }
            },
            "type": "scattermapbox"
           }
          ],
          "scatterpolar": [
           {
            "marker": {
             "colorbar": {
              "outlinewidth": 0,
              "ticks": ""
             }
            },
            "type": "scatterpolar"
           }
          ],
          "scatterpolargl": [
           {
            "marker": {
             "colorbar": {
              "outlinewidth": 0,
              "ticks": ""
             }
            },
            "type": "scatterpolargl"
           }
          ],
          "scatterternary": [
           {
            "marker": {
             "colorbar": {
              "outlinewidth": 0,
              "ticks": ""
             }
            },
            "type": "scatterternary"
           }
          ],
          "surface": [
           {
            "colorbar": {
             "outlinewidth": 0,
             "ticks": ""
            },
            "colorscale": [
             [
              0,
              "#0d0887"
             ],
             [
              0.1111111111111111,
              "#46039f"
             ],
             [
              0.2222222222222222,
              "#7201a8"
             ],
             [
              0.3333333333333333,
              "#9c179e"
             ],
             [
              0.4444444444444444,
              "#bd3786"
             ],
             [
              0.5555555555555556,
              "#d8576b"
             ],
             [
              0.6666666666666666,
              "#ed7953"
             ],
             [
              0.7777777777777778,
              "#fb9f3a"
             ],
             [
              0.8888888888888888,
              "#fdca26"
             ],
             [
              1,
              "#f0f921"
             ]
            ],
            "type": "surface"
           }
          ],
          "table": [
           {
            "cells": {
             "fill": {
              "color": "#EBF0F8"
             },
             "line": {
              "color": "white"
             }
            },
            "header": {
             "fill": {
              "color": "#C8D4E3"
             },
             "line": {
              "color": "white"
             }
            },
            "type": "table"
           }
          ]
         },
         "layout": {
          "annotationdefaults": {
           "arrowcolor": "#2a3f5f",
           "arrowhead": 0,
           "arrowwidth": 1
          },
          "autotypenumbers": "strict",
          "coloraxis": {
           "colorbar": {
            "outlinewidth": 0,
            "ticks": ""
           }
          },
          "colorscale": {
           "diverging": [
            [
             0,
             "#8e0152"
            ],
            [
             0.1,
             "#c51b7d"
            ],
            [
             0.2,
             "#de77ae"
            ],
            [
             0.3,
             "#f1b6da"
            ],
            [
             0.4,
             "#fde0ef"
            ],
            [
             0.5,
             "#f7f7f7"
            ],
            [
             0.6,
             "#e6f5d0"
            ],
            [
             0.7,
             "#b8e186"
            ],
            [
             0.8,
             "#7fbc41"
            ],
            [
             0.9,
             "#4d9221"
            ],
            [
             1,
             "#276419"
            ]
           ],
           "sequential": [
            [
             0,
             "#0d0887"
            ],
            [
             0.1111111111111111,
             "#46039f"
            ],
            [
             0.2222222222222222,
             "#7201a8"
            ],
            [
             0.3333333333333333,
             "#9c179e"
            ],
            [
             0.4444444444444444,
             "#bd3786"
            ],
            [
             0.5555555555555556,
             "#d8576b"
            ],
            [
             0.6666666666666666,
             "#ed7953"
            ],
            [
             0.7777777777777778,
             "#fb9f3a"
            ],
            [
             0.8888888888888888,
             "#fdca26"
            ],
            [
             1,
             "#f0f921"
            ]
           ],
           "sequentialminus": [
            [
             0,
             "#0d0887"
            ],
            [
             0.1111111111111111,
             "#46039f"
            ],
            [
             0.2222222222222222,
             "#7201a8"
            ],
            [
             0.3333333333333333,
             "#9c179e"
            ],
            [
             0.4444444444444444,
             "#bd3786"
            ],
            [
             0.5555555555555556,
             "#d8576b"
            ],
            [
             0.6666666666666666,
             "#ed7953"
            ],
            [
             0.7777777777777778,
             "#fb9f3a"
            ],
            [
             0.8888888888888888,
             "#fdca26"
            ],
            [
             1,
             "#f0f921"
            ]
           ]
          },
          "colorway": [
           "#636efa",
           "#EF553B",
           "#00cc96",
           "#ab63fa",
           "#FFA15A",
           "#19d3f3",
           "#FF6692",
           "#B6E880",
           "#FF97FF",
           "#FECB52"
          ],
          "font": {
           "color": "#2a3f5f"
          },
          "geo": {
           "bgcolor": "white",
           "lakecolor": "white",
           "landcolor": "#E5ECF6",
           "showlakes": true,
           "showland": true,
           "subunitcolor": "white"
          },
          "hoverlabel": {
           "align": "left"
          },
          "hovermode": "closest",
          "mapbox": {
           "style": "light"
          },
          "paper_bgcolor": "white",
          "plot_bgcolor": "#E5ECF6",
          "polar": {
           "angularaxis": {
            "gridcolor": "white",
            "linecolor": "white",
            "ticks": ""
           },
           "bgcolor": "#E5ECF6",
           "radialaxis": {
            "gridcolor": "white",
            "linecolor": "white",
            "ticks": ""
           }
          },
          "scene": {
           "xaxis": {
            "backgroundcolor": "#E5ECF6",
            "gridcolor": "white",
            "gridwidth": 2,
            "linecolor": "white",
            "showbackground": true,
            "ticks": "",
            "zerolinecolor": "white"
           },
           "yaxis": {
            "backgroundcolor": "#E5ECF6",
            "gridcolor": "white",
            "gridwidth": 2,
            "linecolor": "white",
            "showbackground": true,
            "ticks": "",
            "zerolinecolor": "white"
           },
           "zaxis": {
            "backgroundcolor": "#E5ECF6",
            "gridcolor": "white",
            "gridwidth": 2,
            "linecolor": "white",
            "showbackground": true,
            "ticks": "",
            "zerolinecolor": "white"
           }
          },
          "shapedefaults": {
           "line": {
            "color": "#2a3f5f"
           }
          },
          "ternary": {
           "aaxis": {
            "gridcolor": "white",
            "linecolor": "white",
            "ticks": ""
           },
           "baxis": {
            "gridcolor": "white",
            "linecolor": "white",
            "ticks": ""
           },
           "bgcolor": "#E5ECF6",
           "caxis": {
            "gridcolor": "white",
            "linecolor": "white",
            "ticks": ""
           }
          },
          "title": {
           "x": 0.05
          },
          "xaxis": {
           "automargin": true,
           "gridcolor": "white",
           "linecolor": "white",
           "ticks": "",
           "title": {
            "standoff": 15
           },
           "zerolinecolor": "white",
           "zerolinewidth": 2
          },
          "yaxis": {
           "automargin": true,
           "gridcolor": "white",
           "linecolor": "white",
           "ticks": "",
           "title": {
            "standoff": 15
           },
           "zerolinecolor": "white",
           "zerolinewidth": 2
          }
         }
        },
        "title": {
         "text": "Countries and Statistics",
         "x": 0.5
        },
        "updatemenus": [
         {
          "buttons": [
           {
            "args": [
             {
              "z": [
               [
                1,
                1,
                1,
                1,
                1,
                1,
                1,
                1,
                1
               ]
              ]
             }
            ],
            "label": "Show All",
            "method": "update"
           },
           {
            "args": [
             {
              "z": [
               [
                1,
                0.7,
                0.7,
                0.7,
                0.7,
                0.7,
                0.7,
                0.7,
                0.7
               ]
              ]
             },
             {
              "color_continuous_scale": "Reds"
             }
            ],
            "label": "Argentina",
            "method": "update"
           },
           {
            "args": [
             {
              "z": [
               [
                0.7,
                1,
                0.7,
                0.7,
                0.7,
                0.7,
                0.7,
                0.7,
                0.7
               ]
              ]
             },
             {
              "color_continuous_scale": "Reds"
             }
            ],
            "label": "Australia",
            "method": "update"
           },
           {
            "args": [
             {
              "z": [
               [
                0.7,
                0.7,
                1,
                0.7,
                0.7,
                0.7,
                0.7,
                0.7,
                0.7
               ]
              ]
             },
             {
              "color_continuous_scale": "Reds"
             }
            ],
            "label": "Canada",
            "method": "update"
           },
           {
            "args": [
             {
              "z": [
               [
                0.7,
                0.7,
                0.7,
                1,
                0.7,
                0.7,
                0.7,
                0.7,
                0.7
               ]
              ]
             },
             {
              "color_continuous_scale": "Reds"
             }
            ],
            "label": "Chile",
            "method": "update"
           },
           {
            "args": [
             {
              "z": [
               [
                0.7,
                0.7,
                0.7,
                0.7,
                1,
                0.7,
                0.7,
                0.7,
                0.7
               ]
              ]
             },
             {
              "color_continuous_scale": "Reds"
             }
            ],
            "label": "France",
            "method": "update"
           },
           {
            "args": [
             {
              "z": [
               [
                0.7,
                0.7,
                0.7,
                0.7,
                0.7,
                1,
                0.7,
                0.7,
                0.7
               ]
              ]
             },
             {
              "color_continuous_scale": "Reds"
             }
            ],
            "label": "Italy",
            "method": "update"
           },
           {
            "args": [
             {
              "z": [
               [
                0.7,
                0.7,
                0.7,
                0.7,
                0.7,
                0.7,
                1,
                0.7,
                0.7
               ]
              ]
             },
             {
              "color_continuous_scale": "Reds"
             }
            ],
            "label": "Portugal",
            "method": "update"
           },
           {
            "args": [
             {
              "z": [
               [
                0.7,
                0.7,
                0.7,
                0.7,
                0.7,
                0.7,
                0.7,
                1,
                0.7
               ]
              ]
             },
             {
              "color_continuous_scale": "Reds"
             }
            ],
            "label": "Spain",
            "method": "update"
           },
           {
            "args": [
             {
              "z": [
               [
                0.7,
                0.7,
                0.7,
                0.7,
                0.7,
                0.7,
                0.7,
                0.7,
                1
               ]
              ]
             },
             {
              "color_continuous_scale": "Reds"
             }
            ],
            "label": "United States",
            "method": "update"
           }
          ],
          "direction": "down",
          "showactive": true,
          "x": 0.3,
          "xanchor": "center",
          "y": 1.1,
          "yanchor": "top"
         }
        ]
       }
      }
     },
     "metadata": {},
     "output_type": "display_data"
    }
   ],
   "source": [
    "# Add a uniform colour column for all countries\n",
    "merged_statistics_df['Color'] = 1  # All countries have the same colour initially\n",
    "\n",
    "# Create the choropleth map\n",
    "fig = px.choropleth(\n",
    "    data_frame=merged_statistics_df,\n",
    "    locations=\"Country\",\n",
    "    locationmode=\"country names\",\n",
    "    color=\"Color\",\n",
    "    color_continuous_scale=\"Reds\",\n",
    "    range_color=(0.5, 1.5),\n",
    "    title=\"Countries and Statistics\",\n",
    "    hover_data=[\"Country\", \"Statistics\"]\n",
    ")\n",
    "\n",
    "# Update the layout to set the colour for countries not in the DataFrame\n",
    "fig.update_geos(\n",
    "    showcoastlines=True,\n",
    "    showland=True,\n",
    "    landcolor=\"lightgray\",\n",
    "    showocean=True,\n",
    "    oceancolor=\"lightblue\",\n",
    "    showcountries=True\n",
    ")\n",
    "\n",
    "# Add dropdown functionality to adjust color values\n",
    "fig.update_layout(\n",
    "    hoverlabel=dict(\n",
    "        bgcolor=\"Dark Grey\",  \n",
    "        font_size=16,     \n",
    "        font_family=\"Arial\",  \n",
    "        font_color=\"white\",  \n",
    "        bordercolor=\"white\",  \n",
    "        font_weight=\"bold\"  \n",
    "    ),\n",
    "    updatemenus=[\n",
    "        {\n",
    "            'buttons': [\n",
    "                {\n",
    "                    'label': 'Show All',\n",
    "                    'method': 'update',\n",
    "                    'args': [\n",
    "                        {'z': [merged_statistics_df['Color']]},  # Reset all countries to full color\n",
    "                    ]\n",
    "                }\n",
    "            ] + [\n",
    "                {\n",
    "                    'label': country,\n",
    "                    'method': 'update',\n",
    "                    'args': [\n",
    "                        {'z': [merged_statistics_df['Color'].where(\n",
    "                            merged_statistics_df['Country'] == country, 0.7)]},  # Highlight selected country\n",
    "                        {'color_continuous_scale': \"Reds\",}  # Reds gradient for the selected country\n",
    "                    ]\n",
    "                }\n",
    "                for country in merged_statistics_df['Country']\n",
    "            ],\n",
    "            'direction': 'down',\n",
    "            'showactive': True,\n",
    "            'x': 0.3,\n",
    "            'xanchor': 'center',\n",
    "            'y': 1.1,\n",
    "            'yanchor': 'top',\n",
    "            \n",
    "        }\n",
    "    ]\n",
    ")\n",
    "\n",
    "# Remove margins for better display\n",
    "fig.update_layout(margin=dict(l=0, r=0, t=0, b=0))\n",
    "fig.update_layout(coloraxis_showscale=False, title_x=0.5)\n",
    "\n",
    "\n",
    "# Show the plot\n",
    "fig.show()\n",
    "fig.write_html(r\"Pictures\\plotly_chart.html\")\n"
   ]
  },
  {
   "cell_type": "code",
   "execution_count": null,
   "metadata": {},
   "outputs": [],
   "source": []
  }
 ],
 "metadata": {
  "kernelspec": {
   "display_name": "Python 3",
   "language": "python",
   "name": "python3"
  },
  "language_info": {
   "codemirror_mode": {
    "name": "ipython",
    "version": 3
   },
   "file_extension": ".py",
   "mimetype": "text/x-python",
   "name": "python",
   "nbconvert_exporter": "python",
   "pygments_lexer": "ipython3",
   "version": "3.10.11"
  }
 },
 "nbformat": 4,
 "nbformat_minor": 2
}
