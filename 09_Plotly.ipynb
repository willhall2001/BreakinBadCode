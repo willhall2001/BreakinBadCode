{
 "cells": [
  {
   "cell_type": "code",
   "execution_count": null,
   "metadata": {},
   "outputs": [],
   "source": [
    "import numpy as np\n",
    "import pandas as pd\n",
    "import seaborn as sns\n",
    "import datetime\n",
    "import pytz\n",
    "import pandas as pd\n",
    "import matplotlib.pyplot as plt\n",
    "import geopandas as gpd\n",
    "import plotly.express as px"
   ]
  },
  {
   "cell_type": "code",
   "execution_count": null,
   "metadata": {},
   "outputs": [],
   "source": [
    "import numpy as np\n",
    "import matplotlib.pyplot as plt\n",
    "import pandas as pd\n",
    "import sqlite3\n",
    "import seaborn as sns"
   ]
  },
  {
   "cell_type": "code",
   "execution_count": null,
   "metadata": {},
   "outputs": [],
   "source": [
    "conn = sqlite3.connect(r'C:\\Users\\j1wag\\Desktop\\Masters Year 1\\Semester 1\\CME538\\Final Assignment\\Github\\BreakinBadCode\\Wine_Raw_Data\\red_wines_final.db')\n",
    "c = conn.cursor()\n",
    "wine_df = pd.read_sql_query(\"SELECT * FROM red_wines\", conn)\n",
    "wine_df = wine_df.dropna()"
   ]
  },
  {
   "cell_type": "markdown",
   "metadata": {},
   "source": [
    "Clean up the dataframe; remove irrelevant columns"
   ]
  },
  {
   "cell_type": "code",
   "execution_count": null,
   "metadata": {},
   "outputs": [],
   "source": [
    "wine_df = wine_df.drop(columns = ['id','url_idx'])"
   ]
  },
  {
   "cell_type": "markdown",
   "metadata": {},
   "source": [
    "Remove outliers"
   ]
  },
  {
   "cell_type": "code",
   "execution_count": null,
   "metadata": {},
   "outputs": [
    {
     "data": {
      "text/plain": [
       "Country\n",
       "United States    6705\n",
       "Italy            6172\n",
       "France           4929\n",
       "Spain            1088\n",
       "Australia         796\n",
       "Canada            759\n",
       "Argentina         559\n",
       "Chile             310\n",
       "Portugal          238\n",
       "Name: count, dtype: int64"
      ]
     },
     "execution_count": 78,
     "metadata": {},
     "output_type": "execute_result"
    }
   ],
   "source": [
    "# Get total bottle counts by country\n",
    "total_bottles = wine_df['Country'].value_counts()\n",
    "\n",
    "# Calculate the 75th percentile threshold\n",
    "percentile_threshold = total_bottles.quantile(0.75)\n",
    "\n",
    "# Filter out countries with bottle counts more than the 75th percentile\n",
    "top_countries = total_bottles[total_bottles > percentile_threshold]\n",
    "\n",
    "# add the top countries to a list\n",
    "countries = top_countries.index.tolist()\n",
    "top_countries"
   ]
  },
  {
   "cell_type": "code",
   "execution_count": null,
   "metadata": {},
   "outputs": [
    {
     "data": {
      "text/plain": [
       "array(['Italy', 'France', 'United States', 'Australia', 'Spain', 'Chile',\n",
       "       'Portugal', 'Argentina', 'Canada'], dtype=object)"
      ]
     },
     "execution_count": 79,
     "metadata": {},
     "output_type": "execute_result"
    }
   ],
   "source": [
    "filtered_wine_df = wine_df[wine_df['Country'].isin(countries)]\n",
    "filtered_wine_df['Country'].unique()"
   ]
  },
  {
   "cell_type": "code",
   "execution_count": null,
   "metadata": {},
   "outputs": [
    {
     "data": {
      "text/html": [
       "<div>\n",
       "<style scoped>\n",
       "    .dataframe tbody tr th:only-of-type {\n",
       "        vertical-align: middle;\n",
       "    }\n",
       "\n",
       "    .dataframe tbody tr th {\n",
       "        vertical-align: top;\n",
       "    }\n",
       "\n",
       "    .dataframe thead th {\n",
       "        text-align: right;\n",
       "    }\n",
       "</style>\n",
       "<table border=\"1\" class=\"dataframe\">\n",
       "  <thead>\n",
       "    <tr style=\"text-align: right;\">\n",
       "      <th></th>\n",
       "      <th>Producer</th>\n",
       "      <th>WineType</th>\n",
       "      <th>Year</th>\n",
       "      <th>Region</th>\n",
       "      <th>Country</th>\n",
       "      <th>URL</th>\n",
       "      <th>Rating</th>\n",
       "      <th>Num_Ratings</th>\n",
       "      <th>Price</th>\n",
       "    </tr>\n",
       "  </thead>\n",
       "  <tbody>\n",
       "    <tr>\n",
       "      <th>80</th>\n",
       "      <td>Schrader</td>\n",
       "      <td>Cabernet Sauvignon Old Sparky Beckstoffer To K...</td>\n",
       "      <td>2015.0</td>\n",
       "      <td>Napa Valley</td>\n",
       "      <td>United States</td>\n",
       "      <td>https://www.vivino.com/schrader-cellars-cabern...</td>\n",
       "      <td>4.9</td>\n",
       "      <td>37</td>\n",
       "      <td>3499.99</td>\n",
       "    </tr>\n",
       "    <tr>\n",
       "      <th>79</th>\n",
       "      <td>Château Pétrus</td>\n",
       "      <td>Pomerol</td>\n",
       "      <td>1960.0</td>\n",
       "      <td>Pomerol</td>\n",
       "      <td>France</td>\n",
       "      <td>https://www.vivino.com/chateau-petrus-pomerol/...</td>\n",
       "      <td>4.9</td>\n",
       "      <td>64</td>\n",
       "      <td>6264.57</td>\n",
       "    </tr>\n",
       "    <tr>\n",
       "      <th>78</th>\n",
       "      <td>Hundred Acre</td>\n",
       "      <td>Kayli Morgan Vineyard Cabernet Sauvignon</td>\n",
       "      <td>2017.0</td>\n",
       "      <td>Napa Valley</td>\n",
       "      <td>United States</td>\n",
       "      <td>https://www.vivino.com/hundred-acre-kayli-morg...</td>\n",
       "      <td>4.9</td>\n",
       "      <td>86</td>\n",
       "      <td>979.99</td>\n",
       "    </tr>\n",
       "    <tr>\n",
       "      <th>101</th>\n",
       "      <td>Schrader</td>\n",
       "      <td>Cabernet Sauvignon RBS Beckstoffer To Kalon Vi...</td>\n",
       "      <td>2009.0</td>\n",
       "      <td>Oakville</td>\n",
       "      <td>United States</td>\n",
       "      <td>https://www.vivino.com/schrader-cellars-cabern...</td>\n",
       "      <td>4.8</td>\n",
       "      <td>208</td>\n",
       "      <td>644.07</td>\n",
       "    </tr>\n",
       "    <tr>\n",
       "      <th>88</th>\n",
       "      <td>Château Pétrus</td>\n",
       "      <td>Pomerol</td>\n",
       "      <td>1990.0</td>\n",
       "      <td>Pomerol</td>\n",
       "      <td>France</td>\n",
       "      <td>https://www.vivino.com/chateau-petrus-pomerol/...</td>\n",
       "      <td>4.8</td>\n",
       "      <td>1245</td>\n",
       "      <td>6923.00</td>\n",
       "    </tr>\n",
       "    <tr>\n",
       "      <th>...</th>\n",
       "      <td>...</td>\n",
       "      <td>...</td>\n",
       "      <td>...</td>\n",
       "      <td>...</td>\n",
       "      <td>...</td>\n",
       "      <td>...</td>\n",
       "      <td>...</td>\n",
       "      <td>...</td>\n",
       "      <td>...</td>\n",
       "    </tr>\n",
       "    <tr>\n",
       "      <th>15853</th>\n",
       "      <td>Tenuta Perano</td>\n",
       "      <td>Chianti Classico</td>\n",
       "      <td>2018.0</td>\n",
       "      <td>Chianti Classico</td>\n",
       "      <td>Italy</td>\n",
       "      <td>https://www.vivino.com/tenuta-perano-chianti-c...</td>\n",
       "      <td>3.9</td>\n",
       "      <td>1101</td>\n",
       "      <td>35.90</td>\n",
       "    </tr>\n",
       "    <tr>\n",
       "      <th>15854</th>\n",
       "      <td>Louis M. Martini</td>\n",
       "      <td>Sonoma County Cabernet Sauvignon</td>\n",
       "      <td>2020.0</td>\n",
       "      <td>Sonoma County</td>\n",
       "      <td>United States</td>\n",
       "      <td>https://www.vivino.com/louis-m-martini-sonoma-...</td>\n",
       "      <td>3.9</td>\n",
       "      <td>1100</td>\n",
       "      <td>36.99</td>\n",
       "    </tr>\n",
       "    <tr>\n",
       "      <th>15855</th>\n",
       "      <td>Michael David Winery</td>\n",
       "      <td>Freakshow Zinfandel</td>\n",
       "      <td>2019.0</td>\n",
       "      <td>Lodi</td>\n",
       "      <td>United States</td>\n",
       "      <td>https://www.vivino.com/michael-david-winery-fr...</td>\n",
       "      <td>3.9</td>\n",
       "      <td>1042</td>\n",
       "      <td>38.99</td>\n",
       "    </tr>\n",
       "    <tr>\n",
       "      <th>15856</th>\n",
       "      <td>Mer Soleil</td>\n",
       "      <td>Reserve Pinot Noir</td>\n",
       "      <td>2019.0</td>\n",
       "      <td>Santa Lucia Highlands</td>\n",
       "      <td>United States</td>\n",
       "      <td>https://www.vivino.com/mer-soleil-reserve-pino...</td>\n",
       "      <td>3.9</td>\n",
       "      <td>828</td>\n",
       "      <td>37.99</td>\n",
       "    </tr>\n",
       "    <tr>\n",
       "      <th>21415</th>\n",
       "      <td>Castle Rock</td>\n",
       "      <td>Reserve Petite Sirah</td>\n",
       "      <td>2019.0</td>\n",
       "      <td>Lake County</td>\n",
       "      <td>United States</td>\n",
       "      <td>https://www.vivino.com/castle-rock-winery-rese...</td>\n",
       "      <td>3.9</td>\n",
       "      <td>27</td>\n",
       "      <td>20.00</td>\n",
       "    </tr>\n",
       "  </tbody>\n",
       "</table>\n",
       "<p>17457 rows × 9 columns</p>\n",
       "</div>"
      ],
      "text/plain": [
       "                   Producer   \n",
       "80                 Schrader  \\\n",
       "79           Château Pétrus   \n",
       "78             Hundred Acre   \n",
       "101                Schrader   \n",
       "88           Château Pétrus   \n",
       "...                     ...   \n",
       "15853         Tenuta Perano   \n",
       "15854      Louis M. Martini   \n",
       "15855  Michael David Winery   \n",
       "15856            Mer Soleil   \n",
       "21415           Castle Rock   \n",
       "\n",
       "                                                WineType    Year   \n",
       "80     Cabernet Sauvignon Old Sparky Beckstoffer To K...  2015.0  \\\n",
       "79                                               Pomerol  1960.0   \n",
       "78              Kayli Morgan Vineyard Cabernet Sauvignon  2017.0   \n",
       "101    Cabernet Sauvignon RBS Beckstoffer To Kalon Vi...  2009.0   \n",
       "88                                               Pomerol  1990.0   \n",
       "...                                                  ...     ...   \n",
       "15853                                   Chianti Classico  2018.0   \n",
       "15854                   Sonoma County Cabernet Sauvignon  2020.0   \n",
       "15855                                Freakshow Zinfandel  2019.0   \n",
       "15856                                 Reserve Pinot Noir  2019.0   \n",
       "21415                               Reserve Petite Sirah  2019.0   \n",
       "\n",
       "                      Region        Country   \n",
       "80               Napa Valley  United States  \\\n",
       "79                   Pomerol         France   \n",
       "78               Napa Valley  United States   \n",
       "101                 Oakville  United States   \n",
       "88                   Pomerol         France   \n",
       "...                      ...            ...   \n",
       "15853       Chianti Classico          Italy   \n",
       "15854          Sonoma County  United States   \n",
       "15855                   Lodi  United States   \n",
       "15856  Santa Lucia Highlands  United States   \n",
       "21415            Lake County  United States   \n",
       "\n",
       "                                                     URL  Rating  Num_Ratings   \n",
       "80     https://www.vivino.com/schrader-cellars-cabern...     4.9           37  \\\n",
       "79     https://www.vivino.com/chateau-petrus-pomerol/...     4.9           64   \n",
       "78     https://www.vivino.com/hundred-acre-kayli-morg...     4.9           86   \n",
       "101    https://www.vivino.com/schrader-cellars-cabern...     4.8          208   \n",
       "88     https://www.vivino.com/chateau-petrus-pomerol/...     4.8         1245   \n",
       "...                                                  ...     ...          ...   \n",
       "15853  https://www.vivino.com/tenuta-perano-chianti-c...     3.9         1101   \n",
       "15854  https://www.vivino.com/louis-m-martini-sonoma-...     3.9         1100   \n",
       "15855  https://www.vivino.com/michael-david-winery-fr...     3.9         1042   \n",
       "15856  https://www.vivino.com/mer-soleil-reserve-pino...     3.9          828   \n",
       "21415  https://www.vivino.com/castle-rock-winery-rese...     3.9           27   \n",
       "\n",
       "         Price  \n",
       "80     3499.99  \n",
       "79     6264.57  \n",
       "78      979.99  \n",
       "101     644.07  \n",
       "88     6923.00  \n",
       "...        ...  \n",
       "15853    35.90  \n",
       "15854    36.99  \n",
       "15855    38.99  \n",
       "15856    37.99  \n",
       "21415    20.00  \n",
       "\n",
       "[17457 rows x 9 columns]"
      ]
     },
     "execution_count": 80,
     "metadata": {},
     "output_type": "execute_result"
    }
   ],
   "source": [
    "# Remove outliers based on Ratings\n",
    "\n",
    "# create a copy of the original dataframe\n",
    "filtered_wine_df = filtered_wine_df.copy()\n",
    "\n",
    "# calculate the mean and standard deviation\n",
    "mean_rating = wine_df['Rating'].mean()\n",
    "std_rating = wine_df['Rating'].std()\n",
    "\n",
    "# Define low ratings as those more than 1 standard deviation below the mean\n",
    "low_rating_threshold = mean_rating - std_rating\n",
    "\n",
    "filtered_wine_df = filtered_wine_df[filtered_wine_df['Rating'] > low_rating_threshold].sort_values(by = 'Rating', ascending = False)\n",
    "filtered_wine_df"
   ]
  },
  {
   "cell_type": "code",
   "execution_count": 67,
   "metadata": {},
   "outputs": [
    {
     "data": {
      "text/html": [
       "<div>\n",
       "<style scoped>\n",
       "    .dataframe tbody tr th:only-of-type {\n",
       "        vertical-align: middle;\n",
       "    }\n",
       "\n",
       "    .dataframe tbody tr th {\n",
       "        vertical-align: top;\n",
       "    }\n",
       "\n",
       "    .dataframe thead th {\n",
       "        text-align: right;\n",
       "    }\n",
       "</style>\n",
       "<table border=\"1\" class=\"dataframe\">\n",
       "  <thead>\n",
       "    <tr style=\"text-align: right;\">\n",
       "      <th></th>\n",
       "      <th>Producer</th>\n",
       "      <th>WineType</th>\n",
       "      <th>Year</th>\n",
       "      <th>Region</th>\n",
       "      <th>Country</th>\n",
       "      <th>URL</th>\n",
       "      <th>Rating</th>\n",
       "      <th>Num_Ratings</th>\n",
       "      <th>Price</th>\n",
       "    </tr>\n",
       "  </thead>\n",
       "  <tbody>\n",
       "    <tr>\n",
       "      <th>101</th>\n",
       "      <td>Schrader</td>\n",
       "      <td>Cabernet Sauvignon RBS Beckstoffer To Kalon Vi...</td>\n",
       "      <td>2009.0</td>\n",
       "      <td>Oakville</td>\n",
       "      <td>United States</td>\n",
       "      <td>https://www.vivino.com/schrader-cellars-cabern...</td>\n",
       "      <td>4.8</td>\n",
       "      <td>208</td>\n",
       "      <td>644.07</td>\n",
       "    </tr>\n",
       "    <tr>\n",
       "      <th>88</th>\n",
       "      <td>Château Pétrus</td>\n",
       "      <td>Pomerol</td>\n",
       "      <td>1990.0</td>\n",
       "      <td>Pomerol</td>\n",
       "      <td>France</td>\n",
       "      <td>https://www.vivino.com/chateau-petrus-pomerol/...</td>\n",
       "      <td>4.8</td>\n",
       "      <td>1245</td>\n",
       "      <td>6923.00</td>\n",
       "    </tr>\n",
       "    <tr>\n",
       "      <th>85</th>\n",
       "      <td>Château Latour</td>\n",
       "      <td>Grand Vin Pauillac (Premier Grand Cru Classé)</td>\n",
       "      <td>1982.0</td>\n",
       "      <td>Pauillac</td>\n",
       "      <td>France</td>\n",
       "      <td>https://www.vivino.com/fr-chateau-latour-grand...</td>\n",
       "      <td>4.8</td>\n",
       "      <td>1445</td>\n",
       "      <td>2784.25</td>\n",
       "    </tr>\n",
       "    <tr>\n",
       "      <th>86</th>\n",
       "      <td>Château Haut-Brion</td>\n",
       "      <td>Pessac-Léognan (Premier Grand Cru Classé)</td>\n",
       "      <td>1990.0</td>\n",
       "      <td>Pessac-Léognan</td>\n",
       "      <td>France</td>\n",
       "      <td>https://www.vivino.com/haut-brion-pessac-leogn...</td>\n",
       "      <td>4.8</td>\n",
       "      <td>1412</td>\n",
       "      <td>1736.00</td>\n",
       "    </tr>\n",
       "    <tr>\n",
       "      <th>87</th>\n",
       "      <td>Vega Sicilia</td>\n",
       "      <td>Unico (Gran Reserva)</td>\n",
       "      <td>1998.0</td>\n",
       "      <td>Ribera del Duero</td>\n",
       "      <td>Spain</td>\n",
       "      <td>https://www.vivino.com/vega-sicilia-unico-gran...</td>\n",
       "      <td>4.8</td>\n",
       "      <td>1320</td>\n",
       "      <td>950.00</td>\n",
       "    </tr>\n",
       "    <tr>\n",
       "      <th>...</th>\n",
       "      <td>...</td>\n",
       "      <td>...</td>\n",
       "      <td>...</td>\n",
       "      <td>...</td>\n",
       "      <td>...</td>\n",
       "      <td>...</td>\n",
       "      <td>...</td>\n",
       "      <td>...</td>\n",
       "      <td>...</td>\n",
       "    </tr>\n",
       "    <tr>\n",
       "      <th>15852</th>\n",
       "      <td>Michael David Winery</td>\n",
       "      <td>Freakshow Cabernet Sauvignon</td>\n",
       "      <td>2021.0</td>\n",
       "      <td>Lodi</td>\n",
       "      <td>United States</td>\n",
       "      <td>https://www.vivino.com/michael-david-winery-fr...</td>\n",
       "      <td>3.9</td>\n",
       "      <td>1218</td>\n",
       "      <td>37.99</td>\n",
       "    </tr>\n",
       "    <tr>\n",
       "      <th>15853</th>\n",
       "      <td>Tenuta Perano</td>\n",
       "      <td>Chianti Classico</td>\n",
       "      <td>2018.0</td>\n",
       "      <td>Chianti Classico</td>\n",
       "      <td>Italy</td>\n",
       "      <td>https://www.vivino.com/tenuta-perano-chianti-c...</td>\n",
       "      <td>3.9</td>\n",
       "      <td>1101</td>\n",
       "      <td>35.90</td>\n",
       "    </tr>\n",
       "    <tr>\n",
       "      <th>15854</th>\n",
       "      <td>Louis M. Martini</td>\n",
       "      <td>Sonoma County Cabernet Sauvignon</td>\n",
       "      <td>2020.0</td>\n",
       "      <td>Sonoma County</td>\n",
       "      <td>United States</td>\n",
       "      <td>https://www.vivino.com/louis-m-martini-sonoma-...</td>\n",
       "      <td>3.9</td>\n",
       "      <td>1100</td>\n",
       "      <td>36.99</td>\n",
       "    </tr>\n",
       "    <tr>\n",
       "      <th>15855</th>\n",
       "      <td>Michael David Winery</td>\n",
       "      <td>Freakshow Zinfandel</td>\n",
       "      <td>2019.0</td>\n",
       "      <td>Lodi</td>\n",
       "      <td>United States</td>\n",
       "      <td>https://www.vivino.com/michael-david-winery-fr...</td>\n",
       "      <td>3.9</td>\n",
       "      <td>1042</td>\n",
       "      <td>38.99</td>\n",
       "    </tr>\n",
       "    <tr>\n",
       "      <th>15856</th>\n",
       "      <td>Mer Soleil</td>\n",
       "      <td>Reserve Pinot Noir</td>\n",
       "      <td>2019.0</td>\n",
       "      <td>Santa Lucia Highlands</td>\n",
       "      <td>United States</td>\n",
       "      <td>https://www.vivino.com/mer-soleil-reserve-pino...</td>\n",
       "      <td>3.9</td>\n",
       "      <td>828</td>\n",
       "      <td>37.99</td>\n",
       "    </tr>\n",
       "  </tbody>\n",
       "</table>\n",
       "<p>13121 rows × 9 columns</p>\n",
       "</div>"
      ],
      "text/plain": [
       "                   Producer   \n",
       "101                Schrader  \\\n",
       "88           Château Pétrus   \n",
       "85           Château Latour   \n",
       "86       Château Haut-Brion   \n",
       "87             Vega Sicilia   \n",
       "...                     ...   \n",
       "15852  Michael David Winery   \n",
       "15853         Tenuta Perano   \n",
       "15854      Louis M. Martini   \n",
       "15855  Michael David Winery   \n",
       "15856            Mer Soleil   \n",
       "\n",
       "                                                WineType    Year   \n",
       "101    Cabernet Sauvignon RBS Beckstoffer To Kalon Vi...  2009.0  \\\n",
       "88                                               Pomerol  1990.0   \n",
       "85         Grand Vin Pauillac (Premier Grand Cru Classé)  1982.0   \n",
       "86             Pessac-Léognan (Premier Grand Cru Classé)  1990.0   \n",
       "87                                  Unico (Gran Reserva)  1998.0   \n",
       "...                                                  ...     ...   \n",
       "15852                       Freakshow Cabernet Sauvignon  2021.0   \n",
       "15853                                   Chianti Classico  2018.0   \n",
       "15854                   Sonoma County Cabernet Sauvignon  2020.0   \n",
       "15855                                Freakshow Zinfandel  2019.0   \n",
       "15856                                 Reserve Pinot Noir  2019.0   \n",
       "\n",
       "                      Region        Country   \n",
       "101                 Oakville  United States  \\\n",
       "88                   Pomerol         France   \n",
       "85                  Pauillac         France   \n",
       "86            Pessac-Léognan         France   \n",
       "87          Ribera del Duero          Spain   \n",
       "...                      ...            ...   \n",
       "15852                   Lodi  United States   \n",
       "15853       Chianti Classico          Italy   \n",
       "15854          Sonoma County  United States   \n",
       "15855                   Lodi  United States   \n",
       "15856  Santa Lucia Highlands  United States   \n",
       "\n",
       "                                                     URL  Rating  Num_Ratings   \n",
       "101    https://www.vivino.com/schrader-cellars-cabern...     4.8          208  \\\n",
       "88     https://www.vivino.com/chateau-petrus-pomerol/...     4.8         1245   \n",
       "85     https://www.vivino.com/fr-chateau-latour-grand...     4.8         1445   \n",
       "86     https://www.vivino.com/haut-brion-pessac-leogn...     4.8         1412   \n",
       "87     https://www.vivino.com/vega-sicilia-unico-gran...     4.8         1320   \n",
       "...                                                  ...     ...          ...   \n",
       "15852  https://www.vivino.com/michael-david-winery-fr...     3.9         1218   \n",
       "15853  https://www.vivino.com/tenuta-perano-chianti-c...     3.9         1101   \n",
       "15854  https://www.vivino.com/louis-m-martini-sonoma-...     3.9         1100   \n",
       "15855  https://www.vivino.com/michael-david-winery-fr...     3.9         1042   \n",
       "15856  https://www.vivino.com/mer-soleil-reserve-pino...     3.9          828   \n",
       "\n",
       "         Price  \n",
       "101     644.07  \n",
       "88     6923.00  \n",
       "85     2784.25  \n",
       "86     1736.00  \n",
       "87      950.00  \n",
       "...        ...  \n",
       "15852    37.99  \n",
       "15853    35.90  \n",
       "15854    36.99  \n",
       "15855    38.99  \n",
       "15856    37.99  \n",
       "\n",
       "[13121 rows x 9 columns]"
      ]
     },
     "execution_count": 81,
     "metadata": {},
     "output_type": "execute_result"
    }
   ],
   "source": [
    "# Remove outliers based on number of ratings\n",
    "\n",
    "# Calculate the 25th percentile threshold\n",
    "low_ratings_threshold = filtered_wine_df['Num_Ratings'].quantile(0.25)\n",
    "\n",
    "# Filter out wines with number of ratings greater than the 25th percentile\n",
    "filtered_wine_df = filtered_wine_df[filtered_wine_df['Num_Ratings']>= low_ratings_threshold]\n",
    "\n",
    "filtered_wine_df"
   ]
  },
  {
   "cell_type": "code",
   "execution_count": 68,
   "metadata": {},
   "outputs": [
    {
     "data": {
      "text/html": [
       "<div>\n",
       "<style scoped>\n",
       "    .dataframe tbody tr th:only-of-type {\n",
       "        vertical-align: middle;\n",
       "    }\n",
       "\n",
       "    .dataframe tbody tr th {\n",
       "        vertical-align: top;\n",
       "    }\n",
       "\n",
       "    .dataframe thead th {\n",
       "        text-align: right;\n",
       "    }\n",
       "</style>\n",
       "<table border=\"1\" class=\"dataframe\">\n",
       "  <thead>\n",
       "    <tr style=\"text-align: right;\">\n",
       "      <th></th>\n",
       "      <th>Producer</th>\n",
       "      <th>WineType</th>\n",
       "      <th>Year</th>\n",
       "      <th>Region</th>\n",
       "      <th>Country</th>\n",
       "      <th>URL</th>\n",
       "      <th>Rating</th>\n",
       "      <th>Num_Ratings</th>\n",
       "      <th>Price</th>\n",
       "      <th>Normalized_Rating</th>\n",
       "      <th>ratings_to_price_ratio</th>\n",
       "    </tr>\n",
       "  </thead>\n",
       "  <tbody>\n",
       "    <tr>\n",
       "      <th>0</th>\n",
       "      <td>Lavradores de Feitoria</td>\n",
       "      <td>Douro Tinto</td>\n",
       "      <td>2021.0</td>\n",
       "      <td>Douro</td>\n",
       "      <td>Portugal</td>\n",
       "      <td>https://www.vivino.com/lavradores-de-feitoria-...</td>\n",
       "      <td>4.2</td>\n",
       "      <td>295</td>\n",
       "      <td>15.75</td>\n",
       "      <td>0.387939</td>\n",
       "      <td>0.024631</td>\n",
       "    </tr>\n",
       "    <tr>\n",
       "      <th>1</th>\n",
       "      <td>Cassini</td>\n",
       "      <td>Godfather Red</td>\n",
       "      <td>2021.0</td>\n",
       "      <td>Okanagan Valley</td>\n",
       "      <td>Canada</td>\n",
       "      <td>https://www.vivino.com/cassini-okanagan-valley...</td>\n",
       "      <td>4.4</td>\n",
       "      <td>160</td>\n",
       "      <td>26.59</td>\n",
       "      <td>0.591959</td>\n",
       "      <td>0.022262</td>\n",
       "    </tr>\n",
       "    <tr>\n",
       "      <th>2</th>\n",
       "      <td>Alma Negra</td>\n",
       "      <td>M Blend</td>\n",
       "      <td>2017.0</td>\n",
       "      <td>Mendoza</td>\n",
       "      <td>Argentina</td>\n",
       "      <td>https://www.vivino.com/alma-negra-m-blend/w/11...</td>\n",
       "      <td>4.4</td>\n",
       "      <td>4746</td>\n",
       "      <td>28.39</td>\n",
       "      <td>0.591959</td>\n",
       "      <td>0.020851</td>\n",
       "    </tr>\n",
       "    <tr>\n",
       "      <th>3</th>\n",
       "      <td>Road 31 Wine Co.</td>\n",
       "      <td>Pinot Noir</td>\n",
       "      <td>2023.0</td>\n",
       "      <td>Napa Valley</td>\n",
       "      <td>United States</td>\n",
       "      <td>https://www.vivino.com/road-31-wine-co-pinot-n...</td>\n",
       "      <td>4.4</td>\n",
       "      <td>569</td>\n",
       "      <td>29.80</td>\n",
       "      <td>0.591959</td>\n",
       "      <td>0.019864</td>\n",
       "    </tr>\n",
       "    <tr>\n",
       "      <th>4</th>\n",
       "      <td>Vinum Cellars</td>\n",
       "      <td>The Insider Cabernet Sauvignon</td>\n",
       "      <td>2019.0</td>\n",
       "      <td>Paso Robles</td>\n",
       "      <td>United States</td>\n",
       "      <td>https://www.vivino.com/us-vinum-cellars-us-the...</td>\n",
       "      <td>4.3</td>\n",
       "      <td>188</td>\n",
       "      <td>25.19</td>\n",
       "      <td>0.489949</td>\n",
       "      <td>0.019450</td>\n",
       "    </tr>\n",
       "    <tr>\n",
       "      <th>...</th>\n",
       "      <td>...</td>\n",
       "      <td>...</td>\n",
       "      <td>...</td>\n",
       "      <td>...</td>\n",
       "      <td>...</td>\n",
       "      <td>...</td>\n",
       "      <td>...</td>\n",
       "      <td>...</td>\n",
       "      <td>...</td>\n",
       "      <td>...</td>\n",
       "      <td>...</td>\n",
       "    </tr>\n",
       "    <tr>\n",
       "      <th>13116</th>\n",
       "      <td>Château Pétrus</td>\n",
       "      <td>Pomerol</td>\n",
       "      <td>2000.0</td>\n",
       "      <td>Pomerol</td>\n",
       "      <td>France</td>\n",
       "      <td>https://www.vivino.com/chateau-petrus-pomerol/...</td>\n",
       "      <td>4.7</td>\n",
       "      <td>808</td>\n",
       "      <td>12999.99</td>\n",
       "      <td>0.897990</td>\n",
       "      <td>0.000069</td>\n",
       "    </tr>\n",
       "    <tr>\n",
       "      <th>13117</th>\n",
       "      <td>Le Pin</td>\n",
       "      <td>Pomerol</td>\n",
       "      <td>1995.0</td>\n",
       "      <td>Pomerol</td>\n",
       "      <td>France</td>\n",
       "      <td>https://www.vivino.com/le-pin-pomerol/w/119749...</td>\n",
       "      <td>4.7</td>\n",
       "      <td>119</td>\n",
       "      <td>15869.00</td>\n",
       "      <td>0.897990</td>\n",
       "      <td>0.000057</td>\n",
       "    </tr>\n",
       "    <tr>\n",
       "      <th>13118</th>\n",
       "      <td>Domaine Arnoux-Lachaux</td>\n",
       "      <td>Vosne-Romanée 1er Cru 'Aux Reignots'</td>\n",
       "      <td>2019.0</td>\n",
       "      <td>Vosne-Romanée 1er Cru 'Aux Raignots'</td>\n",
       "      <td>France</td>\n",
       "      <td>https://www.vivino.com/domaine-arnoux-lachaux-...</td>\n",
       "      <td>4.3</td>\n",
       "      <td>137</td>\n",
       "      <td>9595.00</td>\n",
       "      <td>0.489949</td>\n",
       "      <td>0.000051</td>\n",
       "    </tr>\n",
       "    <tr>\n",
       "      <th>13119</th>\n",
       "      <td>Domaine de La Romanée-Conti</td>\n",
       "      <td>Romanée-Conti Grand Cru</td>\n",
       "      <td>2010.0</td>\n",
       "      <td>Romanée-Conti Grand Cru</td>\n",
       "      <td>France</td>\n",
       "      <td>https://www.vivino.com/domaine-de-la-romanee-c...</td>\n",
       "      <td>4.7</td>\n",
       "      <td>290</td>\n",
       "      <td>32000.00</td>\n",
       "      <td>0.897990</td>\n",
       "      <td>0.000028</td>\n",
       "    </tr>\n",
       "    <tr>\n",
       "      <th>13120</th>\n",
       "      <td>Domaine Arnoux-Lachaux</td>\n",
       "      <td>Pinot Fin Bourgogne</td>\n",
       "      <td>2016.0</td>\n",
       "      <td>Bourgogne</td>\n",
       "      <td>France</td>\n",
       "      <td>https://www.vivino.com/domaine-arnoux-lachaux-...</td>\n",
       "      <td>3.9</td>\n",
       "      <td>95</td>\n",
       "      <td>4311.38</td>\n",
       "      <td>0.081908</td>\n",
       "      <td>0.000019</td>\n",
       "    </tr>\n",
       "  </tbody>\n",
       "</table>\n",
       "<p>13121 rows × 11 columns</p>\n",
       "</div>"
      ],
      "text/plain": [
       "                          Producer                              WineType   \n",
       "0           Lavradores de Feitoria                           Douro Tinto  \\\n",
       "1                          Cassini                         Godfather Red   \n",
       "2                       Alma Negra                               M Blend   \n",
       "3                 Road 31 Wine Co.                            Pinot Noir   \n",
       "4                    Vinum Cellars        The Insider Cabernet Sauvignon   \n",
       "...                            ...                                   ...   \n",
       "13116               Château Pétrus                               Pomerol   \n",
       "13117                       Le Pin                               Pomerol   \n",
       "13118       Domaine Arnoux-Lachaux  Vosne-Romanée 1er Cru 'Aux Reignots'   \n",
       "13119  Domaine de La Romanée-Conti               Romanée-Conti Grand Cru   \n",
       "13120       Domaine Arnoux-Lachaux                   Pinot Fin Bourgogne   \n",
       "\n",
       "         Year                                Region        Country   \n",
       "0      2021.0                                 Douro       Portugal  \\\n",
       "1      2021.0                       Okanagan Valley         Canada   \n",
       "2      2017.0                               Mendoza      Argentina   \n",
       "3      2023.0                           Napa Valley  United States   \n",
       "4      2019.0                           Paso Robles  United States   \n",
       "...       ...                                   ...            ...   \n",
       "13116  2000.0                               Pomerol         France   \n",
       "13117  1995.0                               Pomerol         France   \n",
       "13118  2019.0  Vosne-Romanée 1er Cru 'Aux Raignots'         France   \n",
       "13119  2010.0               Romanée-Conti Grand Cru         France   \n",
       "13120  2016.0                             Bourgogne         France   \n",
       "\n",
       "                                                     URL  Rating  Num_Ratings   \n",
       "0      https://www.vivino.com/lavradores-de-feitoria-...     4.2          295  \\\n",
       "1      https://www.vivino.com/cassini-okanagan-valley...     4.4          160   \n",
       "2      https://www.vivino.com/alma-negra-m-blend/w/11...     4.4         4746   \n",
       "3      https://www.vivino.com/road-31-wine-co-pinot-n...     4.4          569   \n",
       "4      https://www.vivino.com/us-vinum-cellars-us-the...     4.3          188   \n",
       "...                                                  ...     ...          ...   \n",
       "13116  https://www.vivino.com/chateau-petrus-pomerol/...     4.7          808   \n",
       "13117  https://www.vivino.com/le-pin-pomerol/w/119749...     4.7          119   \n",
       "13118  https://www.vivino.com/domaine-arnoux-lachaux-...     4.3          137   \n",
       "13119  https://www.vivino.com/domaine-de-la-romanee-c...     4.7          290   \n",
       "13120  https://www.vivino.com/domaine-arnoux-lachaux-...     3.9           95   \n",
       "\n",
       "          Price  Normalized_Rating  ratings_to_price_ratio  \n",
       "0         15.75           0.387939                0.024631  \n",
       "1         26.59           0.591959                0.022262  \n",
       "2         28.39           0.591959                0.020851  \n",
       "3         29.80           0.591959                0.019864  \n",
       "4         25.19           0.489949                0.019450  \n",
       "...         ...                ...                     ...  \n",
       "13116  12999.99           0.897990                0.000069  \n",
       "13117  15869.00           0.897990                0.000057  \n",
       "13118   9595.00           0.489949                0.000051  \n",
       "13119  32000.00           0.897990                0.000028  \n",
       "13120   4311.38           0.081908                0.000019  \n",
       "\n",
       "[13121 rows x 11 columns]"
      ]
     },
     "execution_count": 82,
     "metadata": {},
     "output_type": "execute_result"
    }
   ],
   "source": [
    "# Create a copy to avoid SettingWithCopyWarning\n",
    "filtered_wine_df = filtered_wine_df.copy()\n",
    "\n",
    "#calculate min and max ratings\n",
    "min_rating = low_rating_threshold\n",
    "# filtered_wine_df['Rating'].min()\n",
    "max_rating = filtered_wine_df['Rating'].max()\n",
    "\n",
    "# Create a column for normalized ratings and calculate the rating-to-price ratio\n",
    "filtered_wine_df['Normalized_Rating'] = (filtered_wine_df['Rating'] - min_rating) / (max_rating - min_rating)\n",
    "filtered_wine_df['ratings_to_price_ratio'] = filtered_wine_df['Normalized_Rating'] / filtered_wine_df['Price']\n",
    "\n",
    "# Sort by 'ratings_to_price__ratio' and get the top 10\n",
    "filtered_wine_df = filtered_wine_df.sort_values(by = 'ratings_to_price_ratio', ascending = False)\n",
    "\n",
    "filtered_wine_df = filtered_wine_df.reset_index(drop = True)\n",
    "\n",
    "filtered_wine_df"
   ]
  },
  {
   "cell_type": "code",
   "execution_count": 114,
   "metadata": {},
   "outputs": [
    {
     "data": {
      "image/png": "[encoded data removed]",
      "text/plain": [
       "<Figure size 2000x1000 with 1 Axes>"
      ]
     },
     "metadata": {},
     "output_type": "display_data"
    }
   ],
   "source": [
    "plt.figure(figsize=(20, 10))\n",
    "sns.boxplot(x='Country', y='ratings_to_price_ratio', data=filtered_wine_df)\n",
    "plt.xlabel(\"Country\", fontsize = 14)\n",
    "plt.ylabel(\"Ratings to Price Ratio\", fontsize = 14)\n",
    "plt.title(\"Ratings to Price Ratio by Country\", fontsize = 20)\n",
    "plt.xticks(rotation=90)\n",
    "plt.ylim(bottom=0)\n",
    "\n",
    "plt.show()"
   ]
  },
  {
   "cell_type": "markdown",
   "metadata": {},
   "source": [
    "# NEW CODE HERE"
   ]
  },
  {
   "cell_type": "code",
   "execution_count": 55,
   "metadata": {},
   "outputs": [],
   "source": [
    "wine_df = pd.read_csv('Final_DataFrames\\FINAL_training_data_Model2_FINAL.csv')"
   ]
  },
  {
   "cell_type": "code",
   "execution_count": 3,
   "metadata": {},
   "outputs": [
    {
     "data": {
      "text/html": [
       "<div>\n",
       "<style scoped>\n",
       "    .dataframe tbody tr th:only-of-type {\n",
       "        vertical-align: middle;\n",
       "    }\n",
       "\n",
       "    .dataframe tbody tr th {\n",
       "        vertical-align: top;\n",
       "    }\n",
       "\n",
       "    .dataframe thead th {\n",
       "        text-align: right;\n",
       "    }\n",
       "</style>\n",
       "<table border=\"1\" class=\"dataframe\">\n",
       "  <thead>\n",
       "    <tr style=\"text-align: right;\">\n",
       "      <th></th>\n",
       "      <th>Producer</th>\n",
       "      <th>WineType</th>\n",
       "      <th>District</th>\n",
       "      <th>Year</th>\n",
       "      <th>Ratings_Average</th>\n",
       "      <th>Price</th>\n",
       "      <th>Acidity</th>\n",
       "      <th>Intensity</th>\n",
       "      <th>Sweetness</th>\n",
       "      <th>Tannin</th>\n",
       "      <th>...</th>\n",
       "      <th>December Cumulative Rain (mm)</th>\n",
       "      <th>December Cumulative Snow (mm)</th>\n",
       "      <th>December Cumulative Precip (mm)</th>\n",
       "      <th>December Avg Cloud Cover (%)</th>\n",
       "      <th>December Max Wind Speed (Km/h)</th>\n",
       "      <th>December Min Wind Speed (Km/h)</th>\n",
       "      <th>December Avg Wind Speed (Km/h)</th>\n",
       "      <th>December Avg Daylight Hours</th>\n",
       "      <th>December Days Below 0 (°C)</th>\n",
       "      <th>December Days Above 32 (°C)</th>\n",
       "    </tr>\n",
       "  </thead>\n",
       "  <tbody>\n",
       "    <tr>\n",
       "      <th>0</th>\n",
       "      <td>trinite estate</td>\n",
       "      <td>acaibo</td>\n",
       "      <td>Sonoma</td>\n",
       "      <td>2018</td>\n",
       "      <td>4.1</td>\n",
       "      <td>100.8</td>\n",
       "      <td>4.0</td>\n",
       "      <td>5.0</td>\n",
       "      <td>1.0</td>\n",
       "      <td>4.5</td>\n",
       "      <td>...</td>\n",
       "      <td>75.900000</td>\n",
       "      <td>0.00</td>\n",
       "      <td>75.900000</td>\n",
       "      <td>60.690860</td>\n",
       "      <td>25.346148</td>\n",
       "      <td>0.36</td>\n",
       "      <td>6.735369</td>\n",
       "      <td>9.532272</td>\n",
       "      <td>0.0</td>\n",
       "      <td>0.0</td>\n",
       "    </tr>\n",
       "    <tr>\n",
       "      <th>1</th>\n",
       "      <td>trinite estate</td>\n",
       "      <td>acaibo</td>\n",
       "      <td>Sonoma</td>\n",
       "      <td>2016</td>\n",
       "      <td>4.1</td>\n",
       "      <td>100.8</td>\n",
       "      <td>4.0</td>\n",
       "      <td>5.0</td>\n",
       "      <td>1.0</td>\n",
       "      <td>4.5</td>\n",
       "      <td>...</td>\n",
       "      <td>118.899999</td>\n",
       "      <td>0.00</td>\n",
       "      <td>118.899999</td>\n",
       "      <td>54.302419</td>\n",
       "      <td>19.645580</td>\n",
       "      <td>0.00</td>\n",
       "      <td>6.646974</td>\n",
       "      <td>9.530239</td>\n",
       "      <td>0.0</td>\n",
       "      <td>0.0</td>\n",
       "    </tr>\n",
       "    <tr>\n",
       "      <th>2</th>\n",
       "      <td>trinite estate</td>\n",
       "      <td>acaibo</td>\n",
       "      <td>Sonoma</td>\n",
       "      <td>2015</td>\n",
       "      <td>4.1</td>\n",
       "      <td>100.8</td>\n",
       "      <td>4.0</td>\n",
       "      <td>5.0</td>\n",
       "      <td>1.0</td>\n",
       "      <td>4.5</td>\n",
       "      <td>...</td>\n",
       "      <td>145.100001</td>\n",
       "      <td>0.00</td>\n",
       "      <td>145.100001</td>\n",
       "      <td>62.354838</td>\n",
       "      <td>26.302181</td>\n",
       "      <td>0.36</td>\n",
       "      <td>7.692760</td>\n",
       "      <td>9.533807</td>\n",
       "      <td>0.0</td>\n",
       "      <td>0.0</td>\n",
       "    </tr>\n",
       "    <tr>\n",
       "      <th>3</th>\n",
       "      <td>trinite estate</td>\n",
       "      <td>acaibo</td>\n",
       "      <td>Sonoma</td>\n",
       "      <td>2014</td>\n",
       "      <td>4.2</td>\n",
       "      <td>100.8</td>\n",
       "      <td>4.0</td>\n",
       "      <td>5.0</td>\n",
       "      <td>1.0</td>\n",
       "      <td>4.5</td>\n",
       "      <td>...</td>\n",
       "      <td>280.000000</td>\n",
       "      <td>0.00</td>\n",
       "      <td>280.000000</td>\n",
       "      <td>73.610215</td>\n",
       "      <td>34.093730</td>\n",
       "      <td>0.36</td>\n",
       "      <td>7.827738</td>\n",
       "      <td>9.532552</td>\n",
       "      <td>0.0</td>\n",
       "      <td>0.0</td>\n",
       "    </tr>\n",
       "    <tr>\n",
       "      <th>4</th>\n",
       "      <td>trinite estate</td>\n",
       "      <td>acaibo</td>\n",
       "      <td>Sonoma</td>\n",
       "      <td>2013</td>\n",
       "      <td>4.1</td>\n",
       "      <td>100.8</td>\n",
       "      <td>4.0</td>\n",
       "      <td>5.0</td>\n",
       "      <td>1.0</td>\n",
       "      <td>4.5</td>\n",
       "      <td>...</td>\n",
       "      <td>8.500000</td>\n",
       "      <td>0.07</td>\n",
       "      <td>8.570000</td>\n",
       "      <td>26.384409</td>\n",
       "      <td>18.218275</td>\n",
       "      <td>0.36</td>\n",
       "      <td>5.389955</td>\n",
       "      <td>9.531514</td>\n",
       "      <td>0.0</td>\n",
       "      <td>0.0</td>\n",
       "    </tr>\n",
       "  </tbody>\n",
       "</table>\n",
       "<p>5 rows × 203 columns</p>\n",
       "</div>"
      ],
      "text/plain": [
       "         Producer WineType District  Year  Ratings_Average  Price  Acidity   \n",
       "0  trinite estate   acaibo   Sonoma  2018              4.1  100.8      4.0  \\\n",
       "1  trinite estate   acaibo   Sonoma  2016              4.1  100.8      4.0   \n",
       "2  trinite estate   acaibo   Sonoma  2015              4.1  100.8      4.0   \n",
       "3  trinite estate   acaibo   Sonoma  2014              4.2  100.8      4.0   \n",
       "4  trinite estate   acaibo   Sonoma  2013              4.1  100.8      4.0   \n",
       "\n",
       "   Intensity  Sweetness  Tannin  ... December Cumulative Rain (mm)   \n",
       "0        5.0        1.0     4.5  ...                     75.900000  \\\n",
       "1        5.0        1.0     4.5  ...                    118.899999   \n",
       "2        5.0        1.0     4.5  ...                    145.100001   \n",
       "3        5.0        1.0     4.5  ...                    280.000000   \n",
       "4        5.0        1.0     4.5  ...                      8.500000   \n",
       "\n",
       "   December Cumulative Snow (mm)  December Cumulative Precip (mm)   \n",
       "0                           0.00                        75.900000  \\\n",
       "1                           0.00                       118.899999   \n",
       "2                           0.00                       145.100001   \n",
       "3                           0.00                       280.000000   \n",
       "4                           0.07                         8.570000   \n",
       "\n",
       "   December Avg Cloud Cover (%)  December Max Wind Speed (Km/h)   \n",
       "0                     60.690860                       25.346148  \\\n",
       "1                     54.302419                       19.645580   \n",
       "2                     62.354838                       26.302181   \n",
       "3                     73.610215                       34.093730   \n",
       "4                     26.384409                       18.218275   \n",
       "\n",
       "   December Min Wind Speed (Km/h)  December Avg Wind Speed (Km/h)   \n",
       "0                            0.36                        6.735369  \\\n",
       "1                            0.00                        6.646974   \n",
       "2                            0.36                        7.692760   \n",
       "3                            0.36                        7.827738   \n",
       "4                            0.36                        5.389955   \n",
       "\n",
       "   December Avg Daylight Hours  December Days Below 0 (°C)   \n",
       "0                     9.532272                         0.0  \\\n",
       "1                     9.530239                         0.0   \n",
       "2                     9.533807                         0.0   \n",
       "3                     9.532552                         0.0   \n",
       "4                     9.531514                         0.0   \n",
       "\n",
       "   December Days Above 32 (°C)  \n",
       "0                          0.0  \n",
       "1                          0.0  \n",
       "2                          0.0  \n",
       "3                          0.0  \n",
       "4                          0.0  \n",
       "\n",
       "[5 rows x 203 columns]"
      ]
     },
     "execution_count": 3,
     "metadata": {},
     "output_type": "execute_result"
    }
   ],
   "source": [
    "wine_df.head()"
   ]
  },
  {
   "cell_type": "code",
   "execution_count": 4,
   "metadata": {},
   "outputs": [],
   "source": [
    "dist_df = pd.read_csv('Final_DataFrames\\Wine_districts_lat_lon.csv')\n"
   ]
  },
  {
   "cell_type": "code",
   "execution_count": 5,
   "metadata": {},
   "outputs": [],
   "source": [
    "wine_dist_df = pd.merge(wine_df, dist_df, on='District', how='left')"
   ]
  },
  {
   "cell_type": "code",
   "execution_count": 6,
   "metadata": {},
   "outputs": [
    {
     "data": {
      "text/html": [
       "<div>\n",
       "<style scoped>\n",
       "    .dataframe tbody tr th:only-of-type {\n",
       "        vertical-align: middle;\n",
       "    }\n",
       "\n",
       "    .dataframe tbody tr th {\n",
       "        vertical-align: top;\n",
       "    }\n",
       "\n",
       "    .dataframe thead th {\n",
       "        text-align: right;\n",
       "    }\n",
       "</style>\n",
       "<table border=\"1\" class=\"dataframe\">\n",
       "  <thead>\n",
       "    <tr style=\"text-align: right;\">\n",
       "      <th></th>\n",
       "      <th>Producer</th>\n",
       "      <th>WineType</th>\n",
       "      <th>District</th>\n",
       "      <th>Year</th>\n",
       "      <th>Ratings_Average</th>\n",
       "      <th>Price</th>\n",
       "      <th>Acidity</th>\n",
       "      <th>Intensity</th>\n",
       "      <th>Sweetness</th>\n",
       "      <th>Tannin</th>\n",
       "      <th>...</th>\n",
       "      <th>December Days Below 0 (°C)</th>\n",
       "      <th>December Days Above 32 (°C)</th>\n",
       "      <th>Country</th>\n",
       "      <th>State</th>\n",
       "      <th>Dist_Latitude</th>\n",
       "      <th>Dist_Longitude</th>\n",
       "      <th>State_Latitude</th>\n",
       "      <th>State_Longitude</th>\n",
       "      <th>Country_Latitude</th>\n",
       "      <th>Country_Longitude</th>\n",
       "    </tr>\n",
       "  </thead>\n",
       "  <tbody>\n",
       "    <tr>\n",
       "      <th>0</th>\n",
       "      <td>trinite estate</td>\n",
       "      <td>acaibo</td>\n",
       "      <td>Sonoma</td>\n",
       "      <td>2018</td>\n",
       "      <td>4.1</td>\n",
       "      <td>100.80</td>\n",
       "      <td>4.0</td>\n",
       "      <td>5.0</td>\n",
       "      <td>1.0</td>\n",
       "      <td>4.5</td>\n",
       "      <td>...</td>\n",
       "      <td>0.0</td>\n",
       "      <td>0.0</td>\n",
       "      <td>United States</td>\n",
       "      <td>California</td>\n",
       "      <td>38.2919</td>\n",
       "      <td>-122.4580</td>\n",
       "      <td>36.7783</td>\n",
       "      <td>-119.4179</td>\n",
       "      <td>37.0902</td>\n",
       "      <td>-95.7129</td>\n",
       "    </tr>\n",
       "    <tr>\n",
       "      <th>1</th>\n",
       "      <td>trinite estate</td>\n",
       "      <td>acaibo</td>\n",
       "      <td>Sonoma</td>\n",
       "      <td>2016</td>\n",
       "      <td>4.1</td>\n",
       "      <td>100.80</td>\n",
       "      <td>4.0</td>\n",
       "      <td>5.0</td>\n",
       "      <td>1.0</td>\n",
       "      <td>4.5</td>\n",
       "      <td>...</td>\n",
       "      <td>0.0</td>\n",
       "      <td>0.0</td>\n",
       "      <td>United States</td>\n",
       "      <td>California</td>\n",
       "      <td>38.2919</td>\n",
       "      <td>-122.4580</td>\n",
       "      <td>36.7783</td>\n",
       "      <td>-119.4179</td>\n",
       "      <td>37.0902</td>\n",
       "      <td>-95.7129</td>\n",
       "    </tr>\n",
       "    <tr>\n",
       "      <th>2</th>\n",
       "      <td>trinite estate</td>\n",
       "      <td>acaibo</td>\n",
       "      <td>Sonoma</td>\n",
       "      <td>2015</td>\n",
       "      <td>4.1</td>\n",
       "      <td>100.80</td>\n",
       "      <td>4.0</td>\n",
       "      <td>5.0</td>\n",
       "      <td>1.0</td>\n",
       "      <td>4.5</td>\n",
       "      <td>...</td>\n",
       "      <td>0.0</td>\n",
       "      <td>0.0</td>\n",
       "      <td>United States</td>\n",
       "      <td>California</td>\n",
       "      <td>38.2919</td>\n",
       "      <td>-122.4580</td>\n",
       "      <td>36.7783</td>\n",
       "      <td>-119.4179</td>\n",
       "      <td>37.0902</td>\n",
       "      <td>-95.7129</td>\n",
       "    </tr>\n",
       "    <tr>\n",
       "      <th>3</th>\n",
       "      <td>trinite estate</td>\n",
       "      <td>acaibo</td>\n",
       "      <td>Sonoma</td>\n",
       "      <td>2014</td>\n",
       "      <td>4.2</td>\n",
       "      <td>100.80</td>\n",
       "      <td>4.0</td>\n",
       "      <td>5.0</td>\n",
       "      <td>1.0</td>\n",
       "      <td>4.5</td>\n",
       "      <td>...</td>\n",
       "      <td>0.0</td>\n",
       "      <td>0.0</td>\n",
       "      <td>United States</td>\n",
       "      <td>California</td>\n",
       "      <td>38.2919</td>\n",
       "      <td>-122.4580</td>\n",
       "      <td>36.7783</td>\n",
       "      <td>-119.4179</td>\n",
       "      <td>37.0902</td>\n",
       "      <td>-95.7129</td>\n",
       "    </tr>\n",
       "    <tr>\n",
       "      <th>4</th>\n",
       "      <td>trinite estate</td>\n",
       "      <td>acaibo</td>\n",
       "      <td>Sonoma</td>\n",
       "      <td>2013</td>\n",
       "      <td>4.1</td>\n",
       "      <td>100.80</td>\n",
       "      <td>4.0</td>\n",
       "      <td>5.0</td>\n",
       "      <td>1.0</td>\n",
       "      <td>4.5</td>\n",
       "      <td>...</td>\n",
       "      <td>0.0</td>\n",
       "      <td>0.0</td>\n",
       "      <td>United States</td>\n",
       "      <td>California</td>\n",
       "      <td>38.2919</td>\n",
       "      <td>-122.4580</td>\n",
       "      <td>36.7783</td>\n",
       "      <td>-119.4179</td>\n",
       "      <td>37.0902</td>\n",
       "      <td>-95.7129</td>\n",
       "    </tr>\n",
       "    <tr>\n",
       "      <th>...</th>\n",
       "      <td>...</td>\n",
       "      <td>...</td>\n",
       "      <td>...</td>\n",
       "      <td>...</td>\n",
       "      <td>...</td>\n",
       "      <td>...</td>\n",
       "      <td>...</td>\n",
       "      <td>...</td>\n",
       "      <td>...</td>\n",
       "      <td>...</td>\n",
       "      <td>...</td>\n",
       "      <td>...</td>\n",
       "      <td>...</td>\n",
       "      <td>...</td>\n",
       "      <td>...</td>\n",
       "      <td>...</td>\n",
       "      <td>...</td>\n",
       "      <td>...</td>\n",
       "      <td>...</td>\n",
       "      <td>...</td>\n",
       "      <td>...</td>\n",
       "    </tr>\n",
       "    <tr>\n",
       "      <th>45986</th>\n",
       "      <td>quinta vale d. maria</td>\n",
       "      <td>vinhas do sabor superior tinto</td>\n",
       "      <td>Freixo de Espada a Cinta</td>\n",
       "      <td>2006</td>\n",
       "      <td>4.3</td>\n",
       "      <td>103.14</td>\n",
       "      <td>3.0</td>\n",
       "      <td>5.0</td>\n",
       "      <td>1.0</td>\n",
       "      <td>4.0</td>\n",
       "      <td>...</td>\n",
       "      <td>NaN</td>\n",
       "      <td>NaN</td>\n",
       "      <td>Portugal</td>\n",
       "      <td>Bragança</td>\n",
       "      <td>41.0923</td>\n",
       "      <td>-6.8057</td>\n",
       "      <td>41.8058</td>\n",
       "      <td>-6.7569</td>\n",
       "      <td>39.3999</td>\n",
       "      <td>-8.2245</td>\n",
       "    </tr>\n",
       "    <tr>\n",
       "      <th>45987</th>\n",
       "      <td>quinta vale d. maria</td>\n",
       "      <td>vinhas do sabor superior tinto</td>\n",
       "      <td>Freixo de Espada a Cinta</td>\n",
       "      <td>2005</td>\n",
       "      <td>4.0</td>\n",
       "      <td>103.14</td>\n",
       "      <td>3.0</td>\n",
       "      <td>5.0</td>\n",
       "      <td>1.0</td>\n",
       "      <td>4.0</td>\n",
       "      <td>...</td>\n",
       "      <td>NaN</td>\n",
       "      <td>NaN</td>\n",
       "      <td>Portugal</td>\n",
       "      <td>Bragança</td>\n",
       "      <td>41.0923</td>\n",
       "      <td>-6.8057</td>\n",
       "      <td>41.8058</td>\n",
       "      <td>-6.7569</td>\n",
       "      <td>39.3999</td>\n",
       "      <td>-8.2245</td>\n",
       "    </tr>\n",
       "    <tr>\n",
       "      <th>45988</th>\n",
       "      <td>quinta vale d. maria</td>\n",
       "      <td>vinhas do sabor superior tinto</td>\n",
       "      <td>Freixo de Espada a Cinta</td>\n",
       "      <td>2004</td>\n",
       "      <td>4.0</td>\n",
       "      <td>103.14</td>\n",
       "      <td>3.0</td>\n",
       "      <td>5.0</td>\n",
       "      <td>1.0</td>\n",
       "      <td>4.0</td>\n",
       "      <td>...</td>\n",
       "      <td>NaN</td>\n",
       "      <td>NaN</td>\n",
       "      <td>Portugal</td>\n",
       "      <td>Bragança</td>\n",
       "      <td>41.0923</td>\n",
       "      <td>-6.8057</td>\n",
       "      <td>41.8058</td>\n",
       "      <td>-6.7569</td>\n",
       "      <td>39.3999</td>\n",
       "      <td>-8.2245</td>\n",
       "    </tr>\n",
       "    <tr>\n",
       "      <th>45989</th>\n",
       "      <td>quinta vale d. maria</td>\n",
       "      <td>vinhas do sabor superior tinto</td>\n",
       "      <td>Freixo de Espada a Cinta</td>\n",
       "      <td>2003</td>\n",
       "      <td>4.2</td>\n",
       "      <td>103.14</td>\n",
       "      <td>3.0</td>\n",
       "      <td>5.0</td>\n",
       "      <td>1.0</td>\n",
       "      <td>4.0</td>\n",
       "      <td>...</td>\n",
       "      <td>NaN</td>\n",
       "      <td>NaN</td>\n",
       "      <td>Portugal</td>\n",
       "      <td>Bragança</td>\n",
       "      <td>41.0923</td>\n",
       "      <td>-6.8057</td>\n",
       "      <td>41.8058</td>\n",
       "      <td>-6.7569</td>\n",
       "      <td>39.3999</td>\n",
       "      <td>-8.2245</td>\n",
       "    </tr>\n",
       "    <tr>\n",
       "      <th>45990</th>\n",
       "      <td>quinta vale d. maria</td>\n",
       "      <td>vinhas do sabor superior tinto</td>\n",
       "      <td>Freixo de Espada a Cinta</td>\n",
       "      <td>2002</td>\n",
       "      <td>4.1</td>\n",
       "      <td>103.14</td>\n",
       "      <td>3.0</td>\n",
       "      <td>5.0</td>\n",
       "      <td>1.0</td>\n",
       "      <td>4.0</td>\n",
       "      <td>...</td>\n",
       "      <td>NaN</td>\n",
       "      <td>NaN</td>\n",
       "      <td>Portugal</td>\n",
       "      <td>Bragança</td>\n",
       "      <td>41.0923</td>\n",
       "      <td>-6.8057</td>\n",
       "      <td>41.8058</td>\n",
       "      <td>-6.7569</td>\n",
       "      <td>39.3999</td>\n",
       "      <td>-8.2245</td>\n",
       "    </tr>\n",
       "  </tbody>\n",
       "</table>\n",
       "<p>45991 rows × 211 columns</p>\n",
       "</div>"
      ],
      "text/plain": [
       "                   Producer                        WineType   \n",
       "0            trinite estate                          acaibo  \\\n",
       "1            trinite estate                          acaibo   \n",
       "2            trinite estate                          acaibo   \n",
       "3            trinite estate                          acaibo   \n",
       "4            trinite estate                          acaibo   \n",
       "...                     ...                             ...   \n",
       "45986  quinta vale d. maria  vinhas do sabor superior tinto   \n",
       "45987  quinta vale d. maria  vinhas do sabor superior tinto   \n",
       "45988  quinta vale d. maria  vinhas do sabor superior tinto   \n",
       "45989  quinta vale d. maria  vinhas do sabor superior tinto   \n",
       "45990  quinta vale d. maria  vinhas do sabor superior tinto   \n",
       "\n",
       "                       District  Year  Ratings_Average   Price  Acidity   \n",
       "0                        Sonoma  2018              4.1  100.80      4.0  \\\n",
       "1                        Sonoma  2016              4.1  100.80      4.0   \n",
       "2                        Sonoma  2015              4.1  100.80      4.0   \n",
       "3                        Sonoma  2014              4.2  100.80      4.0   \n",
       "4                        Sonoma  2013              4.1  100.80      4.0   \n",
       "...                         ...   ...              ...     ...      ...   \n",
       "45986  Freixo de Espada a Cinta  2006              4.3  103.14      3.0   \n",
       "45987  Freixo de Espada a Cinta  2005              4.0  103.14      3.0   \n",
       "45988  Freixo de Espada a Cinta  2004              4.0  103.14      3.0   \n",
       "45989  Freixo de Espada a Cinta  2003              4.2  103.14      3.0   \n",
       "45990  Freixo de Espada a Cinta  2002              4.1  103.14      3.0   \n",
       "\n",
       "       Intensity  Sweetness  Tannin  ... December Days Below 0 (°C)   \n",
       "0            5.0        1.0     4.5  ...                        0.0  \\\n",
       "1            5.0        1.0     4.5  ...                        0.0   \n",
       "2            5.0        1.0     4.5  ...                        0.0   \n",
       "3            5.0        1.0     4.5  ...                        0.0   \n",
       "4            5.0        1.0     4.5  ...                        0.0   \n",
       "...          ...        ...     ...  ...                        ...   \n",
       "45986        5.0        1.0     4.0  ...                        NaN   \n",
       "45987        5.0        1.0     4.0  ...                        NaN   \n",
       "45988        5.0        1.0     4.0  ...                        NaN   \n",
       "45989        5.0        1.0     4.0  ...                        NaN   \n",
       "45990        5.0        1.0     4.0  ...                        NaN   \n",
       "\n",
       "       December Days Above 32 (°C)        Country       State  Dist_Latitude   \n",
       "0                              0.0  United States  California        38.2919  \\\n",
       "1                              0.0  United States  California        38.2919   \n",
       "2                              0.0  United States  California        38.2919   \n",
       "3                              0.0  United States  California        38.2919   \n",
       "4                              0.0  United States  California        38.2919   \n",
       "...                            ...            ...         ...            ...   \n",
       "45986                          NaN       Portugal    Bragança        41.0923   \n",
       "45987                          NaN       Portugal    Bragança        41.0923   \n",
       "45988                          NaN       Portugal    Bragança        41.0923   \n",
       "45989                          NaN       Portugal    Bragança        41.0923   \n",
       "45990                          NaN       Portugal    Bragança        41.0923   \n",
       "\n",
       "       Dist_Longitude  State_Latitude  State_Longitude  Country_Latitude   \n",
       "0           -122.4580         36.7783        -119.4179           37.0902  \\\n",
       "1           -122.4580         36.7783        -119.4179           37.0902   \n",
       "2           -122.4580         36.7783        -119.4179           37.0902   \n",
       "3           -122.4580         36.7783        -119.4179           37.0902   \n",
       "4           -122.4580         36.7783        -119.4179           37.0902   \n",
       "...               ...             ...              ...               ...   \n",
       "45986         -6.8057         41.8058          -6.7569           39.3999   \n",
       "45987         -6.8057         41.8058          -6.7569           39.3999   \n",
       "45988         -6.8057         41.8058          -6.7569           39.3999   \n",
       "45989         -6.8057         41.8058          -6.7569           39.3999   \n",
       "45990         -6.8057         41.8058          -6.7569           39.3999   \n",
       "\n",
       "       Country_Longitude  \n",
       "0               -95.7129  \n",
       "1               -95.7129  \n",
       "2               -95.7129  \n",
       "3               -95.7129  \n",
       "4               -95.7129  \n",
       "...                  ...  \n",
       "45986            -8.2245  \n",
       "45987            -8.2245  \n",
       "45988            -8.2245  \n",
       "45989            -8.2245  \n",
       "45990            -8.2245  \n",
       "\n",
       "[45991 rows x 211 columns]"
      ]
     },
     "execution_count": 6,
     "metadata": {},
     "output_type": "execute_result"
    }
   ],
   "source": [
    "wine_dist_df"
   ]
  },
  {
   "cell_type": "code",
   "execution_count": 7,
   "metadata": {},
   "outputs": [
    {
     "data": {
      "text/plain": [
       "['United States',\n",
       " 'Canada',\n",
       " 'Argentina',\n",
       " 'Australia',\n",
       " 'Italy',\n",
       " 'France',\n",
       " 'Chile',\n",
       " 'Spain',\n",
       " 'Portugal']"
      ]
     },
     "execution_count": 7,
     "metadata": {},
     "output_type": "execute_result"
    }
   ],
   "source": [
    "countries = wine_dist_df['Country'].unique().tolist()\n",
    "countries"
   ]
  },
  {
   "cell_type": "code",
   "execution_count": 8,
   "metadata": {},
   "outputs": [
    {
     "data": {
      "text/plain": [
       "['California',\n",
       " 'British Columbia',\n",
       " 'Mendoza',\n",
       " 'South Australia',\n",
       " 'Tuscany',\n",
       " 'Umbria',\n",
       " 'Marche',\n",
       " 'Lazio',\n",
       " 'Nouvelle-Aquitaine',\n",
       " 'Coquimbo',\n",
       " 'La Rioja',\n",
       " 'Bragança']"
      ]
     },
     "execution_count": 8,
     "metadata": {},
     "output_type": "execute_result"
    }
   ],
   "source": [
    "states = wine_dist_df['State'].unique().tolist()\n",
    "states"
   ]
  },
  {
   "cell_type": "code",
   "execution_count": 9,
   "metadata": {},
   "outputs": [
    {
     "data": {
      "text/plain": [
       "31"
      ]
     },
     "execution_count": 9,
     "metadata": {},
     "output_type": "execute_result"
    }
   ],
   "source": [
    "districts = wine_dist_df['District'].unique().tolist()\n",
    "len(districts)"
   ]
  },
  {
   "cell_type": "code",
   "execution_count": 10,
   "metadata": {},
   "outputs": [
    {
     "data": {
      "text/html": [
       "<div>\n",
       "<style scoped>\n",
       "    .dataframe tbody tr th:only-of-type {\n",
       "        vertical-align: middle;\n",
       "    }\n",
       "\n",
       "    .dataframe tbody tr th {\n",
       "        vertical-align: top;\n",
       "    }\n",
       "\n",
       "    .dataframe thead th {\n",
       "        text-align: right;\n",
       "    }\n",
       "</style>\n",
       "<table border=\"1\" class=\"dataframe\">\n",
       "  <thead>\n",
       "    <tr style=\"text-align: right;\">\n",
       "      <th></th>\n",
       "      <th>shapeName</th>\n",
       "      <th>shapeID</th>\n",
       "      <th>shapeGroup</th>\n",
       "      <th>shapeType</th>\n",
       "      <th>geometry</th>\n",
       "    </tr>\n",
       "  </thead>\n",
       "  <tbody>\n",
       "    <tr>\n",
       "      <th>0</th>\n",
       "      <td>Kandahar</td>\n",
       "      <td>12653393B40111500734429</td>\n",
       "      <td>AFG</td>\n",
       "      <td>ADM1</td>\n",
       "      <td>POLYGON ((65.24153 32.2863, 65.12687 32.03679,...</td>\n",
       "    </tr>\n",
       "    <tr>\n",
       "      <th>1</th>\n",
       "      <td>Zabul</td>\n",
       "      <td>12653393B56617740339660</td>\n",
       "      <td>AFG</td>\n",
       "      <td>ADM1</td>\n",
       "      <td>POLYGON ((67.60666 31.44378, 67.70162 31.51373...</td>\n",
       "    </tr>\n",
       "    <tr>\n",
       "      <th>2</th>\n",
       "      <td>Uruzgan</td>\n",
       "      <td>12653393B46006342616872</td>\n",
       "      <td>AFG</td>\n",
       "      <td>ADM1</td>\n",
       "      <td>POLYGON ((66.27519 32.4255, 66.35907 32.60925,...</td>\n",
       "    </tr>\n",
       "    <tr>\n",
       "      <th>3</th>\n",
       "      <td>Daykundi</td>\n",
       "      <td>12653393B78791504725813</td>\n",
       "      <td>AFG</td>\n",
       "      <td>ADM1</td>\n",
       "      <td>POLYGON ((66.76157 33.25547, 66.92827 33.59694...</td>\n",
       "    </tr>\n",
       "    <tr>\n",
       "      <th>4</th>\n",
       "      <td>Ghanzi</td>\n",
       "      <td>12653393B29313712249365</td>\n",
       "      <td>AFG</td>\n",
       "      <td>ADM1</td>\n",
       "      <td>POLYGON ((68.06945 32.04564, 68.06011 32.45619...</td>\n",
       "    </tr>\n",
       "    <tr>\n",
       "      <th>...</th>\n",
       "      <td>...</td>\n",
       "      <td>...</td>\n",
       "      <td>...</td>\n",
       "      <td>...</td>\n",
       "      <td>...</td>\n",
       "    </tr>\n",
       "    <tr>\n",
       "      <th>3219</th>\n",
       "      <td>Sanafir &amp; Tiran Is.</td>\n",
       "      <td>DIS016</td>\n",
       "      <td>126</td>\n",
       "      <td>DISP</td>\n",
       "      <td>MULTIPOLYGON (((34.69143 27.95899, 34.69119 27...</td>\n",
       "    </tr>\n",
       "    <tr>\n",
       "      <th>3220</th>\n",
       "      <td>Senkakus</td>\n",
       "      <td>DIS017</td>\n",
       "      <td>127</td>\n",
       "      <td>DISP</td>\n",
       "      <td>POLYGON ((123.47986 25.7507, 123.47791 25.7520...</td>\n",
       "    </tr>\n",
       "    <tr>\n",
       "      <th>3221</th>\n",
       "      <td>Spratly Is</td>\n",
       "      <td>DIS018</td>\n",
       "      <td>128</td>\n",
       "      <td>DISP</td>\n",
       "      <td>POLYGON ((114.33955 11.44331, 114.3383 11.4445...</td>\n",
       "    </tr>\n",
       "    <tr>\n",
       "      <th>3222</th>\n",
       "      <td>West Bank</td>\n",
       "      <td>DIS019</td>\n",
       "      <td>129</td>\n",
       "      <td>DISP</td>\n",
       "      <td>POLYGON ((35.53047 31.70771, 35.53588 31.71978...</td>\n",
       "    </tr>\n",
       "    <tr>\n",
       "      <th>3223</th>\n",
       "      <td>Western Sahara</td>\n",
       "      <td>DIS020</td>\n",
       "      <td>ESH</td>\n",
       "      <td>DISP</td>\n",
       "      <td>POLYGON ((-8.66761 27.66727, -8.66799 27.66727...</td>\n",
       "    </tr>\n",
       "  </tbody>\n",
       "</table>\n",
       "<p>3224 rows × 5 columns</p>\n",
       "</div>"
      ],
      "text/plain": [
       "                shapeName                  shapeID shapeGroup shapeType   \n",
       "0                Kandahar  12653393B40111500734429        AFG      ADM1  \\\n",
       "1                   Zabul  12653393B56617740339660        AFG      ADM1   \n",
       "2                 Uruzgan  12653393B46006342616872        AFG      ADM1   \n",
       "3                Daykundi  12653393B78791504725813        AFG      ADM1   \n",
       "4                  Ghanzi  12653393B29313712249365        AFG      ADM1   \n",
       "...                   ...                      ...        ...       ...   \n",
       "3219  Sanafir & Tiran Is.                   DIS016        126      DISP   \n",
       "3220             Senkakus                   DIS017        127      DISP   \n",
       "3221           Spratly Is                   DIS018        128      DISP   \n",
       "3222            West Bank                   DIS019        129      DISP   \n",
       "3223       Western Sahara                   DIS020        ESH      DISP   \n",
       "\n",
       "                                               geometry  \n",
       "0     POLYGON ((65.24153 32.2863, 65.12687 32.03679,...  \n",
       "1     POLYGON ((67.60666 31.44378, 67.70162 31.51373...  \n",
       "2     POLYGON ((66.27519 32.4255, 66.35907 32.60925,...  \n",
       "3     POLYGON ((66.76157 33.25547, 66.92827 33.59694...  \n",
       "4     POLYGON ((68.06945 32.04564, 68.06011 32.45619...  \n",
       "...                                                 ...  \n",
       "3219  MULTIPOLYGON (((34.69143 27.95899, 34.69119 27...  \n",
       "3220  POLYGON ((123.47986 25.7507, 123.47791 25.7520...  \n",
       "3221  POLYGON ((114.33955 11.44331, 114.3383 11.4445...  \n",
       "3222  POLYGON ((35.53047 31.70771, 35.53588 31.71978...  \n",
       "3223  POLYGON ((-8.66761 27.66727, -8.66799 27.66727...  \n",
       "\n",
       "[3224 rows x 5 columns]"
      ]
     },
     "execution_count": 10,
     "metadata": {},
     "output_type": "execute_result"
    }
   ],
   "source": [
    "regions_gdf = gpd.read_file(r\"C:\\Users\\j1wag\\Desktop\\Masters Year 1\\Semester 1\\CME538\\Final Assignment\\GeoJsonFiles\\GeoJsonFiles\\geoBoundariesCGAZ_ADM1_regions.geojson\")\n",
    "regions_gdf"
   ]
  },
  {
   "cell_type": "code",
   "execution_count": 11,
   "metadata": {},
   "outputs": [
    {
     "data": {
      "text/html": [
       "<div>\n",
       "<style scoped>\n",
       "    .dataframe tbody tr th:only-of-type {\n",
       "        vertical-align: middle;\n",
       "    }\n",
       "\n",
       "    .dataframe tbody tr th {\n",
       "        vertical-align: top;\n",
       "    }\n",
       "\n",
       "    .dataframe thead th {\n",
       "        text-align: right;\n",
       "    }\n",
       "</style>\n",
       "<table border=\"1\" class=\"dataframe\">\n",
       "  <thead>\n",
       "    <tr style=\"text-align: right;\">\n",
       "      <th></th>\n",
       "      <th>shapeName</th>\n",
       "      <th>shapeID</th>\n",
       "      <th>shapeGroup</th>\n",
       "      <th>shapeType</th>\n",
       "      <th>geometry</th>\n",
       "    </tr>\n",
       "  </thead>\n",
       "  <tbody>\n",
       "    <tr>\n",
       "      <th>0</th>\n",
       "      <td>Deh Bala</td>\n",
       "      <td>17698898B67359070524975</td>\n",
       "      <td>AFG</td>\n",
       "      <td>ADM2</td>\n",
       "      <td>POLYGON ((70.51142 33.9492, 70.51889 33.95499,...</td>\n",
       "    </tr>\n",
       "    <tr>\n",
       "      <th>1</th>\n",
       "      <td>Gulran</td>\n",
       "      <td>17698898B98443198567384</td>\n",
       "      <td>AFG</td>\n",
       "      <td>ADM2</td>\n",
       "      <td>POLYGON ((62.0076 35.44597, 62.00551 35.44639,...</td>\n",
       "    </tr>\n",
       "    <tr>\n",
       "      <th>2</th>\n",
       "      <td>Koshk</td>\n",
       "      <td>17698898B82675281335003</td>\n",
       "      <td>AFG</td>\n",
       "      <td>ADM2</td>\n",
       "      <td>POLYGON ((61.99554 34.74465, 62.0176 34.73953,...</td>\n",
       "    </tr>\n",
       "    <tr>\n",
       "      <th>3</th>\n",
       "      <td>Chaparhar</td>\n",
       "      <td>17698898B74585757664988</td>\n",
       "      <td>AFG</td>\n",
       "      <td>ADM2</td>\n",
       "      <td>POLYGON ((70.41933 34.23071, 70.42355 34.27594...</td>\n",
       "    </tr>\n",
       "    <tr>\n",
       "      <th>4</th>\n",
       "      <td>Koshki Kohna</td>\n",
       "      <td>17698898B84066352785355</td>\n",
       "      <td>AFG</td>\n",
       "      <td>ADM2</td>\n",
       "      <td>POLYGON ((62.41693 34.67412, 62.50038 34.67112...</td>\n",
       "    </tr>\n",
       "    <tr>\n",
       "      <th>...</th>\n",
       "      <td>...</td>\n",
       "      <td>...</td>\n",
       "      <td>...</td>\n",
       "      <td>...</td>\n",
       "      <td>...</td>\n",
       "    </tr>\n",
       "    <tr>\n",
       "      <th>49344</th>\n",
       "      <td>Sanafir &amp; Tiran Is.</td>\n",
       "      <td>DIS016</td>\n",
       "      <td>126</td>\n",
       "      <td>DISP</td>\n",
       "      <td>MULTIPOLYGON (((34.69143 27.95899, 34.69119 27...</td>\n",
       "    </tr>\n",
       "    <tr>\n",
       "      <th>49345</th>\n",
       "      <td>Senkakus</td>\n",
       "      <td>DIS017</td>\n",
       "      <td>127</td>\n",
       "      <td>DISP</td>\n",
       "      <td>POLYGON ((123.47986 25.7507, 123.47791 25.7520...</td>\n",
       "    </tr>\n",
       "    <tr>\n",
       "      <th>49346</th>\n",
       "      <td>Spratly Is</td>\n",
       "      <td>DIS018</td>\n",
       "      <td>128</td>\n",
       "      <td>DISP</td>\n",
       "      <td>POLYGON ((114.33955 11.44331, 114.3383 11.4445...</td>\n",
       "    </tr>\n",
       "    <tr>\n",
       "      <th>49347</th>\n",
       "      <td>West Bank</td>\n",
       "      <td>DIS019</td>\n",
       "      <td>129</td>\n",
       "      <td>DISP</td>\n",
       "      <td>POLYGON ((35.55865 31.7635, 35.55857 31.76376,...</td>\n",
       "    </tr>\n",
       "    <tr>\n",
       "      <th>49348</th>\n",
       "      <td>Western Sahara</td>\n",
       "      <td>DIS020</td>\n",
       "      <td>ESH</td>\n",
       "      <td>DISP</td>\n",
       "      <td>POLYGON ((-8.66799 27.66727, -8.70583 27.66727...</td>\n",
       "    </tr>\n",
       "  </tbody>\n",
       "</table>\n",
       "<p>49349 rows × 5 columns</p>\n",
       "</div>"
      ],
      "text/plain": [
       "                 shapeName                  shapeID shapeGroup shapeType   \n",
       "0                 Deh Bala  17698898B67359070524975        AFG      ADM2  \\\n",
       "1                   Gulran  17698898B98443198567384        AFG      ADM2   \n",
       "2                    Koshk  17698898B82675281335003        AFG      ADM2   \n",
       "3                Chaparhar  17698898B74585757664988        AFG      ADM2   \n",
       "4             Koshki Kohna  17698898B84066352785355        AFG      ADM2   \n",
       "...                    ...                      ...        ...       ...   \n",
       "49344  Sanafir & Tiran Is.                   DIS016        126      DISP   \n",
       "49345             Senkakus                   DIS017        127      DISP   \n",
       "49346           Spratly Is                   DIS018        128      DISP   \n",
       "49347            West Bank                   DIS019        129      DISP   \n",
       "49348       Western Sahara                   DIS020        ESH      DISP   \n",
       "\n",
       "                                                geometry  \n",
       "0      POLYGON ((70.51142 33.9492, 70.51889 33.95499,...  \n",
       "1      POLYGON ((62.0076 35.44597, 62.00551 35.44639,...  \n",
       "2      POLYGON ((61.99554 34.74465, 62.0176 34.73953,...  \n",
       "3      POLYGON ((70.41933 34.23071, 70.42355 34.27594...  \n",
       "4      POLYGON ((62.41693 34.67412, 62.50038 34.67112...  \n",
       "...                                                  ...  \n",
       "49344  MULTIPOLYGON (((34.69143 27.95899, 34.69119 27...  \n",
       "49345  POLYGON ((123.47986 25.7507, 123.47791 25.7520...  \n",
       "49346  POLYGON ((114.33955 11.44331, 114.3383 11.4445...  \n",
       "49347  POLYGON ((35.55865 31.7635, 35.55857 31.76376,...  \n",
       "49348  POLYGON ((-8.66799 27.66727, -8.70583 27.66727...  \n",
       "\n",
       "[49349 rows x 5 columns]"
      ]
     },
     "execution_count": 11,
     "metadata": {},
     "output_type": "execute_result"
    }
   ],
   "source": [
    "districts_gdf = gpd.read_file(r\"C:\\Users\\j1wag\\Desktop\\Masters Year 1\\Semester 1\\CME538\\Final Assignment\\GeoJsonFiles\\GeoJsonFiles\\geoBoundariesCGAZ_ADM2_districts.geojson\")\n",
    "districts_gdf"
   ]
  },
  {
   "cell_type": "code",
   "execution_count": 12,
   "metadata": {},
   "outputs": [
    {
     "data": {
      "text/html": [
       "<div>\n",
       "<style scoped>\n",
       "    .dataframe tbody tr th:only-of-type {\n",
       "        vertical-align: middle;\n",
       "    }\n",
       "\n",
       "    .dataframe tbody tr th {\n",
       "        vertical-align: top;\n",
       "    }\n",
       "\n",
       "    .dataframe thead th {\n",
       "        text-align: right;\n",
       "    }\n",
       "</style>\n",
       "<table border=\"1\" class=\"dataframe\">\n",
       "  <thead>\n",
       "    <tr style=\"text-align: right;\">\n",
       "      <th></th>\n",
       "      <th>shapeName</th>\n",
       "      <th>shapeID</th>\n",
       "      <th>shapeGroup</th>\n",
       "      <th>shapeType</th>\n",
       "      <th>geometry</th>\n",
       "    </tr>\n",
       "  </thead>\n",
       "  <tbody>\n",
       "    <tr>\n",
       "      <th>114</th>\n",
       "      <td>California</td>\n",
       "      <td>66186276B43071933723331</td>\n",
       "      <td>USA</td>\n",
       "      <td>ADM1</td>\n",
       "      <td>MULTIPOLYGON (((-118.60443 33.47856, -118.5752...</td>\n",
       "    </tr>\n",
       "    <tr>\n",
       "      <th>174</th>\n",
       "      <td>Mendoza</td>\n",
       "      <td>19177384B51705615570562</td>\n",
       "      <td>ARG</td>\n",
       "      <td>ADM1</td>\n",
       "      <td>POLYGON ((-66.56586 -35.98663, -66.45481 -35.3...</td>\n",
       "    </tr>\n",
       "    <tr>\n",
       "      <th>237</th>\n",
       "      <td>South Australia</td>\n",
       "      <td>82085004B14973555098025</td>\n",
       "      <td>AUS</td>\n",
       "      <td>ADM1</td>\n",
       "      <td>MULTIPOLYGON (((133.54444 -32.29146, 133.54459...</td>\n",
       "    </tr>\n",
       "    <tr>\n",
       "      <th>437</th>\n",
       "      <td>Nouvelle-Aquitaine</td>\n",
       "      <td>19338628B12418907782041</td>\n",
       "      <td>FRA</td>\n",
       "      <td>ADM1</td>\n",
       "      <td>MULTIPOLYGON (((-1.41248 46.18439, -1.4117 46....</td>\n",
       "    </tr>\n",
       "    <tr>\n",
       "      <th>626</th>\n",
       "      <td>British Columbia</td>\n",
       "      <td>82249235B24619009834807</td>\n",
       "      <td>CAN</td>\n",
       "      <td>ADM1</td>\n",
       "      <td>MULTIPOLYGON (((-130.35123 53.50914, -130.3535...</td>\n",
       "    </tr>\n",
       "    <tr>\n",
       "      <th>2473</th>\n",
       "      <td>La Rioja</td>\n",
       "      <td>25490228B81978515469630</td>\n",
       "      <td>ESP</td>\n",
       "      <td>ADM1</td>\n",
       "      <td>POLYGON ((-2.85809 42.63821, -2.8596 42.63649,...</td>\n",
       "    </tr>\n",
       "  </tbody>\n",
       "</table>\n",
       "</div>"
      ],
      "text/plain": [
       "               shapeName                  shapeID shapeGroup shapeType   \n",
       "114           California  66186276B43071933723331        USA      ADM1  \\\n",
       "174              Mendoza  19177384B51705615570562        ARG      ADM1   \n",
       "237      South Australia  82085004B14973555098025        AUS      ADM1   \n",
       "437   Nouvelle-Aquitaine  19338628B12418907782041        FRA      ADM1   \n",
       "626     British Columbia  82249235B24619009834807        CAN      ADM1   \n",
       "2473            La Rioja  25490228B81978515469630        ESP      ADM1   \n",
       "\n",
       "                                               geometry  \n",
       "114   MULTIPOLYGON (((-118.60443 33.47856, -118.5752...  \n",
       "174   POLYGON ((-66.56586 -35.98663, -66.45481 -35.3...  \n",
       "237   MULTIPOLYGON (((133.54444 -32.29146, 133.54459...  \n",
       "437   MULTIPOLYGON (((-1.41248 46.18439, -1.4117 46....  \n",
       "626   MULTIPOLYGON (((-130.35123 53.50914, -130.3535...  \n",
       "2473  POLYGON ((-2.85809 42.63821, -2.8596 42.63649,...  "
      ]
     },
     "execution_count": 12,
     "metadata": {},
     "output_type": "execute_result"
    }
   ],
   "source": [
    "regions_gdf[regions_gdf['shapeName'].isin(states)]"
   ]
  },
  {
   "cell_type": "code",
   "execution_count": 13,
   "metadata": {},
   "outputs": [
    {
     "data": {
      "text/html": [
       "<div>\n",
       "<style scoped>\n",
       "    .dataframe tbody tr th:only-of-type {\n",
       "        vertical-align: middle;\n",
       "    }\n",
       "\n",
       "    .dataframe tbody tr th {\n",
       "        vertical-align: top;\n",
       "    }\n",
       "\n",
       "    .dataframe thead th {\n",
       "        text-align: right;\n",
       "    }\n",
       "</style>\n",
       "<table border=\"1\" class=\"dataframe\">\n",
       "  <thead>\n",
       "    <tr style=\"text-align: right;\">\n",
       "      <th></th>\n",
       "      <th>shapeName</th>\n",
       "      <th>shapeID</th>\n",
       "      <th>shapeGroup</th>\n",
       "      <th>shapeType</th>\n",
       "      <th>geometry</th>\n",
       "    </tr>\n",
       "  </thead>\n",
       "  <tbody>\n",
       "    <tr>\n",
       "      <th>1473</th>\n",
       "      <td>San Luis Obispo</td>\n",
       "      <td>52423323B67227670427960</td>\n",
       "      <td>USA</td>\n",
       "      <td>ADM2</td>\n",
       "      <td>POLYGON ((-121.34638 35.79519, -121.34307 35.7...</td>\n",
       "    </tr>\n",
       "    <tr>\n",
       "      <th>2472</th>\n",
       "      <td>Tulare</td>\n",
       "      <td>52423323B44496470224494</td>\n",
       "      <td>USA</td>\n",
       "      <td>ADM2</td>\n",
       "      <td>POLYGON ((-118.3606 36.74478, -118.55504 36.73...</td>\n",
       "    </tr>\n",
       "    <tr>\n",
       "      <th>2661</th>\n",
       "      <td>Napa</td>\n",
       "      <td>52423323B42957866846180</td>\n",
       "      <td>USA</td>\n",
       "      <td>ADM2</td>\n",
       "      <td>POLYGON ((-122.39507 38.86425, -122.3735 38.81...</td>\n",
       "    </tr>\n",
       "    <tr>\n",
       "      <th>2792</th>\n",
       "      <td>Sonoma</td>\n",
       "      <td>52423323B39454223771984</td>\n",
       "      <td>USA</td>\n",
       "      <td>ADM2</td>\n",
       "      <td>POLYGON ((-122.4068 38.15564, -122.3668 38.247...</td>\n",
       "    </tr>\n",
       "    <tr>\n",
       "      <th>2946</th>\n",
       "      <td>Mendocino</td>\n",
       "      <td>52423323B12422674135738</td>\n",
       "      <td>USA</td>\n",
       "      <td>ADM2</td>\n",
       "      <td>POLYGON ((-122.93403 39.97814, -123.54458 39.9...</td>\n",
       "    </tr>\n",
       "    <tr>\n",
       "      <th>3976</th>\n",
       "      <td>San Carlos</td>\n",
       "      <td>61730980B20324539983987</td>\n",
       "      <td>ARG</td>\n",
       "      <td>ADM2</td>\n",
       "      <td>POLYGON ((-66.2086 -26.1357, -66.2074 -26.1294...</td>\n",
       "    </tr>\n",
       "    <tr>\n",
       "      <th>4151</th>\n",
       "      <td>Tunuyán</td>\n",
       "      <td>61730980B64785063825959</td>\n",
       "      <td>ARG</td>\n",
       "      <td>ADM2</td>\n",
       "      <td>POLYGON ((-68.99736 -33.53927, -69.00033 -33.5...</td>\n",
       "    </tr>\n",
       "    <tr>\n",
       "      <th>4216</th>\n",
       "      <td>Tupungato</td>\n",
       "      <td>61730980B55098803042234</td>\n",
       "      <td>ARG</td>\n",
       "      <td>ADM2</td>\n",
       "      <td>POLYGON ((-68.79776 -33.39044, -68.7973 -33.38...</td>\n",
       "    </tr>\n",
       "    <tr>\n",
       "      <th>4252</th>\n",
       "      <td>San Rafael</td>\n",
       "      <td>61730980B42121604183922</td>\n",
       "      <td>ARG</td>\n",
       "      <td>ADM2</td>\n",
       "      <td>POLYGON ((-68.45261 -34.21076, -68.45861 -34.2...</td>\n",
       "    </tr>\n",
       "    <tr>\n",
       "      <th>4254</th>\n",
       "      <td>San Carlos</td>\n",
       "      <td>61730980B94822321270328</td>\n",
       "      <td>ARG</td>\n",
       "      <td>ADM2</td>\n",
       "      <td>POLYGON ((-68.29034 -33.46136, -68.59348 -33.4...</td>\n",
       "    </tr>\n",
       "    <tr>\n",
       "      <th>4335</th>\n",
       "      <td>Luján de Cuyo</td>\n",
       "      <td>61730980B1211136539314</td>\n",
       "      <td>ARG</td>\n",
       "      <td>ADM2</td>\n",
       "      <td>POLYGON ((-68.68456 -33.24731, -68.68429 -33.2...</td>\n",
       "    </tr>\n",
       "    <tr>\n",
       "      <th>5302</th>\n",
       "      <td>Barossa</td>\n",
       "      <td>25037944B31531764292735</td>\n",
       "      <td>AUS</td>\n",
       "      <td>ADM2</td>\n",
       "      <td>POLYGON ((139.04178 -34.81532, 139.04393 -34.8...</td>\n",
       "    </tr>\n",
       "    <tr>\n",
       "      <th>5309</th>\n",
       "      <td>Clare and Gilbert Valleys</td>\n",
       "      <td>25037944B42711318671021</td>\n",
       "      <td>AUS</td>\n",
       "      <td>ADM2</td>\n",
       "      <td>POLYGON ((138.5445 -33.65913, 138.54409 -33.66...</td>\n",
       "    </tr>\n",
       "    <tr>\n",
       "      <th>5338</th>\n",
       "      <td>Onkaparinga</td>\n",
       "      <td>25037944B62747843124796</td>\n",
       "      <td>AUS</td>\n",
       "      <td>ADM2</td>\n",
       "      <td>POLYGON ((138.67605 -35.03007, 138.67555 -35.0...</td>\n",
       "    </tr>\n",
       "    <tr>\n",
       "      <th>5361</th>\n",
       "      <td>Wattle Range</td>\n",
       "      <td>25037944B1081142143908</td>\n",
       "      <td>AUS</td>\n",
       "      <td>ADM2</td>\n",
       "      <td>POLYGON ((140.97318 -37.35822, 140.97307 -37.3...</td>\n",
       "    </tr>\n",
       "    <tr>\n",
       "      <th>5367</th>\n",
       "      <td>Unincorporated SA</td>\n",
       "      <td>25037944B19571193858150</td>\n",
       "      <td>AUS</td>\n",
       "      <td>ADM2</td>\n",
       "      <td>MULTIPOLYGON (((136.45222 -35.1458, 136.45008 ...</td>\n",
       "    </tr>\n",
       "    <tr>\n",
       "      <th>6709</th>\n",
       "      <td>San Rafael</td>\n",
       "      <td>7082276B22021388124839</td>\n",
       "      <td>COL</td>\n",
       "      <td>ADM2</td>\n",
       "      <td>POLYGON ((-74.82822 6.33866, -74.83287 6.34221...</td>\n",
       "    </tr>\n",
       "    <tr>\n",
       "      <th>7008</th>\n",
       "      <td>San Carlos</td>\n",
       "      <td>7082276B57278693475313</td>\n",
       "      <td>COL</td>\n",
       "      <td>ADM2</td>\n",
       "      <td>POLYGON ((-75.11781 6.23536, -75.12094 6.23101...</td>\n",
       "    </tr>\n",
       "    <tr>\n",
       "      <th>7227</th>\n",
       "      <td>San Carlos</td>\n",
       "      <td>7082276B45851614752586</td>\n",
       "      <td>COL</td>\n",
       "      <td>ADM2</td>\n",
       "      <td>POLYGON ((-75.67831 8.51408, -75.67823 8.51547...</td>\n",
       "    </tr>\n",
       "    <tr>\n",
       "      <th>13435</th>\n",
       "      <td>Charente</td>\n",
       "      <td>29444166B23450851942643</td>\n",
       "      <td>FRA</td>\n",
       "      <td>ADM2</td>\n",
       "      <td>POLYGON ((-0.10312 45.96966, -0.10351 45.96763...</td>\n",
       "    </tr>\n",
       "    <tr>\n",
       "      <th>13441</th>\n",
       "      <td>Creuse</td>\n",
       "      <td>29444166B65722517525705</td>\n",
       "      <td>FRA</td>\n",
       "      <td>ADM2</td>\n",
       "      <td>POLYGON ((2.28109 46.42047, 2.27783 46.42072, ...</td>\n",
       "    </tr>\n",
       "    <tr>\n",
       "      <th>13442</th>\n",
       "      <td>Dordogne</td>\n",
       "      <td>29444166B3241556097254</td>\n",
       "      <td>FRA</td>\n",
       "      <td>ADM2</td>\n",
       "      <td>POLYGON ((0.00424 45.19167, 0.00399 45.18976, ...</td>\n",
       "    </tr>\n",
       "    <tr>\n",
       "      <th>13451</th>\n",
       "      <td>Gironde</td>\n",
       "      <td>29444166B86553747081520</td>\n",
       "      <td>FRA</td>\n",
       "      <td>ADM2</td>\n",
       "      <td>MULTIPOLYGON (((-1.01634 44.65529, -1.01882 44...</td>\n",
       "    </tr>\n",
       "    <tr>\n",
       "      <th>13497</th>\n",
       "      <td>Deux-Sèvres</td>\n",
       "      <td>29444166B3130633303914</td>\n",
       "      <td>FRA</td>\n",
       "      <td>ADM2</td>\n",
       "      <td>POLYGON ((0.19745 46.09541, 0.19648 46.09632, ...</td>\n",
       "    </tr>\n",
       "    <tr>\n",
       "      <th>14656</th>\n",
       "      <td>Vancouver Island and Coast / *</td>\n",
       "      <td>811477B94175417420797</td>\n",
       "      <td>CAN</td>\n",
       "      <td>ADM2</td>\n",
       "      <td>MULTIPOLYGON (((-126.60911 53.00028, -126.6297...</td>\n",
       "    </tr>\n",
       "    <tr>\n",
       "      <th>14658</th>\n",
       "      <td>Thompson--Okanagan</td>\n",
       "      <td>811477B2093292378449</td>\n",
       "      <td>CAN</td>\n",
       "      <td>ADM2</td>\n",
       "      <td>POLYGON ((-119.29492 49.00005, -119.30151 49.0...</td>\n",
       "    </tr>\n",
       "    <tr>\n",
       "      <th>14662</th>\n",
       "      <td>Nechako</td>\n",
       "      <td>811477B50846318398433</td>\n",
       "      <td>CAN</td>\n",
       "      <td>ADM2</td>\n",
       "      <td>POLYGON ((-135.71672 59.72937, -135.69546 59.7...</td>\n",
       "    </tr>\n",
       "    <tr>\n",
       "      <th>14697</th>\n",
       "      <td>San Rafael</td>\n",
       "      <td>36466004B33619943127012</td>\n",
       "      <td>CRI</td>\n",
       "      <td>ADM2</td>\n",
       "      <td>POLYGON ((-84.04397 10.06261, -84.04458 10.064...</td>\n",
       "    </tr>\n",
       "    <tr>\n",
       "      <th>14731</th>\n",
       "      <td>San Carlos</td>\n",
       "      <td>36466004B93009353653886</td>\n",
       "      <td>CRI</td>\n",
       "      <td>ADM2</td>\n",
       "      <td>POLYGON ((-84.16119 10.78541, -84.16148 10.785...</td>\n",
       "    </tr>\n",
       "    <tr>\n",
       "      <th>15685</th>\n",
       "      <td>Provincia de Elqui</td>\n",
       "      <td>35621905B31470436966302</td>\n",
       "      <td>CHL</td>\n",
       "      <td>ADM2</td>\n",
       "      <td>POLYGON ((-69.9532 -29.49877, -69.96631 -29.49...</td>\n",
       "    </tr>\n",
       "    <tr>\n",
       "      <th>19650</th>\n",
       "      <td>San Rafael</td>\n",
       "      <td>79315794B12575080956445</td>\n",
       "      <td>SLV</td>\n",
       "      <td>ADM2</td>\n",
       "      <td>POLYGON ((-89.07478 14.13966, -89.07959 14.135...</td>\n",
       "    </tr>\n",
       "    <tr>\n",
       "      <th>19820</th>\n",
       "      <td>San Rafael</td>\n",
       "      <td>79315794B33674130591539</td>\n",
       "      <td>SLV</td>\n",
       "      <td>ADM2</td>\n",
       "      <td>POLYGON ((-88.38431 13.43777, -88.39062 13.412...</td>\n",
       "    </tr>\n",
       "    <tr>\n",
       "      <th>19850</th>\n",
       "      <td>San Carlos</td>\n",
       "      <td>79315794B31320267138614</td>\n",
       "      <td>SLV</td>\n",
       "      <td>ADM2</td>\n",
       "      <td>POLYGON ((-88.14961 13.61981, -88.14147 13.608...</td>\n",
       "    </tr>\n",
       "    <tr>\n",
       "      <th>21980</th>\n",
       "      <td>San Rafael</td>\n",
       "      <td>27666195B54610294304045</td>\n",
       "      <td>HND</td>\n",
       "      <td>ADM2</td>\n",
       "      <td>POLYGON ((-88.34792 14.65252, -88.33836 14.660...</td>\n",
       "    </tr>\n",
       "    <tr>\n",
       "      <th>24731</th>\n",
       "      <td>Toscana</td>\n",
       "      <td>23120603B95153686365028</td>\n",
       "      <td>ITA</td>\n",
       "      <td>ADM2</td>\n",
       "      <td>MULTIPOLYGON (((10.31862 42.34687, 10.31701 42...</td>\n",
       "    </tr>\n",
       "    <tr>\n",
       "      <th>24732</th>\n",
       "      <td>Umbria</td>\n",
       "      <td>23120603B26790412086965</td>\n",
       "      <td>ITA</td>\n",
       "      <td>ADM2</td>\n",
       "      <td>MULTIPOLYGON (((12.42531 43.60909, 12.42345 43...</td>\n",
       "    </tr>\n",
       "    <tr>\n",
       "      <th>24733</th>\n",
       "      <td>Marche</td>\n",
       "      <td>23120603B49951072422318</td>\n",
       "      <td>ITA</td>\n",
       "      <td>ADM2</td>\n",
       "      <td>POLYGON ((12.4874 43.89647, 12.48077 43.8968, ...</td>\n",
       "    </tr>\n",
       "    <tr>\n",
       "      <th>24734</th>\n",
       "      <td>Lazio</td>\n",
       "      <td>23120603B86473916475875</td>\n",
       "      <td>ITA</td>\n",
       "      <td>ADM2</td>\n",
       "      <td>MULTIPOLYGON (((12.98497 40.93541, 12.98356 40...</td>\n",
       "    </tr>\n",
       "    <tr>\n",
       "      <th>31486</th>\n",
       "      <td>San Carlos</td>\n",
       "      <td>50627088B50808135515574</td>\n",
       "      <td>MEX</td>\n",
       "      <td>ADM2</td>\n",
       "      <td>POLYGON ((-99.21289 24.77167, -99.19768 24.731...</td>\n",
       "    </tr>\n",
       "    <tr>\n",
       "      <th>31788</th>\n",
       "      <td>San Rafael</td>\n",
       "      <td>50627088B57037698095260</td>\n",
       "      <td>MEX</td>\n",
       "      <td>ADM2</td>\n",
       "      <td>POLYGON ((-96.9431 20.1349, -96.94072 20.13463...</td>\n",
       "    </tr>\n",
       "    <tr>\n",
       "      <th>32517</th>\n",
       "      <td>San Carlos</td>\n",
       "      <td>35544464B52564118130817</td>\n",
       "      <td>PAN</td>\n",
       "      <td>ADM2</td>\n",
       "      <td>POLYGON ((-80.04338 8.4095, -80.04301 8.40951,...</td>\n",
       "    </tr>\n",
       "    <tr>\n",
       "      <th>32779</th>\n",
       "      <td>San Carlos</td>\n",
       "      <td>47425931B6950214769686</td>\n",
       "      <td>PRY</td>\n",
       "      <td>ADM2</td>\n",
       "      <td>POLYGON ((-57.05042 -22.23169, -57.05052 -22.2...</td>\n",
       "    </tr>\n",
       "    <tr>\n",
       "      <th>33730</th>\n",
       "      <td>Torre de Moncorvo</td>\n",
       "      <td>2272694B40745083839882</td>\n",
       "      <td>PRT</td>\n",
       "      <td>ADM2</td>\n",
       "      <td>POLYGON ((-7.02105 41.05076, -7.00752 41.12277...</td>\n",
       "    </tr>\n",
       "    <tr>\n",
       "      <th>33731</th>\n",
       "      <td>Freixo de Espada a Cinta</td>\n",
       "      <td>2272694B39010061947552</td>\n",
       "      <td>PRT</td>\n",
       "      <td>ADM2</td>\n",
       "      <td>POLYGON ((-6.92939 41.0291, -6.92968 41.03027,...</td>\n",
       "    </tr>\n",
       "    <tr>\n",
       "      <th>40645</th>\n",
       "      <td>Rioja, La</td>\n",
       "      <td>93216281B63633419505726</td>\n",
       "      <td>ESP</td>\n",
       "      <td>ADM2</td>\n",
       "      <td>POLYGON ((-2.85809 42.6382, -2.8596 42.63649, ...</td>\n",
       "    </tr>\n",
       "    <tr>\n",
       "      <th>43937</th>\n",
       "      <td>San Carlos</td>\n",
       "      <td>84410073B16503485399058</td>\n",
       "      <td>URY</td>\n",
       "      <td>ADM2</td>\n",
       "      <td>POLYGON ((-55.02985 -34.79668, -55.01961 -34.7...</td>\n",
       "    </tr>\n",
       "    <tr>\n",
       "      <th>44436</th>\n",
       "      <td>San Carlos</td>\n",
       "      <td>92452058B56896825974617</td>\n",
       "      <td>VEN</td>\n",
       "      <td>ADM2</td>\n",
       "      <td>POLYGON ((-68.73105 9.52524, -68.72805 9.52584...</td>\n",
       "    </tr>\n",
       "  </tbody>\n",
       "</table>\n",
       "</div>"
      ],
      "text/plain": [
       "                            shapeName                  shapeID shapeGroup   \n",
       "1473                  San Luis Obispo  52423323B67227670427960        USA  \\\n",
       "2472                           Tulare  52423323B44496470224494        USA   \n",
       "2661                             Napa  52423323B42957866846180        USA   \n",
       "2792                           Sonoma  52423323B39454223771984        USA   \n",
       "2946                        Mendocino  52423323B12422674135738        USA   \n",
       "3976                       San Carlos  61730980B20324539983987        ARG   \n",
       "4151                          Tunuyán  61730980B64785063825959        ARG   \n",
       "4216                        Tupungato  61730980B55098803042234        ARG   \n",
       "4252                       San Rafael  61730980B42121604183922        ARG   \n",
       "4254                       San Carlos  61730980B94822321270328        ARG   \n",
       "4335                    Luján de Cuyo   61730980B1211136539314        ARG   \n",
       "5302                          Barossa  25037944B31531764292735        AUS   \n",
       "5309        Clare and Gilbert Valleys  25037944B42711318671021        AUS   \n",
       "5338                      Onkaparinga  25037944B62747843124796        AUS   \n",
       "5361                     Wattle Range   25037944B1081142143908        AUS   \n",
       "5367                Unincorporated SA  25037944B19571193858150        AUS   \n",
       "6709                       San Rafael   7082276B22021388124839        COL   \n",
       "7008                       San Carlos   7082276B57278693475313        COL   \n",
       "7227                       San Carlos   7082276B45851614752586        COL   \n",
       "13435                        Charente  29444166B23450851942643        FRA   \n",
       "13441                          Creuse  29444166B65722517525705        FRA   \n",
       "13442                        Dordogne   29444166B3241556097254        FRA   \n",
       "13451                         Gironde  29444166B86553747081520        FRA   \n",
       "13497                     Deux-Sèvres   29444166B3130633303914        FRA   \n",
       "14656  Vancouver Island and Coast / *    811477B94175417420797        CAN   \n",
       "14658              Thompson--Okanagan     811477B2093292378449        CAN   \n",
       "14662                         Nechako    811477B50846318398433        CAN   \n",
       "14697                      San Rafael  36466004B33619943127012        CRI   \n",
       "14731                      San Carlos  36466004B93009353653886        CRI   \n",
       "15685              Provincia de Elqui  35621905B31470436966302        CHL   \n",
       "19650                      San Rafael  79315794B12575080956445        SLV   \n",
       "19820                      San Rafael  79315794B33674130591539        SLV   \n",
       "19850                      San Carlos  79315794B31320267138614        SLV   \n",
       "21980                      San Rafael  27666195B54610294304045        HND   \n",
       "24731                         Toscana  23120603B95153686365028        ITA   \n",
       "24732                          Umbria  23120603B26790412086965        ITA   \n",
       "24733                          Marche  23120603B49951072422318        ITA   \n",
       "24734                           Lazio  23120603B86473916475875        ITA   \n",
       "31486                      San Carlos  50627088B50808135515574        MEX   \n",
       "31788                      San Rafael  50627088B57037698095260        MEX   \n",
       "32517                      San Carlos  35544464B52564118130817        PAN   \n",
       "32779                      San Carlos   47425931B6950214769686        PRY   \n",
       "33730               Torre de Moncorvo   2272694B40745083839882        PRT   \n",
       "33731        Freixo de Espada a Cinta   2272694B39010061947552        PRT   \n",
       "40645                       Rioja, La  93216281B63633419505726        ESP   \n",
       "43937                      San Carlos  84410073B16503485399058        URY   \n",
       "44436                      San Carlos  92452058B56896825974617        VEN   \n",
       "\n",
       "      shapeType                                           geometry  \n",
       "1473       ADM2  POLYGON ((-121.34638 35.79519, -121.34307 35.7...  \n",
       "2472       ADM2  POLYGON ((-118.3606 36.74478, -118.55504 36.73...  \n",
       "2661       ADM2  POLYGON ((-122.39507 38.86425, -122.3735 38.81...  \n",
       "2792       ADM2  POLYGON ((-122.4068 38.15564, -122.3668 38.247...  \n",
       "2946       ADM2  POLYGON ((-122.93403 39.97814, -123.54458 39.9...  \n",
       "3976       ADM2  POLYGON ((-66.2086 -26.1357, -66.2074 -26.1294...  \n",
       "4151       ADM2  POLYGON ((-68.99736 -33.53927, -69.00033 -33.5...  \n",
       "4216       ADM2  POLYGON ((-68.79776 -33.39044, -68.7973 -33.38...  \n",
       "4252       ADM2  POLYGON ((-68.45261 -34.21076, -68.45861 -34.2...  \n",
       "4254       ADM2  POLYGON ((-68.29034 -33.46136, -68.59348 -33.4...  \n",
       "4335       ADM2  POLYGON ((-68.68456 -33.24731, -68.68429 -33.2...  \n",
       "5302       ADM2  POLYGON ((139.04178 -34.81532, 139.04393 -34.8...  \n",
       "5309       ADM2  POLYGON ((138.5445 -33.65913, 138.54409 -33.66...  \n",
       "5338       ADM2  POLYGON ((138.67605 -35.03007, 138.67555 -35.0...  \n",
       "5361       ADM2  POLYGON ((140.97318 -37.35822, 140.97307 -37.3...  \n",
       "5367       ADM2  MULTIPOLYGON (((136.45222 -35.1458, 136.45008 ...  \n",
       "6709       ADM2  POLYGON ((-74.82822 6.33866, -74.83287 6.34221...  \n",
       "7008       ADM2  POLYGON ((-75.11781 6.23536, -75.12094 6.23101...  \n",
       "7227       ADM2  POLYGON ((-75.67831 8.51408, -75.67823 8.51547...  \n",
       "13435      ADM2  POLYGON ((-0.10312 45.96966, -0.10351 45.96763...  \n",
       "13441      ADM2  POLYGON ((2.28109 46.42047, 2.27783 46.42072, ...  \n",
       "13442      ADM2  POLYGON ((0.00424 45.19167, 0.00399 45.18976, ...  \n",
       "13451      ADM2  MULTIPOLYGON (((-1.01634 44.65529, -1.01882 44...  \n",
       "13497      ADM2  POLYGON ((0.19745 46.09541, 0.19648 46.09632, ...  \n",
       "14656      ADM2  MULTIPOLYGON (((-126.60911 53.00028, -126.6297...  \n",
       "14658      ADM2  POLYGON ((-119.29492 49.00005, -119.30151 49.0...  \n",
       "14662      ADM2  POLYGON ((-135.71672 59.72937, -135.69546 59.7...  \n",
       "14697      ADM2  POLYGON ((-84.04397 10.06261, -84.04458 10.064...  \n",
       "14731      ADM2  POLYGON ((-84.16119 10.78541, -84.16148 10.785...  \n",
       "15685      ADM2  POLYGON ((-69.9532 -29.49877, -69.96631 -29.49...  \n",
       "19650      ADM2  POLYGON ((-89.07478 14.13966, -89.07959 14.135...  \n",
       "19820      ADM2  POLYGON ((-88.38431 13.43777, -88.39062 13.412...  \n",
       "19850      ADM2  POLYGON ((-88.14961 13.61981, -88.14147 13.608...  \n",
       "21980      ADM2  POLYGON ((-88.34792 14.65252, -88.33836 14.660...  \n",
       "24731      ADM2  MULTIPOLYGON (((10.31862 42.34687, 10.31701 42...  \n",
       "24732      ADM2  MULTIPOLYGON (((12.42531 43.60909, 12.42345 43...  \n",
       "24733      ADM2  POLYGON ((12.4874 43.89647, 12.48077 43.8968, ...  \n",
       "24734      ADM2  MULTIPOLYGON (((12.98497 40.93541, 12.98356 40...  \n",
       "31486      ADM2  POLYGON ((-99.21289 24.77167, -99.19768 24.731...  \n",
       "31788      ADM2  POLYGON ((-96.9431 20.1349, -96.94072 20.13463...  \n",
       "32517      ADM2  POLYGON ((-80.04338 8.4095, -80.04301 8.40951,...  \n",
       "32779      ADM2  POLYGON ((-57.05042 -22.23169, -57.05052 -22.2...  \n",
       "33730      ADM2  POLYGON ((-7.02105 41.05076, -7.00752 41.12277...  \n",
       "33731      ADM2  POLYGON ((-6.92939 41.0291, -6.92968 41.03027,...  \n",
       "40645      ADM2  POLYGON ((-2.85809 42.6382, -2.8596 42.63649, ...  \n",
       "43937      ADM2  POLYGON ((-55.02985 -34.79668, -55.01961 -34.7...  \n",
       "44436      ADM2  POLYGON ((-68.73105 9.52524, -68.72805 9.52584...  "
      ]
     },
     "execution_count": 13,
     "metadata": {},
     "output_type": "execute_result"
    }
   ],
   "source": [
    "districts_gdf[districts_gdf['shapeName'].isin(districts)]"
   ]
  },
  {
   "cell_type": "code",
   "execution_count": null,
   "metadata": {},
   "outputs": [],
   "source": [
    "all_wines_df = pd.read_csv('all_filtered_winebottle_v1.csv')"
   ]
  },
  {
   "cell_type": "code",
   "execution_count": null,
   "metadata": {},
   "outputs": [],
   "source": [
    "country_gdf = gpd.read_file(r\"C:\\Users\\j1wag\\Desktop\\Masters Year 1\\Semester 1\\CME538\\Final Assignment\\GeoJsonFiles\\GeoJsonFiles\\custom_country.geo.JSON\")"
   ]
  },
  {
   "cell_type": "code",
   "execution_count": 16,
   "metadata": {},
   "outputs": [],
   "source": [
    "country_gdf = country_gdf[country_gdf['sovereignt'].isin(countries + ['United States of America'])]\n",
    "country_gdf = country_gdf[country_gdf['admin'] == country_gdf['sovereignt']]\n",
    "country_gdf = country_gdf[['sovereignt', 'geometry']]\n",
    "country_gdf = country_gdf.replace('United States of America', 'United States')\n",
    "country_gdf = country_gdf.rename(columns={'sovereignt': 'Country'})\n"
   ]
  },
  {
   "cell_type": "code",
   "execution_count": 70,
   "metadata": {},
   "outputs": [
    {
     "data": {
      "text/html": [
       "<div>\n",
       "<style scoped>\n",
       "    .dataframe tbody tr th:only-of-type {\n",
       "        vertical-align: middle;\n",
       "    }\n",
       "\n",
       "    .dataframe tbody tr th {\n",
       "        vertical-align: top;\n",
       "    }\n",
       "\n",
       "    .dataframe thead th {\n",
       "        text-align: right;\n",
       "    }\n",
       "</style>\n",
       "<table border=\"1\" class=\"dataframe\">\n",
       "  <thead>\n",
       "    <tr style=\"text-align: right;\">\n",
       "      <th></th>\n",
       "      <th>id</th>\n",
       "      <th>name_x</th>\n",
       "      <th>Country</th>\n",
       "      <th>Region</th>\n",
       "      <th>Producer</th>\n",
       "      <th>WineType</th>\n",
       "      <th>year</th>\n",
       "      <th>has_valid_ratings</th>\n",
       "      <th>ratings_average</th>\n",
       "      <th>reviews_count</th>\n",
       "      <th>amount</th>\n",
       "      <th>type</th>\n",
       "      <th>Tannin</th>\n",
       "      <th>Acidity</th>\n",
       "      <th>Intensity</th>\n",
       "      <th>Sweetness</th>\n",
       "    </tr>\n",
       "  </thead>\n",
       "  <tbody>\n",
       "    <tr>\n",
       "      <th>0</th>\n",
       "      <td>172970038</td>\n",
       "      <td>È Jamu Zimbato Chianti 2021</td>\n",
       "      <td>Italy</td>\n",
       "      <td>Chianti</td>\n",
       "      <td>È Jamu</td>\n",
       "      <td>Zimbato Chianti</td>\n",
       "      <td>2021.0</td>\n",
       "      <td>True</td>\n",
       "      <td>4.0</td>\n",
       "      <td>8.0</td>\n",
       "      <td>NaN</td>\n",
       "      <td>best_user_rated</td>\n",
       "      <td>4.0</td>\n",
       "      <td>4.0</td>\n",
       "      <td>3.0</td>\n",
       "      <td>1.0</td>\n",
       "    </tr>\n",
       "    <tr>\n",
       "      <th>1</th>\n",
       "      <td>165847548</td>\n",
       "      <td>È Jamu Zimbato Chianti 2019</td>\n",
       "      <td>Italy</td>\n",
       "      <td>Chianti</td>\n",
       "      <td>È Jamu</td>\n",
       "      <td>Zimbato Chianti</td>\n",
       "      <td>2019.0</td>\n",
       "      <td>True</td>\n",
       "      <td>3.9</td>\n",
       "      <td>17.0</td>\n",
       "      <td>NaN</td>\n",
       "      <td>most_user_rated</td>\n",
       "      <td>4.0</td>\n",
       "      <td>4.0</td>\n",
       "      <td>3.0</td>\n",
       "      <td>1.0</td>\n",
       "    </tr>\n",
       "    <tr>\n",
       "      <th>2</th>\n",
       "      <td>164918292</td>\n",
       "      <td>Áster Crianza 2020</td>\n",
       "      <td>Spain</td>\n",
       "      <td>Ribera del Duero</td>\n",
       "      <td>Áster</td>\n",
       "      <td>Crianza</td>\n",
       "      <td>2020.0</td>\n",
       "      <td>True</td>\n",
       "      <td>4.1</td>\n",
       "      <td>107.0</td>\n",
       "      <td>NaN</td>\n",
       "      <td>best_user_rated</td>\n",
       "      <td>4.0</td>\n",
       "      <td>4.0</td>\n",
       "      <td>4.0</td>\n",
       "      <td>1.0</td>\n",
       "    </tr>\n",
       "    <tr>\n",
       "      <th>3</th>\n",
       "      <td>159738134</td>\n",
       "      <td>Áster Crianza 2019</td>\n",
       "      <td>Spain</td>\n",
       "      <td>Ribera del Duero</td>\n",
       "      <td>Áster</td>\n",
       "      <td>Crianza</td>\n",
       "      <td>2019.0</td>\n",
       "      <td>True</td>\n",
       "      <td>4.0</td>\n",
       "      <td>132.0</td>\n",
       "      <td>NaN</td>\n",
       "      <td>NaN</td>\n",
       "      <td>4.0</td>\n",
       "      <td>4.0</td>\n",
       "      <td>4.0</td>\n",
       "      <td>1.0</td>\n",
       "    </tr>\n",
       "    <tr>\n",
       "      <th>4</th>\n",
       "      <td>143423814</td>\n",
       "      <td>Áster Crianza 2016</td>\n",
       "      <td>Spain</td>\n",
       "      <td>Ribera del Duero</td>\n",
       "      <td>Áster</td>\n",
       "      <td>Crianza</td>\n",
       "      <td>2016.0</td>\n",
       "      <td>True</td>\n",
       "      <td>4.1</td>\n",
       "      <td>202.0</td>\n",
       "      <td>NaN</td>\n",
       "      <td>top_ranked</td>\n",
       "      <td>4.0</td>\n",
       "      <td>4.0</td>\n",
       "      <td>4.0</td>\n",
       "      <td>1.0</td>\n",
       "    </tr>\n",
       "    <tr>\n",
       "      <th>...</th>\n",
       "      <td>...</td>\n",
       "      <td>...</td>\n",
       "      <td>...</td>\n",
       "      <td>...</td>\n",
       "      <td>...</td>\n",
       "      <td>...</td>\n",
       "      <td>...</td>\n",
       "      <td>...</td>\n",
       "      <td>...</td>\n",
       "      <td>...</td>\n",
       "      <td>...</td>\n",
       "      <td>...</td>\n",
       "      <td>...</td>\n",
       "      <td>...</td>\n",
       "      <td>...</td>\n",
       "      <td>...</td>\n",
       "    </tr>\n",
       "    <tr>\n",
       "      <th>121200</th>\n",
       "      <td>168770279</td>\n",
       "      <td>100 Nails Ranch Pinot Noir 2020</td>\n",
       "      <td>United States</td>\n",
       "      <td>Central Coast</td>\n",
       "      <td>100 Nails Ranch</td>\n",
       "      <td>Pinot Noir</td>\n",
       "      <td>2020.0</td>\n",
       "      <td>True</td>\n",
       "      <td>3.8</td>\n",
       "      <td>36.0</td>\n",
       "      <td>NaN</td>\n",
       "      <td>best_user_rated</td>\n",
       "      <td>2.0</td>\n",
       "      <td>3.5</td>\n",
       "      <td>3.0</td>\n",
       "      <td>1.0</td>\n",
       "    </tr>\n",
       "    <tr>\n",
       "      <th>121201</th>\n",
       "      <td>167314372</td>\n",
       "      <td>100 Nails Ranch Pinot Noir 2019</td>\n",
       "      <td>United States</td>\n",
       "      <td>Central Coast</td>\n",
       "      <td>100 Nails Ranch</td>\n",
       "      <td>Pinot Noir</td>\n",
       "      <td>2019.0</td>\n",
       "      <td>True</td>\n",
       "      <td>3.5</td>\n",
       "      <td>18.0</td>\n",
       "      <td>NaN</td>\n",
       "      <td>most_user_rated</td>\n",
       "      <td>2.0</td>\n",
       "      <td>3.5</td>\n",
       "      <td>3.0</td>\n",
       "      <td>1.0</td>\n",
       "    </tr>\n",
       "    <tr>\n",
       "      <th>121202</th>\n",
       "      <td>168233793</td>\n",
       "      <td>100 Nails Ranch Cabernet Sauvignon 2020</td>\n",
       "      <td>United States</td>\n",
       "      <td>Paso Robles</td>\n",
       "      <td>100 Nails Ranch</td>\n",
       "      <td>Cabernet Sauvignon</td>\n",
       "      <td>2020.0</td>\n",
       "      <td>True</td>\n",
       "      <td>3.7</td>\n",
       "      <td>45.0</td>\n",
       "      <td>39.19</td>\n",
       "      <td>most_user_rated</td>\n",
       "      <td>4.5</td>\n",
       "      <td>3.5</td>\n",
       "      <td>5.0</td>\n",
       "      <td>1.0</td>\n",
       "    </tr>\n",
       "    <tr>\n",
       "      <th>121203</th>\n",
       "      <td>166756066</td>\n",
       "      <td>100 Nails Ranch Cabernet Sauvignon 2019</td>\n",
       "      <td>United States</td>\n",
       "      <td>Paso Robles</td>\n",
       "      <td>100 Nails Ranch</td>\n",
       "      <td>Cabernet Sauvignon</td>\n",
       "      <td>2019.0</td>\n",
       "      <td>True</td>\n",
       "      <td>3.8</td>\n",
       "      <td>24.0</td>\n",
       "      <td>NaN</td>\n",
       "      <td>best_user_rated</td>\n",
       "      <td>4.5</td>\n",
       "      <td>3.5</td>\n",
       "      <td>5.0</td>\n",
       "      <td>1.0</td>\n",
       "    </tr>\n",
       "    <tr>\n",
       "      <th>121204</th>\n",
       "      <td>166737907</td>\n",
       "      <td>100 Nails Ranch Cabernet Sauvignon 2018</td>\n",
       "      <td>United States</td>\n",
       "      <td>Paso Robles</td>\n",
       "      <td>100 Nails Ranch</td>\n",
       "      <td>Cabernet Sauvignon</td>\n",
       "      <td>2018.0</td>\n",
       "      <td>True</td>\n",
       "      <td>3.8</td>\n",
       "      <td>14.0</td>\n",
       "      <td>NaN</td>\n",
       "      <td>NaN</td>\n",
       "      <td>4.5</td>\n",
       "      <td>3.5</td>\n",
       "      <td>5.0</td>\n",
       "      <td>1.0</td>\n",
       "    </tr>\n",
       "  </tbody>\n",
       "</table>\n",
       "<p>121205 rows × 16 columns</p>\n",
       "</div>"
      ],
      "text/plain": [
       "               id                                   name_x        Country   \n",
       "0       172970038              È Jamu Zimbato Chianti 2021          Italy  \\\n",
       "1       165847548              È Jamu Zimbato Chianti 2019          Italy   \n",
       "2       164918292                       Áster Crianza 2020          Spain   \n",
       "3       159738134                       Áster Crianza 2019          Spain   \n",
       "4       143423814                       Áster Crianza 2016          Spain   \n",
       "...           ...                                      ...            ...   \n",
       "121200  168770279          100 Nails Ranch Pinot Noir 2020  United States   \n",
       "121201  167314372          100 Nails Ranch Pinot Noir 2019  United States   \n",
       "121202  168233793  100 Nails Ranch Cabernet Sauvignon 2020  United States   \n",
       "121203  166756066  100 Nails Ranch Cabernet Sauvignon 2019  United States   \n",
       "121204  166737907  100 Nails Ranch Cabernet Sauvignon 2018  United States   \n",
       "\n",
       "                  Region         Producer            WineType    year   \n",
       "0                Chianti           È Jamu     Zimbato Chianti  2021.0  \\\n",
       "1                Chianti           È Jamu     Zimbato Chianti  2019.0   \n",
       "2       Ribera del Duero            Áster             Crianza  2020.0   \n",
       "3       Ribera del Duero            Áster             Crianza  2019.0   \n",
       "4       Ribera del Duero            Áster             Crianza  2016.0   \n",
       "...                  ...              ...                 ...     ...   \n",
       "121200     Central Coast  100 Nails Ranch          Pinot Noir  2020.0   \n",
       "121201     Central Coast  100 Nails Ranch          Pinot Noir  2019.0   \n",
       "121202       Paso Robles  100 Nails Ranch  Cabernet Sauvignon  2020.0   \n",
       "121203       Paso Robles  100 Nails Ranch  Cabernet Sauvignon  2019.0   \n",
       "121204       Paso Robles  100 Nails Ranch  Cabernet Sauvignon  2018.0   \n",
       "\n",
       "        has_valid_ratings  ratings_average  reviews_count  amount   \n",
       "0                    True              4.0            8.0     NaN  \\\n",
       "1                    True              3.9           17.0     NaN   \n",
       "2                    True              4.1          107.0     NaN   \n",
       "3                    True              4.0          132.0     NaN   \n",
       "4                    True              4.1          202.0     NaN   \n",
       "...                   ...              ...            ...     ...   \n",
       "121200               True              3.8           36.0     NaN   \n",
       "121201               True              3.5           18.0     NaN   \n",
       "121202               True              3.7           45.0   39.19   \n",
       "121203               True              3.8           24.0     NaN   \n",
       "121204               True              3.8           14.0     NaN   \n",
       "\n",
       "                   type  Tannin  Acidity  Intensity  Sweetness  \n",
       "0       best_user_rated     4.0      4.0        3.0        1.0  \n",
       "1       most_user_rated     4.0      4.0        3.0        1.0  \n",
       "2       best_user_rated     4.0      4.0        4.0        1.0  \n",
       "3                   NaN     4.0      4.0        4.0        1.0  \n",
       "4            top_ranked     4.0      4.0        4.0        1.0  \n",
       "...                 ...     ...      ...        ...        ...  \n",
       "121200  best_user_rated     2.0      3.5        3.0        1.0  \n",
       "121201  most_user_rated     2.0      3.5        3.0        1.0  \n",
       "121202  most_user_rated     4.5      3.5        5.0        1.0  \n",
       "121203  best_user_rated     4.5      3.5        5.0        1.0  \n",
       "121204              NaN     4.5      3.5        5.0        1.0  \n",
       "\n",
       "[121205 rows x 16 columns]"
      ]
     },
     "execution_count": 70,
     "metadata": {},
     "output_type": "execute_result"
    }
   ],
   "source": [
    "all_wines_df"
   ]
  },
  {
   "cell_type": "code",
   "execution_count": 92,
   "metadata": {},
   "outputs": [],
   "source": [
    "country_statistics = all_wines_df[all_wines_df['Country'].isin(countries)].groupby('Country').agg(\n",
    "    Wine_Count=('Country', 'value_counts'),  \n",
    "    Tannin_Mean=('Tannin', 'mean'),\n",
    "    Acidity_Mean=('Acidity', 'mean'),\n",
    "    Intensity_Mean=('Intensity', 'mean'),\n",
    "    Sweetness_Mean=('Sweetness', 'mean'),\n",
    "    Price = ('amount', 'mean'),\n",
    "    Rating = ('ratings_average', 'mean')    \n",
    "    )\n",
    "\n",
    "\n",
    "\n",
    "country_statistics['Price_Rating'] = country_statistics['Price'] / country_statistics['Rating']\n",
    "country_statistics = country_statistics.round(2)\n",
    "country_statistics = country_statistics.reset_index(drop = False)\n",
    "\n",
    "# Define columns to merge\n",
    "columns_to_merge = ['Country', 'Country_Latitude', 'Country_Longitude']\n",
    "wine_dist_df_subset = wine_dist_df[columns_to_merge]\n",
    "\n",
    "# Merge the DataFrames on 'Country'\n",
    "country_statistics_final = pd.merge(country_statistics, country_gdf, on='Country', how='left')\n",
    "\n",
    "country_statistics_final['Value'] = np.linspace(0, 100, len(country_statistics_final))"
   ]
  },
  {
   "cell_type": "code",
   "execution_count": 95,
   "metadata": {},
   "outputs": [],
   "source": [
    "price_country_statistics = filtered_wine_df[filtered_wine_df['Country'].isin(countries)].groupby('Country').agg(\n",
    "    Price_to_rating = ('ratings_to_price_ratio', 'mean')\n",
    "    )\n",
    "price_country_statistics = price_country_statistics.sort_values(by = 'Price_to_rating')"
   ]
  },
  {
   "cell_type": "code",
   "execution_count": 118,
   "metadata": {},
   "outputs": [
    {
     "data": {
      "text/html": [
       "<div>\n",
       "<style scoped>\n",
       "    .dataframe tbody tr th:only-of-type {\n",
       "        vertical-align: middle;\n",
       "    }\n",
       "\n",
       "    .dataframe tbody tr th {\n",
       "        vertical-align: top;\n",
       "    }\n",
       "\n",
       "    .dataframe thead th {\n",
       "        text-align: right;\n",
       "    }\n",
       "</style>\n",
       "<table border=\"1\" class=\"dataframe\">\n",
       "  <thead>\n",
       "    <tr style=\"text-align: right;\">\n",
       "      <th></th>\n",
       "      <th>Price_to_rating</th>\n",
       "      <th>Wine_Count</th>\n",
       "      <th>Tannin_Mean</th>\n",
       "      <th>Acidity_Mean</th>\n",
       "      <th>Intensity_Mean</th>\n",
       "      <th>Sweetness_Mean</th>\n",
       "      <th>Price</th>\n",
       "      <th>Rating</th>\n",
       "      <th>Price_Rating</th>\n",
       "      <th>ave_growing_temp</th>\n",
       "    </tr>\n",
       "    <tr>\n",
       "      <th>Country</th>\n",
       "      <th></th>\n",
       "      <th></th>\n",
       "      <th></th>\n",
       "      <th></th>\n",
       "      <th></th>\n",
       "      <th></th>\n",
       "      <th></th>\n",
       "      <th></th>\n",
       "      <th></th>\n",
       "      <th></th>\n",
       "    </tr>\n",
       "  </thead>\n",
       "  <tbody>\n",
       "    <tr>\n",
       "      <th>Argentina</th>\n",
       "      <td>0.006615</td>\n",
       "      <td>4796</td>\n",
       "      <td>3.02</td>\n",
       "      <td>3.13</td>\n",
       "      <td>4.01</td>\n",
       "      <td>1.37</td>\n",
       "      <td>45.86</td>\n",
       "      <td>3.91</td>\n",
       "      <td>11.73</td>\n",
       "      <td>20</td>\n",
       "    </tr>\n",
       "    <tr>\n",
       "      <th>Australia</th>\n",
       "      <td>0.004225</td>\n",
       "      <td>4877</td>\n",
       "      <td>3.55</td>\n",
       "      <td>3.57</td>\n",
       "      <td>4.47</td>\n",
       "      <td>1.06</td>\n",
       "      <td>57.56</td>\n",
       "      <td>3.96</td>\n",
       "      <td>14.54</td>\n",
       "      <td>21</td>\n",
       "    </tr>\n",
       "    <tr>\n",
       "      <th>Canada</th>\n",
       "      <td>0.005403</td>\n",
       "      <td>1408</td>\n",
       "      <td>3.41</td>\n",
       "      <td>3.60</td>\n",
       "      <td>3.47</td>\n",
       "      <td>1.00</td>\n",
       "      <td>38.54</td>\n",
       "      <td>3.86</td>\n",
       "      <td>9.99</td>\n",
       "      <td>17</td>\n",
       "    </tr>\n",
       "    <tr>\n",
       "      <th>Chile</th>\n",
       "      <td>0.005486</td>\n",
       "      <td>2196</td>\n",
       "      <td>2.86</td>\n",
       "      <td>2.83</td>\n",
       "      <td>4.34</td>\n",
       "      <td>1.05</td>\n",
       "      <td>58.02</td>\n",
       "      <td>3.84</td>\n",
       "      <td>15.12</td>\n",
       "      <td>17</td>\n",
       "    </tr>\n",
       "    <tr>\n",
       "      <th>France</th>\n",
       "      <td>0.002702</td>\n",
       "      <td>27271</td>\n",
       "      <td>3.52</td>\n",
       "      <td>3.96</td>\n",
       "      <td>3.76</td>\n",
       "      <td>1.03</td>\n",
       "      <td>149.05</td>\n",
       "      <td>4.06</td>\n",
       "      <td>36.75</td>\n",
       "      <td>19</td>\n",
       "    </tr>\n",
       "    <tr>\n",
       "      <th>Italy</th>\n",
       "      <td>0.003979</td>\n",
       "      <td>35999</td>\n",
       "      <td>3.56</td>\n",
       "      <td>3.57</td>\n",
       "      <td>3.70</td>\n",
       "      <td>1.26</td>\n",
       "      <td>78.04</td>\n",
       "      <td>4.00</td>\n",
       "      <td>19.49</td>\n",
       "      <td>21</td>\n",
       "    </tr>\n",
       "    <tr>\n",
       "      <th>Portugal</th>\n",
       "      <td>0.005678</td>\n",
       "      <td>2162</td>\n",
       "      <td>3.72</td>\n",
       "      <td>3.12</td>\n",
       "      <td>4.59</td>\n",
       "      <td>1.08</td>\n",
       "      <td>59.30</td>\n",
       "      <td>3.94</td>\n",
       "      <td>15.04</td>\n",
       "      <td>19</td>\n",
       "    </tr>\n",
       "    <tr>\n",
       "      <th>Spain</th>\n",
       "      <td>0.004839</td>\n",
       "      <td>7927</td>\n",
       "      <td>3.90</td>\n",
       "      <td>3.63</td>\n",
       "      <td>4.18</td>\n",
       "      <td>1.00</td>\n",
       "      <td>67.45</td>\n",
       "      <td>3.96</td>\n",
       "      <td>17.02</td>\n",
       "      <td>22</td>\n",
       "    </tr>\n",
       "    <tr>\n",
       "      <th>United States</th>\n",
       "      <td>0.004670</td>\n",
       "      <td>29775</td>\n",
       "      <td>3.32</td>\n",
       "      <td>3.36</td>\n",
       "      <td>4.23</td>\n",
       "      <td>1.09</td>\n",
       "      <td>117.16</td>\n",
       "      <td>4.10</td>\n",
       "      <td>28.55</td>\n",
       "      <td>20</td>\n",
       "    </tr>\n",
       "  </tbody>\n",
       "</table>\n",
       "</div>"
      ],
      "text/plain": [
       "               Price_to_rating  Wine_Count  Tannin_Mean  Acidity_Mean   \n",
       "Country                                                                 \n",
       "Argentina             0.006615        4796         3.02          3.13  \\\n",
       "Australia             0.004225        4877         3.55          3.57   \n",
       "Canada                0.005403        1408         3.41          3.60   \n",
       "Chile                 0.005486        2196         2.86          2.83   \n",
       "France                0.002702       27271         3.52          3.96   \n",
       "Italy                 0.003979       35999         3.56          3.57   \n",
       "Portugal              0.005678        2162         3.72          3.12   \n",
       "Spain                 0.004839        7927         3.90          3.63   \n",
       "United States         0.004670       29775         3.32          3.36   \n",
       "\n",
       "               Intensity_Mean  Sweetness_Mean   Price  Rating  Price_Rating   \n",
       "Country                                                                       \n",
       "Argentina                4.01            1.37   45.86    3.91         11.73  \\\n",
       "Australia                4.47            1.06   57.56    3.96         14.54   \n",
       "Canada                   3.47            1.00   38.54    3.86          9.99   \n",
       "Chile                    4.34            1.05   58.02    3.84         15.12   \n",
       "France                   3.76            1.03  149.05    4.06         36.75   \n",
       "Italy                    3.70            1.26   78.04    4.00         19.49   \n",
       "Portugal                 4.59            1.08   59.30    3.94         15.04   \n",
       "Spain                    4.18            1.00   67.45    3.96         17.02   \n",
       "United States            4.23            1.09  117.16    4.10         28.55   \n",
       "\n",
       "               ave_growing_temp  \n",
       "Country                          \n",
       "Argentina                    20  \n",
       "Australia                    21  \n",
       "Canada                       17  \n",
       "Chile                        17  \n",
       "France                       19  \n",
       "Italy                        21  \n",
       "Portugal                     19  \n",
       "Spain                        22  \n",
       "United States                20  "
      ]
     },
     "execution_count": 118,
     "metadata": {},
     "output_type": "execute_result"
    }
   ],
   "source": [
    "min_values = merged_df.groupby('Country').min()\n",
    "max_values = merged_df.groupby('Country').max()\n",
    "max_values"
   ]
  },
  {
   "cell_type": "code",
   "execution_count": null,
   "metadata": {},
   "outputs": [
    {
     "data": {
      "text/html": [
       "<div>\n",
       "<style scoped>\n",
       "    .dataframe tbody tr th:only-of-type {\n",
       "        vertical-align: middle;\n",
       "    }\n",
       "\n",
       "    .dataframe tbody tr th {\n",
       "        vertical-align: top;\n",
       "    }\n",
       "\n",
       "    .dataframe thead th {\n",
       "        text-align: right;\n",
       "    }\n",
       "</style>\n",
       "<table border=\"1\" class=\"dataframe\">\n",
       "  <thead>\n",
       "    <tr style=\"text-align: right;\">\n",
       "      <th></th>\n",
       "      <th>Country</th>\n",
       "      <th>Price_to_rating</th>\n",
       "      <th>Wine_Count</th>\n",
       "      <th>Tannin_Mean</th>\n",
       "      <th>Acidity_Mean</th>\n",
       "      <th>Intensity_Mean</th>\n",
       "      <th>Sweetness_Mean</th>\n",
       "      <th>Price</th>\n",
       "      <th>Rating</th>\n",
       "      <th>Price_Rating</th>\n",
       "      <th>ave_growing_temp</th>\n",
       "    </tr>\n",
       "  </thead>\n",
       "  <tbody>\n",
       "    <tr>\n",
       "      <th>8</th>\n",
       "      <td>Argentina</td>\n",
       "      <td>0.006615</td>\n",
       "      <td>4796</td>\n",
       "      <td>3.02</td>\n",
       "      <td>3.13</td>\n",
       "      <td>4.01</td>\n",
       "      <td>1.37</td>\n",
       "      <td>45.86</td>\n",
       "      <td>3.91</td>\n",
       "      <td>11.73</td>\n",
       "      <td>20</td>\n",
       "    </tr>\n",
       "    <tr>\n",
       "      <th>2</th>\n",
       "      <td>Australia</td>\n",
       "      <td>0.004225</td>\n",
       "      <td>4877</td>\n",
       "      <td>3.55</td>\n",
       "      <td>3.57</td>\n",
       "      <td>4.47</td>\n",
       "      <td>1.06</td>\n",
       "      <td>57.56</td>\n",
       "      <td>3.96</td>\n",
       "      <td>14.54</td>\n",
       "      <td>21</td>\n",
       "    </tr>\n",
       "    <tr>\n",
       "      <th>5</th>\n",
       "      <td>Canada</td>\n",
       "      <td>0.005403</td>\n",
       "      <td>1408</td>\n",
       "      <td>3.41</td>\n",
       "      <td>3.60</td>\n",
       "      <td>3.47</td>\n",
       "      <td>1.00</td>\n",
       "      <td>38.54</td>\n",
       "      <td>3.86</td>\n",
       "      <td>9.99</td>\n",
       "      <td>17</td>\n",
       "    </tr>\n",
       "    <tr>\n",
       "      <th>6</th>\n",
       "      <td>Chile</td>\n",
       "      <td>0.005486</td>\n",
       "      <td>2196</td>\n",
       "      <td>2.86</td>\n",
       "      <td>2.83</td>\n",
       "      <td>4.34</td>\n",
       "      <td>1.05</td>\n",
       "      <td>58.02</td>\n",
       "      <td>3.84</td>\n",
       "      <td>15.12</td>\n",
       "      <td>17</td>\n",
       "    </tr>\n",
       "    <tr>\n",
       "      <th>0</th>\n",
       "      <td>France</td>\n",
       "      <td>0.002702</td>\n",
       "      <td>27271</td>\n",
       "      <td>3.52</td>\n",
       "      <td>3.96</td>\n",
       "      <td>3.76</td>\n",
       "      <td>1.03</td>\n",
       "      <td>149.05</td>\n",
       "      <td>4.06</td>\n",
       "      <td>36.75</td>\n",
       "      <td>19</td>\n",
       "    </tr>\n",
       "    <tr>\n",
       "      <th>1</th>\n",
       "      <td>Italy</td>\n",
       "      <td>0.003979</td>\n",
       "      <td>35999</td>\n",
       "      <td>3.56</td>\n",
       "      <td>3.57</td>\n",
       "      <td>3.70</td>\n",
       "      <td>1.26</td>\n",
       "      <td>78.04</td>\n",
       "      <td>4.00</td>\n",
       "      <td>19.49</td>\n",
       "      <td>21</td>\n",
       "    </tr>\n",
       "    <tr>\n",
       "      <th>7</th>\n",
       "      <td>Portugal</td>\n",
       "      <td>0.005678</td>\n",
       "      <td>2162</td>\n",
       "      <td>3.72</td>\n",
       "      <td>3.12</td>\n",
       "      <td>4.59</td>\n",
       "      <td>1.08</td>\n",
       "      <td>59.30</td>\n",
       "      <td>3.94</td>\n",
       "      <td>15.04</td>\n",
       "      <td>19</td>\n",
       "    </tr>\n",
       "    <tr>\n",
       "      <th>4</th>\n",
       "      <td>Spain</td>\n",
       "      <td>0.004839</td>\n",
       "      <td>7927</td>\n",
       "      <td>3.90</td>\n",
       "      <td>3.63</td>\n",
       "      <td>4.18</td>\n",
       "      <td>1.00</td>\n",
       "      <td>67.45</td>\n",
       "      <td>3.96</td>\n",
       "      <td>17.02</td>\n",
       "      <td>22</td>\n",
       "    </tr>\n",
       "    <tr>\n",
       "      <th>3</th>\n",
       "      <td>United States</td>\n",
       "      <td>0.004670</td>\n",
       "      <td>29775</td>\n",
       "      <td>3.32</td>\n",
       "      <td>3.36</td>\n",
       "      <td>4.23</td>\n",
       "      <td>1.09</td>\n",
       "      <td>117.16</td>\n",
       "      <td>4.10</td>\n",
       "      <td>28.55</td>\n",
       "      <td>20</td>\n",
       "    </tr>\n",
       "  </tbody>\n",
       "</table>\n",
       "</div>"
      ],
      "text/plain": [
       "         Country  Price_to_rating  Wine_Count  Tannin_Mean  Acidity_Mean   \n",
       "8      Argentina         0.006615        4796         3.02          3.13  \\\n",
       "2      Australia         0.004225        4877         3.55          3.57   \n",
       "5         Canada         0.005403        1408         3.41          3.60   \n",
       "6          Chile         0.005486        2196         2.86          2.83   \n",
       "0         France         0.002702       27271         3.52          3.96   \n",
       "1          Italy         0.003979       35999         3.56          3.57   \n",
       "7       Portugal         0.005678        2162         3.72          3.12   \n",
       "4          Spain         0.004839        7927         3.90          3.63   \n",
       "3  United States         0.004670       29775         3.32          3.36   \n",
       "\n",
       "   Intensity_Mean  Sweetness_Mean   Price  Rating  Price_Rating   \n",
       "8            4.01            1.37   45.86    3.91         11.73  \\\n",
       "2            4.47            1.06   57.56    3.96         14.54   \n",
       "5            3.47            1.00   38.54    3.86          9.99   \n",
       "6            4.34            1.05   58.02    3.84         15.12   \n",
       "0            3.76            1.03  149.05    4.06         36.75   \n",
       "1            3.70            1.26   78.04    4.00         19.49   \n",
       "7            4.59            1.08   59.30    3.94         15.04   \n",
       "4            4.18            1.00   67.45    3.96         17.02   \n",
       "3            4.23            1.09  117.16    4.10         28.55   \n",
       "\n",
       "   ave_growing_temp  \n",
       "8                20  \n",
       "2                21  \n",
       "5                17  \n",
       "6                17  \n",
       "0                19  \n",
       "1                21  \n",
       "7                19  \n",
       "4                22  \n",
       "3                20  "
      ]
     },
     "execution_count": 100,
     "metadata": {},
     "output_type": "execute_result"
    }
   ],
   "source": [
    "merged_df = pd.merge(price_country_statistics, country_statistics, on = 'Country')\n",
    "merged_df = merged_df.sort_values(by = 'Country')\n",
    "merged_df['ave_growing_temp'] = [20, 21, 17, 17, 19, 21, 19, 22, 20]"
   ]
  },
  {
   "cell_type": "code",
   "execution_count": 128,
   "metadata": {},
   "outputs": [
    {
     "name": "stdout",
     "output_type": "stream",
     "text": [
      "          Country                  Statistic\n",
      "1       Argentina   Price_to_rating Most Max\n",
      "11      Argentina    Sweetness_Mean Most Max\n",
      "2          Canada        Wine_Count Most Min\n",
      "8          Canada    Intensity_Mean Most Min\n",
      "18         Canada  ave_growing_temp Most Min\n",
      "10         Canada    Sweetness_Mean Most Min\n",
      "12         Canada             Price Most Min\n",
      "16         Canada      Price_Rating Most Min\n",
      "4           Chile       Tannin_Mean Most Min\n",
      "6           Chile      Acidity_Mean Most Min\n",
      "14          Chile            Rating Most Min\n",
      "0          France   Price_to_rating Most Min\n",
      "17         France      Price_Rating Most Max\n",
      "7          France      Acidity_Mean Most Max\n",
      "13         France             Price Most Max\n",
      "3           Italy        Wine_Count Most Max\n",
      "9        Portugal    Intensity_Mean Most Max\n",
      "5           Spain       Tannin_Mean Most Max\n",
      "19          Spain  ave_growing_temp Most Max\n",
      "15  United States            Rating Most Max\n"
     ]
    }
   ],
   "source": [
    "columns = merged_df.columns[1:]  # Exclude the 'Country' column\n",
    "\n",
    "min_countries = {col: merged_df.loc[merged_df[col].idxmin(), 'Country'] for col in columns}\n",
    "max_countries = {col: merged_df.loc[merged_df[col].idxmax(), 'Country'] for col in columns}\n",
    "\n",
    "# Create a new DataFrame with the result in the desired format\n",
    "result = []\n",
    "\n",
    "for col in columns:\n",
    "    result.append([merged_df.loc[merged_df[col].idxmin(), 'Country'], f\"{col} Most Min\"])\n",
    "    result.append([merged_df.loc[merged_df[col].idxmax(), 'Country'], f\"{col} Most Max\"])\n",
    "\n",
    "# Convert the result into a DataFrame\n",
    "result_df = pd.DataFrame(result, columns=[\"Country\", \"Statistic\"])\n",
    "result_df = result_df.sort_values(by = 'Country' )\n",
    "print(result_df)"
   ]
  },
  {
   "cell_type": "code",
   "execution_count": 148,
   "metadata": {},
   "outputs": [],
   "source": [
    "merged_df['Statistics'] = ['Best Value <br>Most Sweet', '<br>Least Intense <br>Least Sweet', 'Least Tannic, <br>Least Acidic', 'Worst Value! <br>Most Acidic', 'Most Popular', 'Highest Intensity', 'Most Tannic', 'Most Tannic', 'Highest Rated']"
   ]
  },
  {
   "cell_type": "code",
   "execution_count": 149,
   "metadata": {},
   "outputs": [
    {
     "data": {
      "application/vnd.plotly.v1+json": {
       "config": {
        "plotlyServerURL": "https://plot.ly"
       },
       "data": [
        {
         "coloraxis": "coloraxis",
         "customdata": [
          [
           "Argentina",
           "Best Value <br>Most Sweet"
          ],
          [
           "Australia",
           "<br>Least Intense <br>Least Sweet"
          ],
          [
           "Canada",
           "Least Tannic, <br>Least Acidic"
          ],
          [
           "Chile",
           "Worst Value! <br>Most Acidic"
          ],
          [
           "France",
           "Most Popular"
          ],
          [
           "Italy",
           "Highest Intensity"
          ],
          [
           "Portugal",
           "Most Tannic"
          ],
          [
           "Spain",
           "Most Tannic"
          ],
          [
           "United States",
           "Highest Rated"
          ]
         ],
         "geo": "geo",
         "hovertemplate": "Country=%{customdata[0]}<br>Statistics=%{customdata[1]}<br>Color=%{z}<extra></extra>",
         "locationmode": "country names",
         "locations": [
          "Argentina",
          "Australia",
          "Canada",
          "Chile",
          "France",
          "Italy",
          "Portugal",
          "Spain",
          "United States"
         ],
         "name": "",
         "type": "choropleth",
         "z": [
          1,
          1,
          1,
          1,
          1,
          1,
          1,
          1,
          1
         ]
        }
       ],
       "layout": {
        "coloraxis": {
         "cmax": 1.5,
         "cmin": 0.5,
         "colorbar": {
          "title": {
           "text": "Color"
          }
         },
         "colorscale": [
          [
           0,
           "rgb(255,245,240)"
          ],
          [
           0.125,
           "rgb(254,224,210)"
          ],
          [
           0.25,
           "rgb(252,187,161)"
          ],
          [
           0.375,
           "rgb(252,146,114)"
          ],
          [
           0.5,
           "rgb(251,106,74)"
          ],
          [
           0.625,
           "rgb(239,59,44)"
          ],
          [
           0.75,
           "rgb(203,24,29)"
          ],
          [
           0.875,
           "rgb(165,15,21)"
          ],
          [
           1,
           "rgb(103,0,13)"
          ]
         ]
        },
        "geo": {
         "center": {},
         "domain": {
          "x": [
           0,
           1
          ],
          "y": [
           0,
           1
          ]
         },
         "landcolor": "lightgray",
         "oceancolor": "lightblue",
         "showcoastlines": true,
         "showcountries": true,
         "showland": true,
         "showocean": true
        },
        "hoverlabel": {
         "bgcolor": "Dark Grey",
         "bordercolor": "white",
         "font": {
          "color": "white",
          "family": "Arial",
          "size": 16,
          "weight": "bold"
         }
        },
        "legend": {
         "tracegroupgap": 0
        },
        "margin": {
         "b": 0,
         "l": 0,
         "r": 0,
         "t": 0
        },
        "template": {
         "data": {
          "bar": [
           {
            "error_x": {
             "color": "#2a3f5f"
            },
            "error_y": {
             "color": "#2a3f5f"
            },
            "marker": {
             "line": {
              "color": "#E5ECF6",
              "width": 0.5
             },
             "pattern": {
              "fillmode": "overlay",
              "size": 10,
              "solidity": 0.2
             }
            },
            "type": "bar"
           }
          ],
          "barpolar": [
           {
            "marker": {
             "line": {
              "color": "#E5ECF6",
              "width": 0.5
             },
             "pattern": {
              "fillmode": "overlay",
              "size": 10,
              "solidity": 0.2
             }
            },
            "type": "barpolar"
           }
          ],
          "carpet": [
           {
            "aaxis": {
             "endlinecolor": "#2a3f5f",
             "gridcolor": "white",
             "linecolor": "white",
             "minorgridcolor": "white",
             "startlinecolor": "#2a3f5f"
            },
            "baxis": {
             "endlinecolor": "#2a3f5f",
             "gridcolor": "white",
             "linecolor": "white",
             "minorgridcolor": "white",
             "startlinecolor": "#2a3f5f"
            },
            "type": "carpet"
           }
          ],
          "choropleth": [
           {
            "colorbar": {
             "outlinewidth": 0,
             "ticks": ""
            },
            "type": "choropleth"
           }
          ],
          "contour": [
           {
            "colorbar": {
             "outlinewidth": 0,
             "ticks": ""
            },
            "colorscale": [
             [
              0,
              "#0d0887"
             ],
             [
              0.1111111111111111,
              "#46039f"
             ],
             [
              0.2222222222222222,
              "#7201a8"
             ],
             [
              0.3333333333333333,
              "#9c179e"
             ],
             [
              0.4444444444444444,
              "#bd3786"
             ],
             [
              0.5555555555555556,
              "#d8576b"
             ],
             [
              0.6666666666666666,
              "#ed7953"
             ],
             [
              0.7777777777777778,
              "#fb9f3a"
             ],
             [
              0.8888888888888888,
              "#fdca26"
             ],
             [
              1,
              "#f0f921"
             ]
            ],
            "type": "contour"
           }
          ],
          "contourcarpet": [
           {
            "colorbar": {
             "outlinewidth": 0,
             "ticks": ""
            },
            "type": "contourcarpet"
           }
          ],
          "heatmap": [
           {
            "colorbar": {
             "outlinewidth": 0,
             "ticks": ""
            },
            "colorscale": [
             [
              0,
              "#0d0887"
             ],
             [
              0.1111111111111111,
              "#46039f"
             ],
             [
              0.2222222222222222,
              "#7201a8"
             ],
             [
              0.3333333333333333,
              "#9c179e"
             ],
             [
              0.4444444444444444,
              "#bd3786"
             ],
             [
              0.5555555555555556,
              "#d8576b"
             ],
             [
              0.6666666666666666,
              "#ed7953"
             ],
             [
              0.7777777777777778,
              "#fb9f3a"
             ],
             [
              0.8888888888888888,
              "#fdca26"
             ],
             [
              1,
              "#f0f921"
             ]
            ],
            "type": "heatmap"
           }
          ],
          "heatmapgl": [
           {
            "colorbar": {
             "outlinewidth": 0,
             "ticks": ""
            },
            "colorscale": [
             [
              0,
              "#0d0887"
             ],
             [
              0.1111111111111111,
              "#46039f"
             ],
             [
              0.2222222222222222,
              "#7201a8"
             ],
             [
              0.3333333333333333,
              "#9c179e"
             ],
             [
              0.4444444444444444,
              "#bd3786"
             ],
             [
              0.5555555555555556,
              "#d8576b"
             ],
             [
              0.6666666666666666,
              "#ed7953"
             ],
             [
              0.7777777777777778,
              "#fb9f3a"
             ],
             [
              0.8888888888888888,
              "#fdca26"
             ],
             [
              1,
              "#f0f921"
             ]
            ],
            "type": "heatmapgl"
           }
          ],
          "histogram": [
           {
            "marker": {
             "pattern": {
              "fillmode": "overlay",
              "size": 10,
              "solidity": 0.2
             }
            },
            "type": "histogram"
           }
          ],
          "histogram2d": [
           {
            "colorbar": {
             "outlinewidth": 0,
             "ticks": ""
            },
            "colorscale": [
             [
              0,
              "#0d0887"
             ],
             [
              0.1111111111111111,
              "#46039f"
             ],
             [
              0.2222222222222222,
              "#7201a8"
             ],
             [
              0.3333333333333333,
              "#9c179e"
             ],
             [
              0.4444444444444444,
              "#bd3786"
             ],
             [
              0.5555555555555556,
              "#d8576b"
             ],
             [
              0.6666666666666666,
              "#ed7953"
             ],
             [
              0.7777777777777778,
              "#fb9f3a"
             ],
             [
              0.8888888888888888,
              "#fdca26"
             ],
             [
              1,
              "#f0f921"
             ]
            ],
            "type": "histogram2d"
           }
          ],
          "histogram2dcontour": [
           {
            "colorbar": {
             "outlinewidth": 0,
             "ticks": ""
            },
            "colorscale": [
             [
              0,
              "#0d0887"
             ],
             [
              0.1111111111111111,
              "#46039f"
             ],
             [
              0.2222222222222222,
              "#7201a8"
             ],
             [
              0.3333333333333333,
              "#9c179e"
             ],
             [
              0.4444444444444444,
              "#bd3786"
             ],
             [
              0.5555555555555556,
              "#d8576b"
             ],
             [
              0.6666666666666666,
              "#ed7953"
             ],
             [
              0.7777777777777778,
              "#fb9f3a"
             ],
             [
              0.8888888888888888,
              "#fdca26"
             ],
             [
              1,
              "#f0f921"
             ]
            ],
            "type": "histogram2dcontour"
           }
          ],
          "mesh3d": [
           {
            "colorbar": {
             "outlinewidth": 0,
             "ticks": ""
            },
            "type": "mesh3d"
           }
          ],
          "parcoords": [
           {
            "line": {
             "colorbar": {
              "outlinewidth": 0,
              "ticks": ""
             }
            },
            "type": "parcoords"
           }
          ],
          "pie": [
           {
            "automargin": true,
            "type": "pie"
           }
          ],
          "scatter": [
           {
            "fillpattern": {
             "fillmode": "overlay",
             "size": 10,
             "solidity": 0.2
            },
            "type": "scatter"
           }
          ],
          "scatter3d": [
           {
            "line": {
             "colorbar": {
              "outlinewidth": 0,
              "ticks": ""
             }
            },
            "marker": {
             "colorbar": {
              "outlinewidth": 0,
              "ticks": ""
             }
            },
            "type": "scatter3d"
           }
          ],
          "scattercarpet": [
           {
            "marker": {
             "colorbar": {
              "outlinewidth": 0,
              "ticks": ""
             }
            },
            "type": "scattercarpet"
           }
          ],
          "scattergeo": [
           {
            "marker": {
             "colorbar": {
              "outlinewidth": 0,
              "ticks": ""
             }
            },
            "type": "scattergeo"
           }
          ],
          "scattergl": [
           {
            "marker": {
             "colorbar": {
              "outlinewidth": 0,
              "ticks": ""
             }
            },
            "type": "scattergl"
           }
          ],
          "scattermapbox": [
           {
            "marker": {
             "colorbar": {
              "outlinewidth": 0,
              "ticks": ""
             }
            },
            "type": "scattermapbox"
           }
          ],
          "scatterpolar": [
           {
            "marker": {
             "colorbar": {
              "outlinewidth": 0,
              "ticks": ""
             }
            },
            "type": "scatterpolar"
           }
          ],
          "scatterpolargl": [
           {
            "marker": {
             "colorbar": {
              "outlinewidth": 0,
              "ticks": ""
             }
            },
            "type": "scatterpolargl"
           }
          ],
          "scatterternary": [
           {
            "marker": {
             "colorbar": {
              "outlinewidth": 0,
              "ticks": ""
             }
            },
            "type": "scatterternary"
           }
          ],
          "surface": [
           {
            "colorbar": {
             "outlinewidth": 0,
             "ticks": ""
            },
            "colorscale": [
             [
              0,
              "#0d0887"
             ],
             [
              0.1111111111111111,
              "#46039f"
             ],
             [
              0.2222222222222222,
              "#7201a8"
             ],
             [
              0.3333333333333333,
              "#9c179e"
             ],
             [
              0.4444444444444444,
              "#bd3786"
             ],
             [
              0.5555555555555556,
              "#d8576b"
             ],
             [
              0.6666666666666666,
              "#ed7953"
             ],
             [
              0.7777777777777778,
              "#fb9f3a"
             ],
             [
              0.8888888888888888,
              "#fdca26"
             ],
             [
              1,
              "#f0f921"
             ]
            ],
            "type": "surface"
           }
          ],
          "table": [
           {
            "cells": {
             "fill": {
              "color": "#EBF0F8"
             },
             "line": {
              "color": "white"
             }
            },
            "header": {
             "fill": {
              "color": "#C8D4E3"
             },
             "line": {
              "color": "white"
             }
            },
            "type": "table"
           }
          ]
         },
         "layout": {
          "annotationdefaults": {
           "arrowcolor": "#2a3f5f",
           "arrowhead": 0,
           "arrowwidth": 1
          },
          "autotypenumbers": "strict",
          "coloraxis": {
           "colorbar": {
            "outlinewidth": 0,
            "ticks": ""
           }
          },
          "colorscale": {
           "diverging": [
            [
             0,
             "#8e0152"
            ],
            [
             0.1,
             "#c51b7d"
            ],
            [
             0.2,
             "#de77ae"
            ],
            [
             0.3,
             "#f1b6da"
            ],
            [
             0.4,
             "#fde0ef"
            ],
            [
             0.5,
             "#f7f7f7"
            ],
            [
             0.6,
             "#e6f5d0"
            ],
            [
             0.7,
             "#b8e186"
            ],
            [
             0.8,
             "#7fbc41"
            ],
            [
             0.9,
             "#4d9221"
            ],
            [
             1,
             "#276419"
            ]
           ],
           "sequential": [
            [
             0,
             "#0d0887"
            ],
            [
             0.1111111111111111,
             "#46039f"
            ],
            [
             0.2222222222222222,
             "#7201a8"
            ],
            [
             0.3333333333333333,
             "#9c179e"
            ],
            [
             0.4444444444444444,
             "#bd3786"
            ],
            [
             0.5555555555555556,
             "#d8576b"
            ],
            [
             0.6666666666666666,
             "#ed7953"
            ],
            [
             0.7777777777777778,
             "#fb9f3a"
            ],
            [
             0.8888888888888888,
             "#fdca26"
            ],
            [
             1,
             "#f0f921"
            ]
           ],
           "sequentialminus": [
            [
             0,
             "#0d0887"
            ],
            [
             0.1111111111111111,
             "#46039f"
            ],
            [
             0.2222222222222222,
             "#7201a8"
            ],
            [
             0.3333333333333333,
             "#9c179e"
            ],
            [
             0.4444444444444444,
             "#bd3786"
            ],
            [
             0.5555555555555556,
             "#d8576b"
            ],
            [
             0.6666666666666666,
             "#ed7953"
            ],
            [
             0.7777777777777778,
             "#fb9f3a"
            ],
            [
             0.8888888888888888,
             "#fdca26"
            ],
            [
             1,
             "#f0f921"
            ]
           ]
          },
          "colorway": [
           "#636efa",
           "#EF553B",
           "#00cc96",
           "#ab63fa",
           "#FFA15A",
           "#19d3f3",
           "#FF6692",
           "#B6E880",
           "#FF97FF",
           "#FECB52"
          ],
          "font": {
           "color": "#2a3f5f"
          },
          "geo": {
           "bgcolor": "white",
           "lakecolor": "white",
           "landcolor": "#E5ECF6",
           "showlakes": true,
           "showland": true,
           "subunitcolor": "white"
          },
          "hoverlabel": {
           "align": "left"
          },
          "hovermode": "closest",
          "mapbox": {
           "style": "light"
          },
          "paper_bgcolor": "white",
          "plot_bgcolor": "#E5ECF6",
          "polar": {
           "angularaxis": {
            "gridcolor": "white",
            "linecolor": "white",
            "ticks": ""
           },
           "bgcolor": "#E5ECF6",
           "radialaxis": {
            "gridcolor": "white",
            "linecolor": "white",
            "ticks": ""
           }
          },
          "scene": {
           "xaxis": {
            "backgroundcolor": "#E5ECF6",
            "gridcolor": "white",
            "gridwidth": 2,
            "linecolor": "white",
            "showbackground": true,
            "ticks": "",
            "zerolinecolor": "white"
           },
           "yaxis": {
            "backgroundcolor": "#E5ECF6",
            "gridcolor": "white",
            "gridwidth": 2,
            "linecolor": "white",
            "showbackground": true,
            "ticks": "",
            "zerolinecolor": "white"
           },
           "zaxis": {
            "backgroundcolor": "#E5ECF6",
            "gridcolor": "white",
            "gridwidth": 2,
            "linecolor": "white",
            "showbackground": true,
            "ticks": "",
            "zerolinecolor": "white"
           }
          },
          "shapedefaults": {
           "line": {
            "color": "#2a3f5f"
           }
          },
          "ternary": {
           "aaxis": {
            "gridcolor": "white",
            "linecolor": "white",
            "ticks": ""
           },
           "baxis": {
            "gridcolor": "white",
            "linecolor": "white",
            "ticks": ""
           },
           "bgcolor": "#E5ECF6",
           "caxis": {
            "gridcolor": "white",
            "linecolor": "white",
            "ticks": ""
           }
          },
          "title": {
           "x": 0.05
          },
          "xaxis": {
           "automargin": true,
           "gridcolor": "white",
           "linecolor": "white",
           "ticks": "",
           "title": {
            "standoff": 15
           },
           "zerolinecolor": "white",
           "zerolinewidth": 2
          },
          "yaxis": {
           "automargin": true,
           "gridcolor": "white",
           "linecolor": "white",
           "ticks": "",
           "title": {
            "standoff": 15
           },
           "zerolinecolor": "white",
           "zerolinewidth": 2
          }
         }
        },
        "title": {
         "text": "World Map with Uniform Colors and Dropdown"
        },
        "updatemenus": [
         {
          "buttons": [
           {
            "args": [
             {
              "z": [
               [
                1,
                1,
                1,
                1,
                1,
                1,
                1,
                1,
                1
               ]
              ]
             }
            ],
            "label": "Show All",
            "method": "update"
           },
           {
            "args": [
             {
              "z": [
               [
                1,
                0.7,
                0.7,
                0.7,
                0.7,
                0.7,
                0.7,
                0.7,
                0.7
               ]
              ]
             },
             {
              "color_continuous_scale": "Reds"
             }
            ],
            "label": "Argentina",
            "method": "update"
           },
           {
            "args": [
             {
              "z": [
               [
                0.7,
                1,
                0.7,
                0.7,
                0.7,
                0.7,
                0.7,
                0.7,
                0.7
               ]
              ]
             },
             {
              "color_continuous_scale": "Reds"
             }
            ],
            "label": "Australia",
            "method": "update"
           },
           {
            "args": [
             {
              "z": [
               [
                0.7,
                0.7,
                1,
                0.7,
                0.7,
                0.7,
                0.7,
                0.7,
                0.7
               ]
              ]
             },
             {
              "color_continuous_scale": "Reds"
             }
            ],
            "label": "Canada",
            "method": "update"
           },
           {
            "args": [
             {
              "z": [
               [
                0.7,
                0.7,
                0.7,
                1,
                0.7,
                0.7,
                0.7,
                0.7,
                0.7
               ]
              ]
             },
             {
              "color_continuous_scale": "Reds"
             }
            ],
            "label": "Chile",
            "method": "update"
           },
           {
            "args": [
             {
              "z": [
               [
                0.7,
                0.7,
                0.7,
                0.7,
                1,
                0.7,
                0.7,
                0.7,
                0.7
               ]
              ]
             },
             {
              "color_continuous_scale": "Reds"
             }
            ],
            "label": "France",
            "method": "update"
           },
           {
            "args": [
             {
              "z": [
               [
                0.7,
                0.7,
                0.7,
                0.7,
                0.7,
                1,
                0.7,
                0.7,
                0.7
               ]
              ]
             },
             {
              "color_continuous_scale": "Reds"
             }
            ],
            "label": "Italy",
            "method": "update"
           },
           {
            "args": [
             {
              "z": [
               [
                0.7,
                0.7,
                0.7,
                0.7,
                0.7,
                0.7,
                1,
                0.7,
                0.7
               ]
              ]
             },
             {
              "color_continuous_scale": "Reds"
             }
            ],
            "label": "Portugal",
            "method": "update"
           },
           {
            "args": [
             {
              "z": [
               [
                0.7,
                0.7,
                0.7,
                0.7,
                0.7,
                0.7,
                0.7,
                1,
                0.7
               ]
              ]
             },
             {
              "color_continuous_scale": "Reds"
             }
            ],
            "label": "Spain",
            "method": "update"
           },
           {
            "args": [
             {
              "z": [
               [
                0.7,
                0.7,
                0.7,
                0.7,
                0.7,
                0.7,
                0.7,
                0.7,
                1
               ]
              ]
             },
             {
              "color_continuous_scale": "Reds"
             }
            ],
            "label": "United States",
            "method": "update"
           }
          ],
          "direction": "down",
          "showactive": true,
          "x": 0.5,
          "xanchor": "center",
          "y": 1.15,
          "yanchor": "top"
         }
        ]
       }
      }
     },
     "metadata": {},
     "output_type": "display_data"
    }
   ],
   "source": [
    "import plotly.express as px\n",
    "import pandas as pd\n",
    "\n",
    "# Add a uniform color column for all countries\n",
    "merged_df['Color'] = 1  # All countries have the same color initially\n",
    "\n",
    "# Create the choropleth map\n",
    "fig = px.choropleth(\n",
    "    data_frame=merged_df,\n",
    "    locations=\"Country\",\n",
    "    locationmode=\"country names\",\n",
    "    color=\"Color\",\n",
    "    color_continuous_scale=\"Reds\",\n",
    "    range_color=(0.5, 1.5),\n",
    "    title=\"World Map with Uniform Colors and Dropdown\",\n",
    "    hover_data=[\"Country\", \"Statistics\"]\n",
    ")\n",
    "\n",
    "# Update the layout to set the color for countries not in the DataFrame\n",
    "fig.update_geos(\n",
    "    showcoastlines=True,\n",
    "    showland=True,\n",
    "    landcolor=\"lightgray\",  # Set a specific color for countries not in the DataFrame\n",
    "    showocean=True,\n",
    "    oceancolor=\"lightblue\",\n",
    "    showcountries=True\n",
    ")\n",
    "\n",
    "# Add dropdown functionality to adjust color values\n",
    "fig.update_layout(\n",
    "    hoverlabel=dict(\n",
    "        bgcolor=\"Dark Grey\",  # Background color of the hover box\n",
    "        font_size=16,     # Font size\n",
    "        font_family=\"Arial\",  # Font family\n",
    "        font_color=\"white\",  # Font color\n",
    "        bordercolor=\"white\",  # Border color\n",
    "        # borderwidth=2,     # Border width\n",
    "        font_weight=\"bold\"  # Font weight\n",
    "    ),\n",
    "    updatemenus=[\n",
    "        {\n",
    "            'buttons': [\n",
    "                {\n",
    "                    'label': 'Show All',\n",
    "                    'method': 'update',\n",
    "                    'args': [\n",
    "                        {'z': [merged_df['Color']]},  # Reset all countries to full color\n",
    "                    ]\n",
    "                }\n",
    "            ] + [\n",
    "                {\n",
    "                    'label': country,\n",
    "                    'method': 'update',\n",
    "                    'args': [\n",
    "                        {'z': [merged_df['Color'].where(\n",
    "                            merged_df['Country'] == country, 0.7)]},  # Highlight selected country\n",
    "                        {'color_continuous_scale': \"Reds\",}  # Orange gradient for the selected country\n",
    "                    ]\n",
    "                }\n",
    "                for country in merged_df['Country']\n",
    "            ],\n",
    "            'direction': 'down',\n",
    "            'showactive': True,\n",
    "            'x': 0.5,\n",
    "            'xanchor': 'center',\n",
    "            'y': 1.15,\n",
    "            'yanchor': 'top'\n",
    "        }\n",
    "    ]\n",
    ")\n",
    "\n",
    "# Remove margins for better display\n",
    "fig.update_layout(margin=dict(l=0, r=0, t=0, b=0))\n",
    "\n",
    "# Show the plot\n",
    "fig.show()\n",
    "fig.write_html(\"plotly_chart.html\")\n"
   ]
  },
  {
   "cell_type": "code",
   "execution_count": null,
   "metadata": {},
   "outputs": [],
   "source": []
  }
 ],
 "metadata": {
  "kernelspec": {
   "display_name": "Python 3",
   "language": "python",
   "name": "python3"
  },
  "language_info": {
   "codemirror_mode": {
    "name": "ipython",
    "version": 3
   },
   "file_extension": ".py",
   "mimetype": "text/x-python",
   "name": "python",
   "nbconvert_exporter": "python",
   "pygments_lexer": "ipython3",
   "version": "3.10.11"
  }
 },
 "nbformat": 4,
 "nbformat_minor": 2
}
